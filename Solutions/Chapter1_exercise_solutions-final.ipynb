{
 "cells": [
  {
   "cell_type": "markdown",
   "id": "1e724525",
   "metadata": {
    "id": "1e724525"
   },
   "source": [
    "#### Exercise 1.1"
   ]
  },
  {
   "cell_type": "code",
   "execution_count": null,
   "id": "cc7d0278",
   "metadata": {
    "colab": {
     "base_uri": "https://localhost:8080/"
    },
    "id": "cc7d0278",
    "outputId": "1182fa98-3397-4782-8e39-9e909d4de1b1"
   },
   "outputs": [],
   "source": [
    "#Exercise 1.1\n",
    "print('4*5 =', 4*5)\n",
    "print('10/2 =',10/2)\n",
    "print('(2-10)/5 =', (2-10)/5)\n",
    "x, y = 5, 3.142\n",
    "print('x =',x)\n",
    "print('y =',y)"
   ]
  },
  {
   "cell_type": "markdown",
   "id": "f2e89d57",
   "metadata": {
    "id": "f2e89d57"
   },
   "source": [
    "#### Exercise 1.2"
   ]
  },
  {
   "cell_type": "code",
   "execution_count": null,
   "id": "6e2e4acc",
   "metadata": {
    "colab": {
     "base_uri": "https://localhost:8080/"
    },
    "id": "6e2e4acc",
    "outputId": "bd290fc5-a251-44d0-8e78-34c9c8b444cb"
   },
   "outputs": [],
   "source": [
    "#Exercise 1.2\n",
    "help(round)\n",
    "print(round(2.66))\n",
    "print(round(-5.13))\n",
    "print(round(100.231,2))\n",
    "print(round(100.231459,4))\n",
    "print(round(-10.13, 4))"
   ]
  },
  {
   "cell_type": "markdown",
   "id": "5b7a0534",
   "metadata": {
    "id": "5b7a0534"
   },
   "source": [
    "#### Exercise 1.3"
   ]
  },
  {
   "cell_type": "code",
   "execution_count": null,
   "id": "7ba44693",
   "metadata": {
    "colab": {
     "base_uri": "https://localhost:8080/"
    },
    "id": "7ba44693",
    "outputId": "e7882dcd-e017-41f2-d6b1-c10bbbf3357b"
   },
   "outputs": [],
   "source": [
    "#Exercise 1.3 - Part (1)\n",
    "dir(__builtins__)"
   ]
  },
  {
   "cell_type": "code",
   "execution_count": null,
   "id": "29fa40c2",
   "metadata": {
    "colab": {
     "base_uri": "https://localhost:8080/"
    },
    "id": "29fa40c2",
    "outputId": "6ae00823-78fe-433e-9f06-b037f5507256"
   },
   "outputs": [],
   "source": [
    "#Exercise 1.3 - Parts (2) and (3)\n",
    "help(sum)\n",
    "help(max)"
   ]
  },
  {
   "cell_type": "markdown",
   "id": "8e7d43d3",
   "metadata": {
    "id": "8e7d43d3"
   },
   "source": [
    "#### Exercise 1.4"
   ]
  },
  {
   "cell_type": "code",
   "execution_count": null,
   "id": "fc67d64a",
   "metadata": {
    "colab": {
     "base_uri": "https://localhost:8080/"
    },
    "id": "fc67d64a",
    "outputId": "df0d8922-6590-4a6e-db0b-6a65925f318f"
   },
   "outputs": [],
   "source": [
    "#Exercise 1.4\n",
    "welcome_message = 'Welcome to our book.'\n",
    "chapter_number = 1\n",
    "chapter_str = str(chapter_number)\n",
    "full_message = welcome_message + ' This is Chapter ' + chapter_str + '.'\n",
    "print(full_message)"
   ]
  },
  {
   "cell_type": "markdown",
   "id": "e46a4b76",
   "metadata": {
    "id": "e46a4b76"
   },
   "source": [
    "#### Exercise 1.5"
   ]
  },
  {
   "cell_type": "code",
   "execution_count": null,
   "id": "92439feb",
   "metadata": {
    "colab": {
     "base_uri": "https://localhost:8080/"
    },
    "id": "92439feb",
    "outputId": "225ee657-95b7-426c-a1d2-b839639c0e8d"
   },
   "outputs": [],
   "source": [
    "#Exercise 1.5 - Part (1)\n",
    "help(range)"
   ]
  },
  {
   "cell_type": "code",
   "execution_count": null,
   "id": "b2fb924c",
   "metadata": {
    "colab": {
     "base_uri": "https://localhost:8080/"
    },
    "id": "b2fb924c",
    "outputId": "73fe4f68-bb56-4ed0-dc20-319cd2af3a3c"
   },
   "outputs": [],
   "source": [
    "#Exercise 1.5 - the rest of the parts\n",
    "r = range(2,9)\n",
    "print(r)\n",
    "newL = list(r)\n",
    "print(newL)\n",
    "newL.insert(3, -1)\n",
    "print(newL)"
   ]
  },
  {
   "cell_type": "markdown",
   "id": "96b60a88",
   "metadata": {
    "id": "96b60a88"
   },
   "source": [
    "#### Exercise1.6"
   ]
  },
  {
   "cell_type": "code",
   "execution_count": null,
   "id": "b77c9b57",
   "metadata": {
    "colab": {
     "base_uri": "https://localhost:8080/"
    },
    "id": "b77c9b57",
    "outputId": "5a331cb8-afcd-4053-e434-760f3e17f6db"
   },
   "outputs": [],
   "source": [
    "#Exercise 1.6\n",
    "t1 = (-8, 12, 30)\n",
    "t2 = tuple('abc12')\n",
    "t3 = ('hello',)\n",
    "\n",
    "print('t1:', t1)\n",
    "print('t2:', t2)\n",
    "print('t3:', t3)\n",
    "\n",
    "print('Type of t1:', type(t1))\n",
    "print('Type of t2:', type(t2))\n",
    "print('Type of t3:', type(t3))"
   ]
  },
  {
   "cell_type": "markdown",
   "id": "61cf2e06",
   "metadata": {
    "id": "61cf2e06"
   },
   "source": [
    "#### Exercise 1.7"
   ]
  },
  {
   "cell_type": "code",
   "execution_count": null,
   "id": "0a962257",
   "metadata": {
    "colab": {
     "base_uri": "https://localhost:8080/"
    },
    "id": "0a962257",
    "outputId": "dd9c843f-9277-4842-daab-63a283311d01"
   },
   "outputs": [],
   "source": [
    "#Exercise 1.7\n",
    "myChars = 'Good Morning'\n",
    "myChars_list = list(myChars)\n",
    "myChars_tuple = tuple(myChars_list)\n",
    "print('myChars:', myChars)\n",
    "print('myChars_list:',myChars_list)\n",
    "print('myChars_tuple:',myChars_tuple)\n",
    "print(type(myChars))\n",
    "print(type(myChars_list))\n",
    "print(type(myChars_tuple))"
   ]
  },
  {
   "cell_type": "code",
   "execution_count": null,
   "id": "cd9eae6d",
   "metadata": {
    "colab": {
     "base_uri": "https://localhost:8080/"
    },
    "id": "cd9eae6d",
    "outputId": "5c5c133a-0552-4531-ab51-19f08369869b"
   },
   "outputs": [],
   "source": [
    "help(type)"
   ]
  },
  {
   "cell_type": "markdown",
   "id": "bb770632",
   "metadata": {
    "id": "bb770632"
   },
   "source": [
    "####Exercise 1.8"
   ]
  },
  {
   "cell_type": "code",
   "execution_count": null,
   "id": "ab86e96d",
   "metadata": {
    "colab": {
     "base_uri": "https://localhost:8080/"
    },
    "id": "ab86e96d",
    "outputId": "91744281-42d2-49eb-c3f3-382a5b872168"
   },
   "outputs": [],
   "source": [
    "#Exercise 1.8\n",
    "fruit_colours = {}\n",
    "\n",
    "fruit_colours['Banana'] = 'Yellow'\n",
    "fruit_colours['Apple'] = 'Red'\n",
    "fruit_colours['Grapes'] = 'Green'\n",
    "\n",
    "print('dictionary fruit_colours is:',fruit_colours)\n",
    "\n",
    "print('Apple colour is:',fruit_colours['Apple'])\n",
    "\n",
    "fruit_colours['Grapes'] = 'Purple'\n",
    "\n",
    "del fruit_colours['Banana']\n",
    "\n",
    "print('dictionary fruit_colours is now:',fruit_colours)\n",
    "\n",
    "print('type of dictionary is:',type(fruit_colours))\n"
   ]
  },
  {
   "cell_type": "markdown",
   "id": "3d4be87f",
   "metadata": {
    "id": "3d4be87f"
   },
   "source": [
    "#### Exercise 1.9"
   ]
  },
  {
   "cell_type": "code",
   "execution_count": null,
   "id": "6ba01cf4",
   "metadata": {
    "colab": {
     "base_uri": "https://localhost:8080/"
    },
    "id": "6ba01cf4",
    "outputId": "528f145f-0a6f-449e-ee31-a309dfc78c65"
   },
   "outputs": [],
   "source": [
    "#Exercise 1.9\n",
    "a=10\n",
    "b= 4\n",
    "\n",
    "print('a>b is',a>b)\n",
    "print('a==b is',a==b)\n",
    "print('a<b is',a<b)\n",
    "\n",
    "print(type(a>b))\n",
    "print(type(a==b))\n",
    "print(type(a<b))"
   ]
  },
  {
   "cell_type": "code",
   "execution_count": null,
   "id": "f84b6e6f",
   "metadata": {
    "colab": {
     "base_uri": "https://localhost:8080/"
    },
    "id": "f84b6e6f",
    "outputId": "b5b4d10e-b6e1-4c0a-908e-08a6f57bfe83"
   },
   "outputs": [],
   "source": [
    "print(type(__builtins__))"
   ]
  },
  {
   "cell_type": "markdown",
   "id": "a472e6ed",
   "metadata": {
    "id": "a472e6ed"
   },
   "source": [
    "#### Exercise 1.10"
   ]
  },
  {
   "cell_type": "code",
   "execution_count": null,
   "id": "4b594951",
   "metadata": {
    "colab": {
     "base_uri": "https://localhost:8080/"
    },
    "id": "4b594951",
    "outputId": "e0be0b35-a08c-46c5-ee42-cadb7ee8d801"
   },
   "outputs": [],
   "source": [
    "#Exercise 1.10\n",
    "student = {\n",
    "    'name': 'Arjun',\n",
    "    'year': 'Year 6',\n",
    "    'score': 91\n",
    "}\n",
    "\n",
    "print(type(student))\n",
    "\n",
    "print(student.keys())\n",
    "\n",
    "print(student.values())\n",
    "\n",
    "print(student.items())\n"
   ]
  },
  {
   "cell_type": "code",
   "execution_count": null,
   "id": "2d26b69c",
   "metadata": {
    "id": "2d26b69c"
   },
   "outputs": [],
   "source": [
    "dir(dict)"
   ]
  },
  {
   "cell_type": "markdown",
   "id": "b9b22880",
   "metadata": {
    "id": "b9b22880"
   },
   "source": [
    "#### Exercise 1.11"
   ]
  },
  {
   "cell_type": "code",
   "execution_count": null,
   "id": "dbfcdd3f",
   "metadata": {
    "id": "dbfcdd3f"
   },
   "outputs": [],
   "source": [
    "#Exercise 1.11 - part (1)\n",
    "import numpy as np\n",
    "a = np.array([-1, 3.2, 1.4])\n",
    "b = np.array([0.3, 0.5, 1.4])"
   ]
  },
  {
   "cell_type": "code",
   "execution_count": null,
   "id": "487b5e2e",
   "metadata": {
    "colab": {
     "base_uri": "https://localhost:8080/"
    },
    "id": "487b5e2e",
    "outputId": "f130f2be-38c3-4020-fdba-bd53c7c87f67"
   },
   "outputs": [],
   "source": [
    "#Exercise 1.11 - part (2)\n",
    "print(a+b)\n",
    "print(a-b)\n",
    "print(-a)\n",
    "print(a*b)\n",
    "print(a/b)\n",
    "print(a//b)\n",
    "print(b**2)\n",
    "print(a%b)"
   ]
  },
  {
   "cell_type": "code",
   "execution_count": null,
   "id": "d248cf93",
   "metadata": {
    "colab": {
     "base_uri": "https://localhost:8080/"
    },
    "id": "d248cf93",
    "outputId": "bf653ab1-5ff8-4279-da1a-9524d44fb31d"
   },
   "outputs": [],
   "source": [
    "#Exercise 1.11 - part (3)\n",
    "print(a == b)\n",
    "print(a != b)\n",
    "print(a < b)\n",
    "print(a <= b)\n",
    "print(a > b)\n",
    "print(a >= b)\n"
   ]
  },
  {
   "cell_type": "code",
   "execution_count": null,
   "id": "3f0db42f",
   "metadata": {
    "colab": {
     "base_uri": "https://localhost:8080/"
    },
    "id": "3f0db42f",
    "outputId": "0df36d4b-2725-4e91-cc98-40d44631e97c"
   },
   "outputs": [],
   "source": [
    "#Exercise 1.11 - part (4)\n",
    "print((a > 0) & (a < 1.5))\n",
    "print((a > 0) & (b < 1))\n",
    "print((a == b) | (a > b))\n",
    "print(~(a > b))"
   ]
  },
  {
   "cell_type": "markdown",
   "id": "493b2da7",
   "metadata": {
    "id": "493b2da7"
   },
   "source": [
    "#### Exercise 1.12- Practice using np.sort() and the axis argument"
   ]
  },
  {
   "cell_type": "code",
   "execution_count": null,
   "id": "9da74aa6",
   "metadata": {
    "colab": {
     "base_uri": "https://localhost:8080/"
    },
    "id": "9da74aa6",
    "outputId": "52163a41-d77e-44e4-b4fe-3ef1461ebf5e"
   },
   "outputs": [],
   "source": [
    "#Exercise 1.12\n",
    "import numpy as np\n",
    "np.random.seed(421)\n",
    "\n",
    "oneD = np.random.randint(1, 51, size=10)\n",
    "print('The original 1D array:', oneD)\n",
    "a_sort_array = np.sort(oneD)\n",
    "print('The array in ascending order:', a_sort_array)\n",
    "d_sort_array = a_sort_array[::-1]\n",
    "print('The array in decending order:', d_sort_array)\n",
    "\n",
    "twoD = np.random.randint(1, 51, size=(3,4))\n",
    "print('The original 2D array: \\n', twoD)\n",
    "a_sort_2D_rows = np.sort(twoD)\n",
    "print('Sorted 2D array by rows: \\n',a_sort_2D_rows)\n",
    "a_sort_2D_cols = np.sort(twoD, axis=0)\n",
    "print('Sorted 2D array by columns: \\n',a_sort_2D_cols)\n",
    "\n",
    "max_col = np.max(twoD, axis=0)\n",
    "print('The maximum of each column:', max_col)\n",
    "min_row = np.min(twoD, axis=1)\n",
    "print('The minimum of each row:', min_row)\n",
    "sum_col = np.sum(twoD, axis=0)\n",
    "print('The sum of each column:', sum_col)\n",
    "mean_row = np.mean(twoD, axis=1)\n",
    "print('The mean of each row:', mean_row)"
   ]
  },
  {
   "cell_type": "code",
   "execution_count": null,
   "id": "zwdXxhHh3ezh",
   "metadata": {
    "colab": {
     "base_uri": "https://localhost:8080/"
    },
    "id": "zwdXxhHh3ezh",
    "outputId": "d9327b91-ede9-4964-af0a-609b61de2ee4"
   },
   "outputs": [],
   "source": [
    "#Exercise 1.13 - part (1)\n",
    "from sympy import FiniteSet, Union, Intersection\n",
    "x = FiniteSet(1,2,3,4,5)\n",
    "y = FiniteSet (4,5,6,7,8)\n",
    "z = FiniteSet (6,7,8,9,10)\n",
    "intersect = Intersection(y,z)\n",
    "print('intersect =',intersect)\n",
    "combined = Union(x,intersect)\n",
    "print('combined = ',combined)\n",
    "final = Intersection(Union(x,y),Union(y,z))\n",
    "print('final = ',final)"
   ]
  },
  {
   "cell_type": "code",
   "execution_count": null,
   "id": "hlxaD6Hl9POa",
   "metadata": {
    "colab": {
     "base_uri": "https://localhost:8080/"
    },
    "id": "hlxaD6Hl9POa",
    "outputId": "ca71a67c-a8ee-457e-b95a-252f21ffb635"
   },
   "outputs": [],
   "source": [
    "#Exercise 1.13 - part (2)\n",
    "import sympy as sp\n",
    "x = sp.Symbol('x')\n",
    "function1 = sp.cos(x)\n",
    "derivative1 = sp.diff(function1,x)\n",
    "print('f\\'(x) =', derivative1)\n",
    "function2 = sp.ln(x)\n",
    "derivative2 = sp.diff(function2,x)\n",
    "print('f\\'(x) =', derivative2)\n",
    "function3 = sp.exp(x) + sp.sin(x)\n",
    "derivative3 = sp.diff(function3,x)\n",
    "print('f\\'(x) =', derivative3)\n",
    "function4 = sp.ln(x) * sp.cos(x)\n",
    "derivative4 = sp.diff(function4,x)\n",
    "print('f\\'(x) =', derivative4)\n",
    "function5 = x**3 * sp.cos(x)\n",
    "derivative5 = sp.diff(function5,x)\n",
    "print('f\\'(x) =', derivative5)"
   ]
  },
  {
   "cell_type": "code",
   "execution_count": null,
   "id": "0UMqGDq29hJV",
   "metadata": {
    "colab": {
     "base_uri": "https://localhost:8080/"
    },
    "id": "0UMqGDq29hJV",
    "outputId": "01288ffa-916d-4792-c30c-91d80e79ef3e"
   },
   "outputs": [],
   "source": [
    "#Exercise 1.13 - part (3)\n",
    "from sympy import symbols\n",
    "from sympy.stats import Uniform, E\n",
    "a = symbols ('a')\n",
    "X = Uniform ('x', -a, a)\n",
    "Mean = E(X)\n",
    "print('Mean is ', Mean)\n"
   ]
  },
  {
   "cell_type": "markdown",
   "id": "527e93bd",
   "metadata": {
    "id": "527e93bd"
   },
   "source": [
    "#### Exercise 1.14 - Pandas"
   ]
  },
  {
   "cell_type": "code",
   "execution_count": null,
   "id": "7abca58e",
   "metadata": {
    "colab": {
     "base_uri": "https://localhost:8080/"
    },
    "id": "7abca58e",
    "outputId": "9a1f44ad-febe-496f-bfec-a4efaa1dbb5d"
   },
   "outputs": [],
   "source": [
    "#Exercise 1.14\n",
    "import pandas as pd\n",
    "\n",
    "url = (\n",
    "    'https://archive.ics.uci.edu/ml/machine-learning-databases/'\n",
    "    'wine-quality/winequality-red.csv'\n",
    ")\n",
    "df = pd.read_csv(url, sep=\";\")\n",
    "print('The first five data items:\\n',df.head())\n",
    "print('The size of the data is:\\n',df.shape)\n",
    "print('Rows 11 to 15 and columns 1 to 4:\\n',df.iloc[10:15, 0:4])\n",
    "print('\\nSummary statistics:\\n',df.describe())\n",
    "print('\\nHighest quality rating is:\\n',df['quality'].max())\n",
    "print('Count of wines with each quality rating is:\\n',df['quality'].value_counts())"
   ]
  },
  {
   "cell_type": "code",
   "execution_count": null,
   "id": "9600eba7",
   "metadata": {
    "colab": {
     "base_uri": "https://localhost:8080/"
    },
    "id": "9600eba7",
    "outputId": "f6e480ef-ff0c-4f58-ee59-0711fc5e2bd9"
   },
   "outputs": [],
   "source": [
    "df['quality'].max()"
   ]
  },
  {
   "cell_type": "code",
   "execution_count": null,
   "id": "7c64fae5",
   "metadata": {
    "colab": {
     "base_uri": "https://localhost:8080/",
     "height": 300
    },
    "id": "7c64fae5",
    "outputId": "addd4a32-c0be-4ecd-8c03-00bf3cbc09dc"
   },
   "outputs": [],
   "source": [
    "df['quality'].value_counts()"
   ]
  },
  {
   "cell_type": "code",
   "execution_count": null,
   "id": "a95a67f1",
   "metadata": {
    "id": "a95a67f1",
    "scrolled": true
   },
   "outputs": [],
   "source": [
    "pd.Series.value_counts?"
   ]
  },
  {
   "cell_type": "code",
   "execution_count": null,
   "id": "0ab3ecc9",
   "metadata": {
    "id": "0ab3ecc9"
   },
   "outputs": [],
   "source": [
    "pd.Series.max?"
   ]
  },
  {
   "cell_type": "code",
   "execution_count": null,
   "id": "33710404",
   "metadata": {
    "colab": {
     "base_uri": "https://localhost:8080/"
    },
    "id": "33710404",
    "outputId": "90a87f60-4a32-4ad7-dbc2-46bba648b20f"
   },
   "outputs": [],
   "source": [
    "help(pd.Series.value_counts)"
   ]
  },
  {
   "cell_type": "markdown",
   "id": "ba459f63",
   "metadata": {
    "id": "ba459f63"
   },
   "source": [
    "#### Exercise 1.15"
   ]
  },
  {
   "cell_type": "code",
   "execution_count": null,
   "id": "191107ea",
   "metadata": {
    "id": "191107ea"
   },
   "outputs": [],
   "source": [
    "#Exercise 1.15 - part (1)\n",
    "from sklearn import datasets"
   ]
  },
  {
   "cell_type": "code",
   "execution_count": null,
   "id": "47774da6",
   "metadata": {
    "colab": {
     "base_uri": "https://localhost:8080/",
     "height": 105
    },
    "id": "47774da6",
    "outputId": "af7dc982-be8f-4b6e-cf85-a1c557c59a4e"
   },
   "outputs": [],
   "source": [
    "#In this box, on the next line, type datasets. (including the dot). Then press the Tab key.\n"
   ]
  },
  {
   "cell_type": "code",
   "execution_count": null,
   "id": "40d9868d",
   "metadata": {
    "colab": {
     "base_uri": "https://localhost:8080/",
     "height": 326
    },
    "id": "40d9868d",
    "outputId": "5f2c861b-29e8-48c8-f6ca-1bfd3aa4c8ce"
   },
   "outputs": [],
   "source": [
    "#Exercise 1.15 - parts (2) - (7)\n",
    "import pandas as pd\n",
    "\n",
    "wine_dataset = datasets.load_wine()\n",
    "print(type(wine_dataset))\n",
    "print(wine_dataset.keys())\n",
    "\n",
    "print('Feature Names:', wine_dataset.feature_names)\n",
    "print('Target Names (species):', wine_dataset.target_names)\n",
    "print('The type of the wine data:', type(wine_dataset.data))\n",
    "print('The size of the wine data:', wine_dataset.data.shape)\n",
    "\n",
    "wine_df = pd.DataFrame(\n",
    "    wine_dataset.data,\n",
    "    columns=wine_dataset.feature_names\n",
    ")\n",
    "wine_df.head()"
   ]
  },
  {
   "cell_type": "markdown",
   "id": "b464e9d2",
   "metadata": {
    "id": "b464e9d2"
   },
   "source": [
    "#### Exercise 1.16"
   ]
  },
  {
   "cell_type": "code",
   "execution_count": null,
   "id": "ea5a0e47",
   "metadata": {
    "colab": {
     "base_uri": "https://localhost:8080/"
    },
    "id": "ea5a0e47",
    "outputId": "8a9cdd11-4cc9-45c1-f9b2-457da5cdc93d"
   },
   "outputs": [],
   "source": [
    "import matplotlib.pyplot as plt\n",
    "plt.colormaps()"
   ]
  },
  {
   "cell_type": "code",
   "execution_count": null,
   "id": "15a82aff",
   "metadata": {
    "colab": {
     "base_uri": "https://localhost:8080/",
     "height": 824
    },
    "id": "15a82aff",
    "outputId": "edf8651a-c3fc-4782-e242-2d61b5d33763"
   },
   "outputs": [],
   "source": [
    "#Exercise 1.16\n",
    "from sklearn.datasets import load_iris\n",
    "import matplotlib.pyplot as plt\n",
    "\n",
    "iris = load_iris()\n",
    "X = iris.data\n",
    "y = iris.target\n",
    "target_names = iris.target_names\n",
    "sizes = ((X[:, 0] - X[:, 0].min()) / (X[:, 0].max() - X[:, 0].min())) * 150\n",
    "\n",
    "fig, axes = plt.subplots(2, 1, figsize=(4, 8))\n",
    "\n",
    "axes[0].plot(X[y == 0, 2], X[y == 0, 3], 'o', label='Setosa')\n",
    "axes[0].plot(X[y == 1, 2], X[y == 1, 3], '^', label='Versicolor')\n",
    "axes[0].plot(X[y == 2, 2], X[y == 2, 3], 'd', label='Virginica')\n",
    "axes[0].set_xlabel('Petal length (cm)')\n",
    "axes[0].set_ylabel('Petal width (cm)')\n",
    "axes[0].legend()\n",
    "\n",
    "scatter = axes[1].scatter(X[:, 2], X[:, 3], c=y, s=sizes, cmap='tab10')\n",
    "axes[1].set_xlabel('Petal length (cm)')\n",
    "axes[1].set_ylabel('Petal width (cm)')\n",
    "legend_cbar = fig.colorbar(scatter, ax=axes[1], ticks=[0, 1, 2])\n",
    "legend_cbar.ax.set_yticklabels(target_names)\n",
    "\n",
    "plt.tight_layout()\n",
    "plt.savefig(\"iris_2.eps\", format='eps', dpi=600)"
   ]
  },
  {
   "cell_type": "code",
   "execution_count": null,
   "id": "baa6d115-5ef7-49f4-ab01-e0847862e0b5",
   "metadata": {},
   "outputs": [],
   "source": [
    "plt.colormaps()"
   ]
  },
  {
   "cell_type": "code",
   "execution_count": null,
   "id": "ae3389ac",
   "metadata": {
    "id": "ae3389ac"
   },
   "outputs": [],
   "source": [
    "iris.feature_names"
   ]
  },
  {
   "cell_type": "markdown",
   "id": "7858f1ce",
   "metadata": {
    "id": "7858f1ce"
   },
   "source": [
    "#### Exercise 1.17"
   ]
  },
  {
   "cell_type": "code",
   "execution_count": null,
   "id": "f7d6d91f",
   "metadata": {
    "colab": {
     "base_uri": "https://localhost:8080/"
    },
    "id": "f7d6d91f",
    "outputId": "5e9fc3e4-40dd-442e-d214-f15940bce8b2"
   },
   "outputs": [],
   "source": [
    "#Exercise 1.17\n",
    "import numpy as np\n",
    "a = np.random.randint(1, 11, size=1)\n",
    "b = np.random.randint(1, 11, size=1)\n",
    "print(a)\n",
    "print(b)\n",
    "if a>b:\n",
    "    print('a is bigger than b by the amount:',a-b)\n",
    "elif a<b:\n",
    "    print('b is bigger than a by the amount:',b-a)\n",
    "else:\n",
    "    print('These two values are the same.')"
   ]
  },
  {
   "cell_type": "markdown",
   "id": "7b76364a",
   "metadata": {
    "id": "7b76364a"
   },
   "source": [
    "#### Exercise 1.18"
   ]
  },
  {
   "cell_type": "code",
   "execution_count": null,
   "id": "78c765e7",
   "metadata": {
    "colab": {
     "base_uri": "https://localhost:8080/"
    },
    "id": "78c765e7",
    "outputId": "9128e419-a180-4aee-8b18-db31d2fb4bce"
   },
   "outputs": [],
   "source": [
    "#Exercise 1.18\n",
    "import numpy as np\n",
    "a = np.random.randint(1, 11, size=1)\n",
    "b = np.random.randint(1, 11, size=1)\n",
    "print(a)\n",
    "print(b)\n",
    "\n",
    "print('a is bigger than b by the amount:',a-b) if (a>b) else (print('b is bigger than a by the amount:',b-a) if a<b else (print('These two values are the same.')))"
   ]
  },
  {
   "cell_type": "markdown",
   "id": "52f368ef",
   "metadata": {
    "id": "52f368ef"
   },
   "source": [
    "#### Exercise 1.19"
   ]
  },
  {
   "cell_type": "code",
   "execution_count": null,
   "id": "480d66aa",
   "metadata": {
    "colab": {
     "base_uri": "https://localhost:8080/"
    },
    "id": "480d66aa",
    "outputId": "9e3762e6-e50f-45fb-e267-44bef3dcdec9"
   },
   "outputs": [],
   "source": [
    "#Exercise 1.19\n",
    "letters = 'Good morning!'\n",
    "for l in letters:\n",
    "    print(l)"
   ]
  },
  {
   "cell_type": "markdown",
   "id": "69904329",
   "metadata": {
    "id": "69904329"
   },
   "source": [
    "#### Exercise 1.20"
   ]
  },
  {
   "cell_type": "code",
   "execution_count": null,
   "id": "e3a7bb41",
   "metadata": {
    "colab": {
     "base_uri": "https://localhost:8080/"
    },
    "id": "e3a7bb41",
    "outputId": "ad0bb7dc-2d8c-4025-ae9b-32a41d2a0738"
   },
   "outputs": [],
   "source": [
    "#Exercise 1.20\n",
    "number = 1\n",
    "while number < 11:\n",
    "    print('number = ', number)\n",
    "    number = number + 1"
   ]
  },
  {
   "cell_type": "markdown",
   "id": "66ea818e-fe6f-4dc1-a56b-cc3b71da367b",
   "metadata": {},
   "source": [
    "#### Exercise 1.21"
   ]
  },
  {
   "cell_type": "code",
   "execution_count": null,
   "id": "tJGfWhtBRzXn",
   "metadata": {
    "colab": {
     "base_uri": "https://localhost:8080/"
    },
    "id": "tJGfWhtBRzXn",
    "outputId": "c189fd9b-e63d-4d55-8a72-18be0e11e35e"
   },
   "outputs": [],
   "source": [
    "#Exercise 1.21\n",
    "number = int(input('Enter a positive integer:'))\n",
    "while number > 0:\n",
    "    print('number = ', number)\n",
    "    number = number - 1"
   ]
  },
  {
   "cell_type": "markdown",
   "id": "c43adc9d",
   "metadata": {
    "id": "c43adc9d"
   },
   "source": [
    "#### Exercise 1.22"
   ]
  },
  {
   "cell_type": "code",
   "execution_count": null,
   "id": "5f03e687",
   "metadata": {
    "colab": {
     "base_uri": "https://localhost:8080/"
    },
    "id": "5f03e687",
    "outputId": "3b2f1fcd-a7e1-49c2-fbc2-f4344e5c7283"
   },
   "outputs": [],
   "source": [
    "#Exercise 1.22\n",
    "def divide1(a,b):\n",
    "    if a % b == 0:\n",
    "        c = a/b\n",
    "        print('a is divisible by b and a/b =', c)\n",
    "    else:\n",
    "        c = round(a/b, 2)\n",
    "        print('a is not divisible exactly by b and a/b equals about', c)\n",
    "\n",
    "x1 = 10\n",
    "y1 = 2\n",
    "divide1(x1, y1)\n",
    "\n",
    "x2 = 8\n",
    "y2 = 3\n",
    "divide1(x2, y2)"
   ]
  },
  {
   "cell_type": "markdown",
   "id": "7893b58a",
   "metadata": {
    "id": "7893b58a"
   },
   "source": [
    "#### Exercise 1.23 - lambda function"
   ]
  },
  {
   "cell_type": "code",
   "execution_count": null,
   "id": "a2719211",
   "metadata": {
    "colab": {
     "base_uri": "https://localhost:8080/",
     "height": 466
    },
    "id": "a2719211",
    "outputId": "0dfb39cd-98d3-4e3b-9dd7-174412a54b69"
   },
   "outputs": [],
   "source": [
    "#Exercise 1.23 - lambda function - part (1)\n",
    "import matplotlib.pyplot as plt\n",
    "import numpy as np\n",
    "\n",
    "f = lambda x: 1/(1+np.exp(-x))\n",
    "\n",
    "x = np.linspace(-10,10)\n",
    "y=f(x)\n",
    "\n",
    "plt.plot(x,y)\n",
    "plt.xlabel('x'), plt.ylabel('y')\n"
   ]
  },
  {
   "cell_type": "code",
   "execution_count": null,
   "id": "75777cd6",
   "metadata": {
    "colab": {
     "base_uri": "https://localhost:8080/"
    },
    "id": "75777cd6",
    "outputId": "c46c042b-bf81-479c-a106-12293a4e8cd0"
   },
   "outputs": [],
   "source": [
    "#Exercise 1.23 - lambda function - part (2)\n",
    "import numpy as np\n",
    "\n",
    "def sigmoid_function(x):\n",
    "\n",
    "    y=1/(1+np.exp(-x))\n",
    "    return y\n",
    "\n",
    "x=0\n",
    "y=sigmoid_function(0)\n",
    "print(y)"
   ]
  }
 ],
 "metadata": {
  "colab": {
   "provenance": []
  },
  "kernelspec": {
   "display_name": "Python 3 (ipykernel)",
   "language": "python",
   "name": "python3"
  },
  "language_info": {
   "codemirror_mode": {
    "name": "ipython",
    "version": 3
   },
   "file_extension": ".py",
   "mimetype": "text/x-python",
   "name": "python",
   "nbconvert_exporter": "python",
   "pygments_lexer": "ipython3",
   "version": "3.11.7"
  }
 },
 "nbformat": 4,
 "nbformat_minor": 5
}
