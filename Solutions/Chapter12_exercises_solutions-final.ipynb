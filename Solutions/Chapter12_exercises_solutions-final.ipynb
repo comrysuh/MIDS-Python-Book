{
 "cells": [
  {
   "cell_type": "markdown",
   "id": "46040e40-2e1e-45f5-a1b6-faf3e362025a",
   "metadata": {},
   "source": [
    "#### Exercise 12.1 - part (1)"
   ]
  },
  {
   "cell_type": "code",
   "execution_count": null,
   "id": "0506f130",
   "metadata": {},
   "outputs": [],
   "source": [
    "#Exercise 12.1 - part (1)\n",
    "import numpy as np\n",
    "import scipy.stats as stats\n",
    "\n",
    "data1 = np.array([1,4,5,7,6,6,6,10])\n",
    "print('The mean of the data is ', np.mean(data1))\n",
    "print('The median of the data is ', np.median(data1))\n",
    "mode_output = stats.mode(data1)\n",
    "print(f'The mode of the data is {mode_output.mode} and the count is {mode_output.count}')"
   ]
  },
  {
   "cell_type": "markdown",
   "id": "3e4788f5-c304-40e5-a7b5-9233398932b2",
   "metadata": {},
   "source": [
    "#### Exercise 12.1 - part (2)"
   ]
  },
  {
   "cell_type": "code",
   "execution_count": null,
   "id": "77cb39a0",
   "metadata": {},
   "outputs": [],
   "source": [
    "#Exercise 12.1 - part (2)\n",
    "import numpy as np\n",
    "import scipy.stats as stats\n",
    "\n",
    "data2 = np.array([3,6,9,10,7,12,5])\n",
    "print('The mean of the data is ', np.mean(data2))\n",
    "print('The median of the data is ', np.median(data2))\n",
    "mode_output = stats.mode(data2)\n",
    "print(f'The mode of the data is {mode_output.mode} and the count is {mode_output.count}')"
   ]
  },
  {
   "cell_type": "markdown",
   "id": "ccd4b99a-02a8-4d1f-83cc-7d7d76326c20",
   "metadata": {},
   "source": [
    "#### Exercise 12.2"
   ]
  },
  {
   "cell_type": "code",
   "execution_count": null,
   "id": "3164bd11",
   "metadata": {},
   "outputs": [],
   "source": [
    "#Exercise 12.2\n",
    "import numpy as np\n",
    "import scipy.stats as stats\n",
    "\n",
    "data = np.array([[5.8, 3, 10.7],[6.2, 9, 10.6],[5.7, 10, 10.8],[6.1, 7, 10.9 ],[6.0, 4,10.8],[6.0, 4, 10.8],[5.6, 12, 10.9],[6.0, 10,10.1],[5.9, 11, 10.2], [5.8, 6,10.4]])\n",
    "\n",
    "print('The data matrix is \\n', data)\n",
    "print('The mean of each column is ', np.mean(data, axis=0)) \n",
    "print('The mean of each row is ', np.mean(data, axis=1)) \n",
    "print('The median of each column is ', np.median(data, axis=0)) \n",
    "print('The median of each row is ', np.median(data, axis=1))\n",
    "mode_output = stats.mode(data, axis=0)\n",
    "print(f'The mode of each column is {mode_output.mode}\\nThe corresponding count is {mode_output.count}')\n",
    "mode_output1 = stats.mode(data, axis=1)\n",
    "print(f'The mode of each row is {mode_output1.mode}\\nThe corresponding count is {mode_output1.count}')\n",
    "print('The standard deviation of each column is ', np.std(data, axis=0)) \n",
    "print('The standard deviation of each row is ', np.std(data, axis=1))"
   ]
  },
  {
   "cell_type": "markdown",
   "id": "a3e31e53-7efb-4637-8bf8-0691cd2439ed",
   "metadata": {},
   "source": [
    "#### Exercise 12.3"
   ]
  },
  {
   "cell_type": "code",
   "execution_count": null,
   "id": "78fb06d6",
   "metadata": {},
   "outputs": [],
   "source": [
    "#Exercise 12.3\n",
    "import numpy as np\n",
    "import scipy.stats as stats\n",
    "\n",
    "x1 = np.array([2, 6, 3, 4, 6, 0, 6])\n",
    "print('The mean of x1 is', np.round(np.mean(x1),2))\n",
    "print('The median of x1 is',np.median(x1))\n",
    "mode_output = stats.mode(x1)\n",
    "if mode_output.count == 1:\n",
    "    print('All values are unique')\n",
    "else:\n",
    "    print(f'The mode of x1 is {mode_output.mode} and the count is {mode_output.count}')\n",
    "\n",
    "x2 = np.array([2, 1, 3, 4, 5, 0, 6])\n",
    "print('The mean of x2 is',np.mean(x2))\n",
    "print('The median of x2 is',np.median(x2))\n",
    "mode_output = stats.mode(x2)\n",
    "if mode_output.count == 1:\n",
    "    print('All values are unique')\n",
    "else:\n",
    "    print(f'The mode of x2 is {mode_output.mode} and the count is {mode_output.count}')\n"
   ]
  },
  {
   "cell_type": "markdown",
   "id": "c85b3910-4726-4027-880d-492ecacdcc16",
   "metadata": {},
   "source": [
    "#### Exercise 12.4"
   ]
  },
  {
   "cell_type": "code",
   "execution_count": null,
   "id": "0c8f9cbe",
   "metadata": {},
   "outputs": [],
   "source": [
    "#Exercise 12.4\n",
    "import statistics as stats\n",
    "\n",
    "x1 = np.array([2, 6, 3, 4, 6, 0, 6, 3, 3])\n",
    "mode_value = stats.multimode(x1)\n",
    "print(\"Modes for x1: \",mode_value)\n",
    "\n",
    "x2 = np.array([2, 2, 6, 3, 4, 1, 6, 0, 6, 3, 3, 2])\n",
    "mode_value = stats.multimode(x2)\n",
    "print(\"Modes for x2: \",mode_value)\n"
   ]
  },
  {
   "cell_type": "markdown",
   "id": "0f2b24e8-fb32-4cc3-a76b-36ad2b90e3d4",
   "metadata": {},
   "source": [
    "#### Exercise 12.5 - function definition"
   ]
  },
  {
   "cell_type": "code",
   "execution_count": null,
   "id": "277d17a5",
   "metadata": {},
   "outputs": [],
   "source": [
    "#Exercise 12.5 - function definition\n",
    "from scipy.stats import gaussian_kde\n",
    "\n",
    "def find_mode_conti_rv(x):\n",
    "    kde = gaussian_kde(x)\n",
    "    pdf_vals = kde(x) \n",
    "    mode_index = np.argmax(pdf_vals)  \n",
    "    mode_value = x[mode_index]  \n",
    "    return mode_value"
   ]
  },
  {
   "cell_type": "markdown",
   "id": "f9d8a796-3807-4d46-b5ab-e036e52ac5a2",
   "metadata": {},
   "source": [
    "#### Exercise 12.5 - solution"
   ]
  },
  {
   "cell_type": "code",
   "execution_count": null,
   "id": "135f629e",
   "metadata": {
    "scrolled": true
   },
   "outputs": [],
   "source": [
    "#Exercise 12.5 - solution\n",
    "import numpy as np\n",
    "from scipy.stats import norm, uniform\n",
    "import matplotlib.pyplot as plt\n",
    "\n",
    "seed =421\n",
    "data1 = norm.rvs(loc=2.5, scale=2, size=1000, random_state=seed)\n",
    "data2 = uniform.rvs(loc=0, scale=10, size=1000, random_state=seed)\n",
    "\n",
    "data = np.column_stack((data1, data2))\n",
    "\n",
    "fig, axes = plt.subplots(1, 2, figsize=(15, 5))\n",
    "\n",
    "for ax, col_data in zip(axes, data.T):\n",
    "    col_mean = np.mean(col_data)\n",
    "    col_median = np.median(col_data)\n",
    "    col_mode = find_mode_conti_rv(col_data)\n",
    "    ax.hist(col_data, bins=20, color='blue', alpha=1, edgecolor='black')\n",
    "    ax.set_title('Mean = {:.2f}\\n Median = {:.2f}\\n  Mode = {:.2f}'.format(col_mean, col_median, col_mode))\n",
    "    ax.set_ylabel('Frequency')\n",
    "    ax.grid(True)\n",
    "    ax.set_xlim(-12, 17)\n",
    "\n",
    "fig.savefig(\"average.eps\", format='eps', dpi=600)"
   ]
  },
  {
   "cell_type": "code",
   "execution_count": null,
   "id": "c856f312",
   "metadata": {},
   "outputs": [],
   "source": [
    "#Exercise 12.6\n",
    "import numpy as np\n",
    "\n",
    "data1 = np.array([1,4,5,7,6,6,6,10])\n",
    "data2 = np.array([3,6,9,10,7,12,5])\n",
    "\n",
    "print('The standard deviation of data1 is ', np.std(data1))\n",
    "print('The variance of data1 is ', np.var(data1))\n",
    "print('The standard deviation of data2 is ', np.std(data2))\n",
    "print('The variance of data2 is ', np.var(data2))\n",
    "\n",
    "print('The coefficient of variation of the data 1 is ', np.std(data1)/np.mean(data1))\n",
    "print('The coefficient of variation of the data 2 is ', np.std(data2)/np.mean(data2))"
   ]
  },
  {
   "cell_type": "markdown",
   "id": "af820446-63a7-49dd-a3fe-ac318dce7554",
   "metadata": {},
   "source": [
    "#### Exercise 12.7"
   ]
  },
  {
   "cell_type": "code",
   "execution_count": null,
   "id": "0be02d3b",
   "metadata": {
    "scrolled": true
   },
   "outputs": [],
   "source": [
    "#Exercise 12.7\n",
    "import matplotlib.pyplot as plt\n",
    "import numpy as np\n",
    "\n",
    "data = np.array([[1,4,5,7,6,6,6,8,9,13],\n",
    "                 [3,6,9,10,7,12,5,4,16,10]])\n",
    "data = data.T\n",
    "\n",
    "box = plt.boxplot(data, patch_artist=True, labels = ['Dataset 1', 'Dataset 2'], widths = 0.5)\n",
    "\n",
    "q1_data1 = box['boxes'][0].get_path().vertices[0, 1] \n",
    "q1_data2 = box['boxes'][1].get_path().vertices[0, 1]\n",
    "median_data1 = box['medians'][0].get_ydata()[0]\n",
    "median_data2 = box['medians'][1].get_ydata()[0]\n",
    "q3_data1 = box['boxes'][0].get_path().vertices[2, 1] \n",
    "q3_data2 = box['boxes'][1].get_path().vertices[2, 1] \n",
    "print('Quantiles for Dataset 1:\\n Q1:', q1_data1, 'Median', median_data1, 'Q3:', q3_data1)\n",
    "print('Quantiles for Dataset 2:\\n Q1:', q1_data2, 'Median', median_data2, 'Q3:', q3_data2)\n",
    "\n",
    "outliers_data1 = box['fliers'][0].get_ydata()\n",
    "outliers_data2 = box['fliers'][1].get_ydata()\n",
    "print('Outliers of Dataset 1:', outliers_data1)\n",
    "print('Outliers of Dataset 2:', outliers_data2)\n",
    "\n",
    "plt.tight_layout()\n",
    "plt.savefig('boxplot.eps', format='eps',dpi=600)\n"
   ]
  },
  {
   "cell_type": "markdown",
   "id": "0e5e69dc-a0da-4661-8dec-99712bd24675",
   "metadata": {},
   "source": [
    "#### Exercise 12.8 - Sampling distribution of means - parts (1) and (2)"
   ]
  },
  {
   "cell_type": "code",
   "execution_count": null,
   "id": "c24cc016",
   "metadata": {},
   "outputs": [],
   "source": [
    "#Exercise 12.8 - Sampling distribution of means - parts (1) and (2)\n",
    "import numpy as np\n",
    "import matplotlib.pyplot as plt\n",
    "\n",
    "np.random.seed(421)\n",
    "mu = 0\n",
    "sigma = 1\n",
    "sample_sizes = [5, 10, 25]\n",
    "num_samples = 5000\n",
    "\n",
    "fig, axes = plt.subplots(1, len(sample_sizes), figsize=(15, 5))\n",
    "\n",
    "for ax, n in zip(axes, sample_sizes):\n",
    "    sample_means = [np.mean(np.random.normal(mu, sigma, size=n)) for _ in range(num_samples)]\n",
    "    mu_sample_means = np.mean(sample_means)\n",
    "    sigma_sample_means = np.std(sample_means)\n",
    "    ax.hist(sample_means, bins=20, color='blue', alpha=1, edgecolor='black')\n",
    "    ax.set_title('Sample size = {}\\n $\\mu_x$ = {:.2f}\\n  $\\sigma_x$= {:.2f}'.format(n, mu_sample_means, sigma_sample_means))\n",
    "    ax.set_xlabel('Sample Mean')\n",
    "    ax.set_ylabel('Frequency', fontsize =\"15\")\n",
    "    ax.grid(True)\n",
    "    ax.set_xlim(-2, 2)\n",
    "\n",
    "plt.tight_layout()\n",
    "fig.savefig(\"distribution_sample_means.eps\", format='eps', dpi=600)"
   ]
  },
  {
   "cell_type": "markdown",
   "id": "eed9f5cb-a2f1-48f1-87fb-b627cadbd9f3",
   "metadata": {},
   "source": [
    "#### Exercise 12.8 - Sampling distribution of means - part (4)"
   ]
  },
  {
   "cell_type": "code",
   "execution_count": null,
   "id": "8d3bb24c",
   "metadata": {},
   "outputs": [],
   "source": [
    "#Exercise 12.8 - Sampling distribution of means - part (3)\n",
    "import numpy as np \n",
    "\n",
    "n1, n2, n3 = 5,10, 25\n",
    "sigma = 1\n",
    "sigma_x1 = sigma/np.sqrt(n1)\n",
    "sigma_x2 = sigma/np.sqrt(n2)\n",
    "sigma_x3 = sigma/np.sqrt(n3)\n",
    "print('For the first sampling of size 5,\\n the standard deviation of the sample means is ',np.round(sigma_x1,2))\n",
    "print('For the second sampling of size 10,\\n the standard deviation of the sample means is ',np.round(sigma_x2,2))\n",
    "print('For the third sampling of size 25,\\n the standard deviation of the sample means is ',np.round(sigma_x3,2))"
   ]
  },
  {
   "cell_type": "markdown",
   "id": "fd0ec7f9-a213-4434-90e4-98ce1eed47f1",
   "metadata": {},
   "source": [
    "#### Exercise 12.9"
   ]
  },
  {
   "cell_type": "code",
   "execution_count": null,
   "id": "ddb0e9d7",
   "metadata": {},
   "outputs": [],
   "source": [
    "#Exercise 12.9\n",
    "import numpy as np\n",
    "from scipy.stats import norm\n",
    "\n",
    "mu_p = 0.55\n",
    "n = 200\n",
    "sigma_p = np.sqrt(mu_p*(1-mu_p)/n)\n",
    "samp_prop = 0.6\n",
    "zscore = (samp_prop - mu_p)/sigma_p \n",
    "prob = 1- norm.cdf(zscore)\n",
    "print(prob)"
   ]
  },
  {
   "cell_type": "markdown",
   "id": "fea2da9d-eb58-4a8a-84ff-3fd8fe6f9ef6",
   "metadata": {},
   "source": [
    "#### Exercise 12.10 - t distribution"
   ]
  },
  {
   "cell_type": "code",
   "execution_count": null,
   "id": "c4fe7f44",
   "metadata": {},
   "outputs": [],
   "source": [
    "#Exercise 12.10 - t distribution\n",
    "import numpy as np\n",
    "from scipy.stats import t\n",
    "\n",
    "df = 14\n",
    "print('The t value =', t.ppf(1-0.05, df))\n",
    "print('The pdf at 2.18 =',t.pdf(2.18, df))\n",
    "print('The cdf at 2.18 =', t.cdf(2.18, df))"
   ]
  },
  {
   "cell_type": "markdown",
   "id": "db918580-0a92-4c80-af8d-1480b4fa2e27",
   "metadata": {},
   "source": [
    "#### Exercise 12.11 - Chi2 distribution"
   ]
  },
  {
   "cell_type": "code",
   "execution_count": null,
   "id": "73892664",
   "metadata": {},
   "outputs": [],
   "source": [
    "#Exercise 12.11 - Chi2 distribution\n",
    "import numpy as np\n",
    "from scipy.stats import chi2\n",
    "\n",
    "df = 4\n",
    "print('The chi2 value =', chi2.ppf(1-0.01, df))\n",
    "print('The pdf at 7.8 =',chi2.pdf(7.8, df))\n",
    "print('The cdf at 7.8 =', chi2.cdf(7.8, df))"
   ]
  },
  {
   "cell_type": "markdown",
   "id": "76837b95-b82a-4849-976a-68eaac168169",
   "metadata": {},
   "source": [
    "#### Exercise 12.12 - confidence intervals for means"
   ]
  },
  {
   "cell_type": "code",
   "execution_count": null,
   "id": "cc4ebd55",
   "metadata": {},
   "outputs": [],
   "source": [
    "#Exercise 12.12 - confidence intervals for means\n",
    "import numpy as np\n",
    "from scipy.stats import norm\n",
    "\n",
    "confidence = 0.95\n",
    "sample_mean = 61\n",
    "sample_std = 7\n",
    "sample_size = 100\n",
    "ci_z = norm.interval(confidence=confidence, loc=sample_mean, scale=sample_std/np.sqrt(sample_size))\n",
    "print('The sample CI: ({:.3f}, {:.3f})'.format(ci_z[0], ci_z[1]))\n"
   ]
  },
  {
   "cell_type": "markdown",
   "id": "edc676c9-d658-44c2-90ba-11e4ba47a6a4",
   "metadata": {},
   "source": [
    "#### Exercise 12.13 - confidence intervals for proportions"
   ]
  },
  {
   "cell_type": "code",
   "execution_count": null,
   "id": "b256417f",
   "metadata": {},
   "outputs": [],
   "source": [
    "#Exercise 12.13 - confidence intervals for proportions\n",
    "from scipy.stats import binomtest\n",
    "\n",
    "print('Proportion in sample = ',74/200)\n",
    "result = binomtest(k=74, n=200, p=0.5)\n",
    "ci_lower, ci_upper = result.proportion_ci(confidence_level=0.95)\n",
    "print('Proportion CI is ({:.3f}, {:.3f})'.format(np.round(ci_lower,3), np.round(ci_upper,3)))"
   ]
  },
  {
   "cell_type": "markdown",
   "id": "b8372a67-2a61-4f71-82af-c8a02ff65644",
   "metadata": {},
   "source": [
    "#### Exercise 12.14"
   ]
  },
  {
   "cell_type": "code",
   "execution_count": null,
   "id": "b20b559b",
   "metadata": {},
   "outputs": [],
   "source": [
    "#Exercise 12.14\n",
    "import numpy as np\n",
    "from scipy.stats import chi2\n",
    "              \n",
    "sample_size = 46           \n",
    "sigma2 = 6.7 **2 \n",
    "print('Sample variance is ',sigma2)\n",
    "alpha = 0.01 \n",
    "df = sample_size - 1                 \n",
    "\n",
    "upper = (sample_size-1) * sigma2 / chi2.ppf(alpha/2, df)\n",
    "lower = (sample_size-1) * sigma2 / chi2.ppf(1-alpha/2, df)\n",
    "print('CI of variance using chi-square distribution:\\n ({:.3f}, {:.3f})'.format(lower, upper))"
   ]
  },
  {
   "cell_type": "markdown",
   "id": "e3a06ab4-1fa8-4204-9ab2-a5d8a639a40f",
   "metadata": {},
   "source": [
    "#### Exercise 12.15 - Student's t test"
   ]
  },
  {
   "cell_type": "code",
   "execution_count": null,
   "id": "935a7a7b",
   "metadata": {},
   "outputs": [],
   "source": [
    "#Exercise 12.15 - Student's t test\n",
    "import numpy as np  \n",
    "from scipy.stats import t, ttest_1samp \n",
    "\n",
    "mu = 10\n",
    "sample = np.array([7, 7.8, 9, 8.7, 12, 11.2, 10.8, 12.2, 13.1, 14, 13.6, 12.4, 9.9, 10.5, 11.4])\n",
    "sample_size = len(sample)\n",
    "df, sl = sample_size - 1, 0.01\n",
    "print('The sample mean={:.2f}, the sample std={:.2f}.'.format(np.mean(sample),np.std(sample)))\n",
    "t_stat_1 = (np.mean(sample) - mu)/(np.std(sample,ddof=1)/np.sqrt(sample_size))\n",
    "print('t-statistic = ', t_stat_1) \n",
    "critical_t_stat = t.ppf(1-sl/2, df)\n",
    "print('critical-t-statistic = ', critical_t_stat)\n",
    "if t_stat_1 > 0:\n",
    "    probability = 2 * (1 - t.cdf(t_stat_1, df))\n",
    "else:\n",
    "    probability = 2 * t.cdf(t_stat_1, df)\n",
    "print('probability = ', probability)\n",
    "if t_stat_1 < critical_t_stat and t_stat_1 > -critical_t_stat:\n",
    "    print('Do not reject the null hypothesis')\n",
    "else:\n",
    "    print('Reject the null hypothesis')\n",
    "\n",
    "t_stat2, p_val = ttest_1samp(a=sample, popmean = mu)\n",
    "print('t-statistic = ', t_stat2)  \n",
    "print('p-value = ', p_val) \n"
   ]
  },
  {
   "cell_type": "markdown",
   "id": "d4ef3d47-e6a3-405f-b35a-09c06c07f361",
   "metadata": {},
   "source": [
    "#### Exercise 12.16"
   ]
  },
  {
   "cell_type": "code",
   "execution_count": null,
   "id": "eec16675",
   "metadata": {},
   "outputs": [],
   "source": [
    "#Exercise 12.16\n",
    "import numpy as np  \n",
    "from scipy.stats import t, ttest_1samp \n",
    "\n",
    "mu = 23\n",
    "sample = np.array([20, 25, 23, 23, 23, 20, 22, 22, 20, 20, 21, 19, 20, 20, 21, 23, 25])\n",
    "sample_size = len(sample)\n",
    "df, sl = sample_size - 1, 0.01\n",
    "print('The sample mean={:.2f}, the sample std={:.2f}.'.format(np.mean(sample),np.std(sample)))\n",
    "t_stat_1 = (np.mean(sample) - mu)/(np.std(sample,ddof=1)/np.sqrt(sample_size))\n",
    "print('t-statistic = ', t_stat_1)\n",
    "critical_t_stat = t.ppf(1-sl/2, df)\n",
    "print('critical-t-statistic = ', critical_t_stat)\n",
    "if t_stat_1 > 0:\n",
    "    probability = 2 * (1 - t.cdf(t_stat_1, df))\n",
    "else:\n",
    "    probability = 2 * t.cdf(t_stat_1, df)\n",
    "print('probability = ', probability)\n",
    "if t_stat_1 < critical_t_stat and t_stat_1 > -critical_t_stat:\n",
    "    print('Do not reject the null hypothesis')\n",
    "else:\n",
    "    print('Reject the null hypothesis')\n",
    "\n",
    "t_stat2, p_val = ttest_1samp(a=sample, popmean = mu)\n",
    "print('t-statistic = ', t_stat2)  \n",
    "print('p-value = ', p_val) "
   ]
  },
  {
   "cell_type": "markdown",
   "id": "1b8dfc43-a0bd-4e9a-8fbb-a0c2e26366bd",
   "metadata": {},
   "source": [
    "#### Exercise 12.17 - Difference between means of two samples"
   ]
  },
  {
   "cell_type": "code",
   "execution_count": null,
   "id": "c7169f88",
   "metadata": {},
   "outputs": [],
   "source": [
    "#Exercise 12.17 - Difference between means of two samples\n",
    "import numpy as np  \n",
    "from scipy.stats import t, ttest_ind_from_stats \n",
    "\n",
    "sample_size_1, sample_size_2 = 18, 15 \n",
    "mu_1, mu_2 = 115.6, 116.2\n",
    "std_1, std_2 = 3, 2\n",
    "df, sl = sample_size_1 + sample_size_2 - 2, 0.05\n",
    "sigma = np.sqrt(((sample_size_1-1)*std_1**2 + (sample_size_2-1)*std_2**2)/df)\n",
    "t_stat_1 = (mu_1 - mu_2)/(sigma * np.sqrt(1/sample_size_1 + 1/sample_size_2))\n",
    "print('t-statistic = ', t_stat_1) \n",
    "critical_t_stat = t.ppf(1-sl/2, df)\n",
    "print('critical-t-statistic = ', critical_t_stat)\n",
    "if t_stat_1 > 0:\n",
    "    probability = 2 * (1 - t.cdf(t_stat_1, df))\n",
    "else:\n",
    "    probability = 2 * t.cdf(t_stat_1, df)\n",
    "print('probability = ', probability)\n",
    "if probability > sl:\n",
    "    print('Do not reject the null hypothesis')\n",
    "else:\n",
    "    print('Reject the null hypothesis')\n",
    "\n",
    "t_stat_2, p_val = ttest_ind_from_stats(mean1=mu_1, std1=std_1, nobs1=sample_size_1,\n",
    "                     mean2=mu_2, std2=std_2, nobs2=sample_size_2) \n",
    "print('t-statistic = ', t_stat_2)  \n",
    "print('p-value = ', p_val)\n",
    "## There is no significant difference at a significance level of 0.05."
   ]
  },
  {
   "cell_type": "markdown",
   "id": "1ae0e19d-0196-4450-959f-d1253dc7cbb8",
   "metadata": {},
   "source": [
    "#### Exercise 12.18 - Chi-square test - one way"
   ]
  },
  {
   "cell_type": "code",
   "execution_count": null,
   "id": "ecdd1f3d",
   "metadata": {},
   "outputs": [],
   "source": [
    "#Exercise 12.18 - Chi-square test - one way\n",
    "import numpy as np\n",
    "from scipy.stats import binom, chisquare\n",
    "\n",
    "n = 4\n",
    "p = 0.5\n",
    "\n",
    "exp_prob = np.array([binom.pmf(k, n, p) for k in range(n + 1)])\n",
    "\n",
    "for k, prob in enumerate(exp_prob):\n",
    "    print(f'P({k} boys) = {prob:.4f}')\n",
    "\n",
    "f_obs = np.array([21, 49, 80, 38,12])\n",
    "f_exp = 200* exp_prob\n",
    "results = chisquare(f_obs, f_exp)\n",
    "print('The Chi-square statistic = ', results.statistic)\n",
    "print('probability = ', results.pvalue) \n",
    "\n",
    "sl = 0.05\n",
    "if results.pvalue > sl:\n",
    "    print('Do not reject the null hypothesis')\n",
    "else:\n",
    "    print('Reject the null hypothesis')\n",
    "   "
   ]
  },
  {
   "cell_type": "markdown",
   "id": "3627c500-f8a5-45ad-84db-359df049d180",
   "metadata": {},
   "source": [
    "#### Exercise 12.19 - Chi-square test - one way"
   ]
  },
  {
   "cell_type": "code",
   "execution_count": null,
   "id": "df2044d4",
   "metadata": {},
   "outputs": [],
   "source": [
    "#Exercise 12.19 - Chi-square test - one way\n",
    "import numpy as np\n",
    "from scipy.stats import chi2, chisquare\n",
    "\n",
    "f_obs = np.array([20, 25, 30, 16, 8, 1])\n",
    "f_exp = np.array([15, 20, 25, 20, 15, 5])\n",
    "chi2_stat = np.sum(((f_obs - f_exp) ** 2) / f_exp)\n",
    "print('The Chi-square statistic = ', chi2_stat)\n",
    "df = len(f_obs)-1\n",
    "probability = 1 - chi2.cdf(chi2_stat, df)\n",
    "print('probability = ', probability)\n",
    "sl = 0.05\n",
    "if probability > sl:\n",
    "    print('Do not reject the null hypothesis')\n",
    "else:\n",
    "    print('Reject the null hypothesis')\n",
    "\n",
    "results = chisquare(f_obs,f_exp)\n",
    "print('The Chi-square statistic = ', results.statistic)\n",
    "print('probability = ', results.pvalue)"
   ]
  },
  {
   "cell_type": "markdown",
   "id": "ad124925-6918-49ee-a6d8-02ed7a3d0ed4",
   "metadata": {},
   "source": [
    "#### Exercise 12.20 - Chi-square test - two ways"
   ]
  },
  {
   "cell_type": "code",
   "execution_count": null,
   "id": "85d6c729",
   "metadata": {},
   "outputs": [],
   "source": [
    "#Exercise 12.20 - Chi-square test - two ways\n",
    "import numpy as np\n",
    "from scipy.stats import chi2_contingency\n",
    "\n",
    "obs = np.array([[5, 30, 5], [2, 40, 18]])\n",
    "sl = 0.05\n",
    "res = chi2_contingency(obs)\n",
    "print('The expected frequencies are:\\n',res.expected_freq)\n",
    "print('The chi-square test statistic = ',res.statistic)\n",
    "print('The degrees of freedom = ',res.dof)\n",
    "print('The p-value = ',res.pvalue)\n",
    "if res.pvalue > sl:\n",
    "    print('Do not reject the null hypothesis')\n",
    "else:\n",
    "    print('Reject the null hypothesis')   "
   ]
  },
  {
   "cell_type": "markdown",
   "id": "43d605be-f9d8-41fd-b843-e4402c543173",
   "metadata": {},
   "source": [
    "#### Exercise 12.21 - Chi-square test - two ways"
   ]
  },
  {
   "cell_type": "code",
   "execution_count": null,
   "id": "f87fea90",
   "metadata": {},
   "outputs": [],
   "source": [
    "#Exercise 12.21 - Chi-square test - two ways\n",
    "import numpy as np\n",
    "from scipy.stats import chi2_contingency\n",
    "\n",
    "obs = np.array([[52, 40, 8], [45, 44, 11]])\n",
    "sl = 0.05\n",
    "res = chi2_contingency(obs)\n",
    "print('The expected frequencies are:\\n',res.expected_freq)\n",
    "print('The chi-square test statistic = ',res.statistic)\n",
    "print('The degrees of freedom = ',res.dof)\n",
    "print('The p-value = ',res.pvalue)\n",
    "if res.pvalue > sl:\n",
    "    print('Do not reject the null hypothesis')\n",
    "else:\n",
    "    print('Reject the null hypothesis')"
   ]
  },
  {
   "cell_type": "code",
   "execution_count": null,
   "id": "90b283dd",
   "metadata": {},
   "outputs": [],
   "source": []
  }
 ],
 "metadata": {
  "kernelspec": {
   "display_name": "Python 3 (ipykernel)",
   "language": "python",
   "name": "python3"
  },
  "language_info": {
   "codemirror_mode": {
    "name": "ipython",
    "version": 3
   },
   "file_extension": ".py",
   "mimetype": "text/x-python",
   "name": "python",
   "nbconvert_exporter": "python",
   "pygments_lexer": "ipython3",
   "version": "3.11.5"
  }
 },
 "nbformat": 4,
 "nbformat_minor": 5
}
