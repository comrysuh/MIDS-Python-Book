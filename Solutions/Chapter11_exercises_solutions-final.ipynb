{
 "cells": [
  {
   "cell_type": "markdown",
   "id": "b45b0494-5f57-4510-9bac-d2512f3924c4",
   "metadata": {},
   "source": [
    "#### Exercise 11.1"
   ]
  },
  {
   "cell_type": "code",
   "execution_count": null,
   "id": "0118b2c7",
   "metadata": {},
   "outputs": [],
   "source": [
    "#Exercise 11.1\n",
    "from scipy.stats import binom\n",
    "import matplotlib.pyplot as plt\n",
    "import numpy as np\n",
    "\n",
    "n = 30 \n",
    "p = 0.55  \n",
    "exps = 100000\n",
    "\n",
    "X = binom(n, p)\n",
    "heads = X.rvs(size=exps, random_state=421)  \n",
    "print('The empirical mean of the heads is', np.mean(heads))\n",
    "print('The empirical variance of the heads is', np.var(heads))\n",
    "\n",
    "print('The theoretical mean is:',n*p)\n",
    "print('The theoretical variance is:',n*p*(1-p))\n",
    "\n",
    "fig, ax = plt.subplots(1,1)\n",
    "ax.hist(heads, density=True, histtype='stepfilled')\n",
    "ax.grid(True)\n",
    "\n",
    "count_of_value = np.sum(heads == 12)\n",
    "print(f'The estimated probability of coming up 12 heads out of 30 coin flips\\n is: {count_of_value/exps}')\n",
    "\n",
    "pmf_value = X.pmf(12)  \n",
    "print('The value of the probability mass function at X=12 is', np.round(pmf_value,2))"
   ]
  },
  {
   "cell_type": "markdown",
   "id": "f324a84e-0f93-43e5-a9a6-705b20e21ba7",
   "metadata": {},
   "source": [
    "#### Exercise 11.2"
   ]
  },
  {
   "cell_type": "code",
   "execution_count": null,
   "id": "fac9b776",
   "metadata": {},
   "outputs": [],
   "source": [
    "#Exercise 11.2\n",
    "import numpy as np\n",
    "import matplotlib.pyplot as plt\n",
    "import scipy.stats as stats\n",
    "from scipy.stats import binom\n",
    "\n",
    "population_size = 100000  \n",
    "n_samples = 10000       \n",
    "sample_sizes = [3, 10, 50]  \n",
    "\n",
    "X = binom(n=30, p=0.6)\n",
    "population = X.rvs(size=population_size, random_state = 421) \n",
    "\n",
    "fig, axs = plt.subplots(1, len(sample_sizes), figsize=(15, 5))\n",
    "\n",
    "np.random.seed(421)\n",
    "\n",
    "for idx, s in enumerate(sample_sizes):\n",
    "    sample_means = []\n",
    "    \n",
    "    for _ in range(n_samples):\n",
    "        sample = np.random.choice(population, size=s)\n",
    "        sample_means.append(np.mean(sample))\n",
    "    \n",
    "    axs[idx].hist(sample_means, bins=10, density=True, alpha=0.6, color='b', edgecolor='black')\n",
    "\n",
    "    est_mean = np.round(np.mean(sample_means),2)\n",
    "    est_std = np.round(np.std(sample_means),2)\n",
    "    \n",
    "    print(f'For sample size = {s}, mean = {est_mean}, std = {est_std}')\n",
    "     \n",
    "    mu = np.mean(population)  \n",
    "    sigma = np.std(population) / np.sqrt(s)  \n",
    "    x = np.linspace(min(sample_means), max(sample_means), 100)\n",
    "    axs[idx].plot(x, stats.norm.pdf(x, mu, sigma), 'r-', lw=2)\n",
    "    \n",
    "    axs[idx].set_title(f'Sample size = {s}')\n",
    "    axs[idx].set_xlabel('Sample mean')\n",
    "    axs[idx].set_ylabel('Density')\n",
    "\n",
    "plt.tight_layout(rect=[0, 0.03, 1, 0.95])\n",
    "plt.savefig('CLT.png')\n"
   ]
  },
  {
   "cell_type": "markdown",
   "id": "b226d836-2abc-48c1-bf65-74826223416e",
   "metadata": {},
   "source": [
    "#### Exercise 11.3"
   ]
  },
  {
   "cell_type": "code",
   "execution_count": null,
   "id": "a35057fc",
   "metadata": {},
   "outputs": [],
   "source": [
    "#Exercise 11.3\n",
    "import numpy as np\n",
    "\n",
    "# Define the joint probability matrix\n",
    "P_XY_matrix = np.array([\n",
    "    [0, 0, 1/9], \n",
    "    [3/9, 1/9, 1/9],  \n",
    "    [2/9, 1/9, 0]   \n",
    "])\n",
    "\n",
    "# Marginal probability P(X=1)\n",
    "P_X1 = np.sum(P_XY_matrix[1, :])\n",
    "print(f'P(X=1) = {P_X1:.4f}')\n",
    "\n",
    "P_Y1 = np.sum(P_XY_matrix[:, 1])\n",
    "print(f'P(Y=1) = {P_Y1:.4f}')"
   ]
  },
  {
   "cell_type": "markdown",
   "id": "2a1fc2f4-1455-4e45-8e61-c1ad991b3351",
   "metadata": {},
   "source": [
    "#### Exercise 11.4 "
   ]
  },
  {
   "cell_type": "code",
   "execution_count": null,
   "id": "ed9c8e89",
   "metadata": {},
   "outputs": [],
   "source": [
    "### Exercise 11.4 - part (1)\n",
    "import sympy as sp\n",
    "from sympy import exp\n",
    "\n",
    "x, y = sp.symbols('x y')\n",
    "\n",
    "pdf = 6 * exp(-2*x - 3*y)\n",
    "\n",
    "marginal_x = sp.integrate(pdf, (y, 0, sp.oo))\n",
    "print('The marginal probability distribution of X is',marginal_x)\n",
    "marginal_y = sp.integrate(pdf, (x, 0, sp.oo))\n",
    "print('The marginal probability distribution of Y is', marginal_y)\n",
    "\n",
    "E_x = sp.integrate(x * marginal_x, (x, 0, sp.oo))\n",
    "print('The expected X value is', E_x)\n",
    "E_y = sp.integrate(y * marginal_y, (y, 0, sp.oo))\n",
    "print('The expected Y value is',E_y)\n",
    "\n",
    "E_xy = sp.integrate(x * y * pdf, (x, 0, sp.oo), (y, 0, sp.oo))\n",
    "print('The expected XY value is',E_xy)\n",
    "\n",
    "cov_xy = E_xy - E_x * E_y\n",
    "print('The covariance of X and Y is',cov_xy)"
   ]
  },
  {
   "cell_type": "code",
   "execution_count": null,
   "id": "19196478",
   "metadata": {},
   "outputs": [],
   "source": [
    "### Exercise 11.4 - part (2)\n",
    "import sympy as sp\n",
    "from sympy import exp\n",
    "\n",
    "x, y = sp.symbols('x y')\n",
    "\n",
    "pdf = (x+y)/64\n",
    "\n",
    "marginal_x = sp.integrate(pdf, (y, 0, 4))\n",
    "print('The marginal probability distribution of X is',marginal_x)\n",
    "marginal_y = sp.integrate(pdf, (x, 0, 4))\n",
    "print('The marginal probability distribution of Y is', marginal_y)\n",
    "\n",
    "E_x = sp.integrate(x * marginal_x, (x, 0, 4))\n",
    "print('The expected X value is', E_x)\n",
    "E_y = sp.integrate(y * marginal_y, (y, 0, 4))\n",
    "print('The expected Y value is',E_y)\n",
    "\n",
    "E_xy = sp.integrate(x * y * pdf, (x, 0, 4), (y, 0, 4))\n",
    "print('The expected XY value is',E_xy)\n",
    "\n",
    "cov_xy = E_xy - E_x * E_y\n",
    "print('The covariance of X and Y is',cov_xy)"
   ]
  },
  {
   "cell_type": "markdown",
   "id": "1b7236fc-fa2c-4030-a157-e9af5949d583",
   "metadata": {},
   "source": [
    "#### Exercise 11.5"
   ]
  },
  {
   "cell_type": "code",
   "execution_count": null,
   "id": "9f52df9f",
   "metadata": {},
   "outputs": [],
   "source": [
    "#Exercise 11.5\n",
    "from sympy.stats import Multinomial, density\n",
    "from sympy import Rational\n",
    "from scipy.special import factorial as Fac\n",
    "\n",
    "n = 10\n",
    "probs = [Rational(1, 6)] * 6\n",
    "X = Multinomial('X', n, probs)\n",
    "pmf = density(X)\n",
    "print('The density function is\\n',pmf)\n",
    "\n",
    "x1, x2, x3, x4, x5, x6 = 1, 1, 1, 1, 3, 3\n",
    "probability = pmf(x1, x2, x3, x4, x5, x6)\n",
    "print(f\"The probability of the outcome ({x1}, {x2}, {x3}, {x4}, {x5}, {x6}) is: {probability}\")\n",
    "\n",
    "from scipy.special import factorial as Fac\n",
    "P = Fac(10)/(Fac(1)*Fac(1)*Fac(1)*Fac(1)*Fac(3)*Fac(3))*(1/6)*(1/6)*(1/6)*(1/6)*(1/6)**3*(1/6)**3\n",
    "print(f\"The probability of the outcome ({x1}, {x2}, {x3}, {x4}, {x5}, {x6}) is: {P}\")\n"
   ]
  },
  {
   "cell_type": "markdown",
   "id": "e27f4de4-ee78-4219-b7ab-bfe619b05a1c",
   "metadata": {},
   "source": [
    "#### Exercise 11.6 "
   ]
  },
  {
   "cell_type": "code",
   "execution_count": null,
   "id": "7f1ea9b0",
   "metadata": {},
   "outputs": [],
   "source": [
    "### Exercise 11.6 - part (1)\n",
    "import numpy as np\n",
    "from scipy.stats import multivariate_normal\n",
    "import matplotlib.pyplot as plt\n",
    "\n",
    "mean = [2,4]\n",
    "covariance = [[1, 0], [0, 1]]\n",
    "rv = multivariate_normal(mean, covariance)\n",
    "\n",
    "x = np.linspace(-3, 8, 100)\n",
    "y = np.linspace(-3, 8, 100)\n",
    "X, Y = np.meshgrid(x, y)\n",
    "pos = np.dstack((X, Y))\n",
    "Z_pdf = rv.pdf(pos)\n",
    "Z_cdf = rv.cdf(pos)\n",
    "\n",
    "samples = rv.rvs(size=100, random_state = 421)\n",
    "\n",
    "fig = plt.figure(figsize=(8, 16))\n",
    "\n",
    "ax1 = fig.add_subplot(311, projection='3d')\n",
    "ax1.plot_surface(X, Y, Z_pdf, cmap='viridis', edgecolor='none')\n",
    "ax1.set_xlabel('X')\n",
    "ax1.set_ylabel('Y')\n",
    "ax1.set_zlabel('Density')\n",
    "\n",
    "ax2 = fig.add_subplot(312, projection='3d')\n",
    "ax2.plot_surface(X, Y, Z_cdf, cmap='viridis', edgecolor='none')\n",
    "ax2.set_xlabel('X')\n",
    "ax2.set_ylabel('Y')\n",
    "ax2.set_zlabel('Cumulative Probability')\n",
    "\n",
    "ax3 = fig.add_subplot(313)\n",
    "contour = ax3.contour(X, Y, Z_pdf, levels=7, cmap='viridis')\n",
    "ax3.scatter(samples[:, 0], samples[:, 1], c='red', marker='+', s=50, label='Samples')\n",
    "ax3.set_xlabel('X')\n",
    "ax3.set_ylabel('Y')\n",
    "ax3.set_aspect('equal')"
   ]
  },
  {
   "cell_type": "code",
   "execution_count": null,
   "id": "f71c3021",
   "metadata": {},
   "outputs": [],
   "source": [
    "### Exercise 11.6 - part (2)\n",
    "import numpy as np\n",
    "from scipy.stats import multivariate_normal\n",
    "import matplotlib.pyplot as plt\n",
    "\n",
    "mean = [0, 0]\n",
    "covariance = [[0.49, 0.4], [0.4, 1]]\n",
    "rv = multivariate_normal(mean, covariance)\n",
    "\n",
    "x = np.linspace(-4, 4, 100)\n",
    "y = np.linspace(-4, 4, 100)\n",
    "X, Y = np.meshgrid(x, y)\n",
    "pos = np.dstack((X, Y))\n",
    "Z_pdf = rv.pdf(pos)\n",
    "Z_cdf = rv.cdf(pos)\n",
    "\n",
    "samples = rv.rvs(size=100, random_state = 421)\n",
    "\n",
    "fig = plt.figure(figsize=(8, 16))\n",
    "\n",
    "ax1 = fig.add_subplot(311, projection='3d')\n",
    "ax1.plot_surface(X, Y, Z_pdf, cmap='viridis', edgecolor='none')\n",
    "ax1.set_xlabel('X')\n",
    "ax1.set_ylabel('Y')\n",
    "ax1.set_zlabel('Density')\n",
    "\n",
    "ax2 = fig.add_subplot(312, projection='3d')\n",
    "ax2.plot_surface(X, Y, Z_cdf, cmap='viridis', edgecolor='none')\n",
    "ax2.set_xlabel('X')\n",
    "ax2.set_ylabel('Y')\n",
    "ax2.set_zlabel('Cumulative Probability')\n",
    "\n",
    "ax3 = fig.add_subplot(313)\n",
    "contour = ax3.contour(X, Y, Z_pdf, levels=7, cmap='viridis')\n",
    "ax3.scatter(samples[:, 0], samples[:, 1], c='red', marker='+', s=50, label='Samples')\n",
    "ax3.set_xlabel('X')\n",
    "ax3.set_ylabel('Y')\n"
   ]
  },
  {
   "cell_type": "markdown",
   "id": "8e42e6f3-5e99-4b1b-9501-35bd374d20eb",
   "metadata": {},
   "source": [
    "#### Exercise 11.7"
   ]
  },
  {
   "cell_type": "code",
   "execution_count": null,
   "id": "c51e67db",
   "metadata": {},
   "outputs": [],
   "source": [
    "### Exercise 11.7 - To run Listing 11.11\n",
    "import matplotlib.pyplot as plt\n",
    "\n",
    "def plot_conditional_prob(p_A, p_B, p_A_and_B):\n",
    "    \n",
    "    p_A_given_B = p_A_and_B/p_B\n",
    "    plt.figure(figsize=(8, 6))\n",
    "    plt.bar(['P(A|B)', 'P(A)', 'P(B)', 'P(A and B)'], [p_A_given_B, p_A, p_B, p_A_and_B], color=['blue', 'green', 'red', 'black'])\n",
    "    plt.ylim(0, 1)"
   ]
  },
  {
   "cell_type": "code",
   "execution_count": null,
   "id": "17ea8c05",
   "metadata": {},
   "outputs": [],
   "source": [
    "### Exercise 11.7 - part (1)\n",
    "plot_conditional_prob(0.35, 0.4, 0.15)"
   ]
  },
  {
   "cell_type": "code",
   "execution_count": null,
   "id": "150594d2",
   "metadata": {
    "scrolled": true
   },
   "outputs": [],
   "source": [
    "### Exercise 11.7 - part (2)\n",
    "plot_conditional_prob(0.35, 0.4, 0.35)"
   ]
  },
  {
   "cell_type": "markdown",
   "id": "1e143211-0358-4a83-8cae-61435e318eb7",
   "metadata": {},
   "source": [
    "#### Exercise 11.8"
   ]
  },
  {
   "cell_type": "code",
   "execution_count": null,
   "id": "3b9d4ad5",
   "metadata": {},
   "outputs": [],
   "source": [
    "#Exercise 11.8\n",
    "import numpy as np\n",
    "\n",
    "# Define the joint probability matrix\n",
    "P_XY_matrix = np.array([\n",
    "    [0, 0, 1/9], \n",
    "    [3/9, 1/9, 1/9],  \n",
    "    [2/9, 1/9, 0]   \n",
    "])\n",
    "\n",
    "\n",
    "P_X1 = np.sum(P_XY_matrix[1, :])\n",
    "P_Y1_given_X1 = P_XY_matrix[1, 1] / P_X1\n",
    "print(f\"P(Y=1 | X=1) = {P_Y1_given_X1:.4f}\")\n",
    "\n",
    "P_Y2 = np.sum(P_XY_matrix[:,2])\n",
    "P_X1_given_Y2 = P_XY_matrix[1, 2] / P_Y2\n",
    "print(f\"P(X=1 | Y=2) = {P_X1_given_Y2:.4f}\")"
   ]
  },
  {
   "cell_type": "markdown",
   "id": "cd2c5156-0018-4353-9141-f867a567a0ac",
   "metadata": {},
   "source": [
    "#### Exercise 11.9"
   ]
  },
  {
   "cell_type": "code",
   "execution_count": null,
   "id": "9f2de4f7",
   "metadata": {},
   "outputs": [],
   "source": [
    "#Exercise 11.9 - Part (1)\n",
    "import sympy as sp\n",
    "from sympy import sin, cos, pi\n",
    "\n",
    "x, y = sp.symbols('x y')\n",
    "pdf = sin(x)*cos(y)\n",
    "\n",
    "marginal_y = sp.integrate(pdf, (x, 0, pi/2))\n",
    "condition_y = pdf/marginal_y\n",
    "print('The conditional probability of x given y is:',condition_y)\n",
    "\n",
    "marginal_x = sp.integrate(pdf, (y, 0, pi/2))\n",
    "condition_x = pdf/marginal_x\n",
    "print('The conditional probability of y given x is:',condition_x)\n"
   ]
  },
  {
   "cell_type": "code",
   "execution_count": null,
   "id": "6b2c53db",
   "metadata": {},
   "outputs": [],
   "source": [
    "#Exercise 11.9 - Part (2)\n",
    "import sympy as sp\n",
    "\n",
    "x, y = sp.symbols('x y')\n",
    "pdf = 1/2\n",
    "\n",
    "marginal_y = sp.integrate(pdf, (x, y, 2))\n",
    "condition_y = pdf/marginal_y\n",
    "print('The conditional probability of x given y is:',condition_y)\n",
    "\n",
    "marginal_x = sp.integrate(pdf, (y, 0, x))\n",
    "condition_x = pdf/marginal_x\n",
    "print('The conditional probability of y given x is:',condition_x)"
   ]
  },
  {
   "cell_type": "markdown",
   "id": "fd14f284-519c-4987-a673-0f7a597f99c6",
   "metadata": {},
   "source": [
    "#### Exercise 11.10"
   ]
  },
  {
   "cell_type": "code",
   "execution_count": null,
   "id": "05dbaab7",
   "metadata": {},
   "outputs": [],
   "source": [
    "#Exercise 11.10\n",
    "import sympy as sp\n",
    "\n",
    "x, y = sp.symbols('x y')\n",
    "\n",
    "pdf = 12*x**3*y**2\n",
    "marginal_y = sp.integrate(pdf, (x, 0, 1))\n",
    "print('marginal_y is: ',marginal_y)\n",
    "marginal_x = sp.integrate(pdf, (y, 0, 1))\n",
    "print('marginal_x is: ',marginal_x)\n",
    "\n",
    "pdf_x_given_y = pdf/marginal_y\n",
    "E_X_given_y = sp.integrate(x*pdf_x_given_y , (x, 0, 1))\n",
    "print('E(X|y) = ', E_X_given_y)\n",
    "pdf_y_given_x = pdf/marginal_x\n",
    "E_Y_given_x = sp.integrate(y*pdf_y_given_x , (y, 0, 1))\n",
    "print('E(Y|x) = ', E_Y_given_x)\n",
    "\n",
    "E_Y2_given_x = sp.integrate(y**2*pdf_y_given_x , (y, 0, 1))\n",
    "print('E(Y**2|x) =',E_Y2_given_x)\n",
    "var = E_Y2_given_x - E_Y_given_x**2\n",
    "print('Var(Y|x) is', var)"
   ]
  },
  {
   "cell_type": "markdown",
   "id": "c13ca1fb-f998-443c-85eb-aaf4803eaa84",
   "metadata": {},
   "source": [
    "#### Exercise 11.11"
   ]
  },
  {
   "cell_type": "code",
   "execution_count": null,
   "id": "d7a75fb2",
   "metadata": {},
   "outputs": [],
   "source": [
    "#Exercise 11.11\n",
    "import matplotlib.pyplot as plt\n",
    "import numpy as np\n",
    "\n",
    "PL = [0.3, 0.2, 0.5]\n",
    "P_F_given_PL = [5/9, 5/9, 4/9]\n",
    "\n",
    "groups = ['1st_white', '1st_milk', '1st_dark']\n",
    "partitions = [PL[i] * P_F_given_PL[i] for i in range(len(PL))]\n",
    "print(\"Each partition's contribution to the total probability is \\n\", partitions )\n",
    "P_T = sum(partitions)\n",
    "print(f'Total Probability is {P_T:.4f}.')\n",
    "\n",
    "colors = ['orange', 'green', 'red']\n",
    "plt.figure(figsize=(10, 6))\n",
    "plt.bar(groups,partitions, color=colors)\n",
    "\n",
    "# Annotate the chart\n",
    "for i, value in enumerate(partitions):\n",
    "    plt.text(i, value / 2, f'{value:.4f}', ha='center', va='center', color='black', fontsize=14)\n",
    "    \n",
    "plt.xlabel('First Chocolate')\n",
    "plt.ylabel('Contributions to Total Probability')\n",
    "plt.ylim(0, max(partitions) * 1.2)"
   ]
  },
  {
   "cell_type": "code",
   "execution_count": null,
   "id": "ea86ae60",
   "metadata": {},
   "outputs": [],
   "source": []
  },
  {
   "cell_type": "code",
   "execution_count": null,
   "id": "d424e60d",
   "metadata": {},
   "outputs": [],
   "source": []
  }
 ],
 "metadata": {
  "kernelspec": {
   "display_name": "Python 3 (ipykernel)",
   "language": "python",
   "name": "python3"
  },
  "language_info": {
   "codemirror_mode": {
    "name": "ipython",
    "version": 3
   },
   "file_extension": ".py",
   "mimetype": "text/x-python",
   "name": "python",
   "nbconvert_exporter": "python",
   "pygments_lexer": "ipython3",
   "version": "3.11.5"
  }
 },
 "nbformat": 4,
 "nbformat_minor": 5
}
