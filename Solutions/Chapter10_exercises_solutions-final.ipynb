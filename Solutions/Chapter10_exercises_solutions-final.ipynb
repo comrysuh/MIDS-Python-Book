{
 "cells": [
  {
   "cell_type": "markdown",
   "id": "bbd68811-4ee5-433c-a414-e37359f70c6a",
   "metadata": {},
   "source": [
    "#### Exercise 10.1"
   ]
  },
  {
   "cell_type": "code",
   "execution_count": null,
   "id": "c7cd6fa5",
   "metadata": {},
   "outputs": [],
   "source": [
    "### Exercise 10.1 (1)\n",
    "import scipy.special \n",
    "import numpy as np\n",
    "\n",
    "vals = [2,4,7,10]\n",
    "print('Values are:\\n',vals)\n",
    "Factorials = scipy.special.factorial(vals) \n",
    "Factorials_int = Factorials.astype(int)\n",
    "print('Their factorials of vals are {}, respectively.'.format(Factorials_int))"
   ]
  },
  {
   "cell_type": "code",
   "execution_count": null,
   "id": "19486276",
   "metadata": {},
   "outputs": [],
   "source": [
    "### Exercise 10.1 (2)\n",
    "\n",
    "from scipy.special import perm, factorial\n",
    "\n",
    "n = 7\n",
    "r = 6\n",
    "p1 = perm(n, r, exact=True) - factorial(r)\n",
    "p1"
   ]
  },
  {
   "cell_type": "code",
   "execution_count": null,
   "id": "e7c5407e",
   "metadata": {},
   "outputs": [],
   "source": [
    "### Exercise 10.1 (3)\n",
    "from scipy.special import comb\n",
    "\n",
    "n = 7;\n",
    "r = 3\n",
    "c1 = comb(n, r, exact=True, repetition=False)\n",
    "print('The number of combinations if we take any three numbers\\n from seven without repetition is {}.'.format(c1))"
   ]
  },
  {
   "cell_type": "markdown",
   "id": "5fc4e14f-c76e-40f1-a4b3-f193ab88e7db",
   "metadata": {},
   "source": [
    "#### Exercise 10.2"
   ]
  },
  {
   "cell_type": "code",
   "execution_count": null,
   "id": "71531a88",
   "metadata": {},
   "outputs": [],
   "source": [
    "#Exercise 10.2\n",
    "import numpy as np\n",
    "from scipy.special import perm\n",
    "\n",
    "S_size = 26**8\n",
    "print('The size of the sample space is: {}.'.format(S_size))\n",
    "perm_n_k = perm(26,8,exact = True)\n",
    "print('The number of permutations of picking 8 out 26 items \\n without repetition is: {}.'.format(perm_n_k))\n",
    "P = perm_n_k/S_size\n",
    "print('The probability of getting 8 different letters is: {}.'.format(np.round(P,2)))"
   ]
  },
  {
   "cell_type": "markdown",
   "id": "60a6c9ba-3677-4b3f-8cdc-997014032647",
   "metadata": {},
   "source": [
    "#### Exercise 10.3"
   ]
  },
  {
   "cell_type": "code",
   "execution_count": null,
   "id": "6f5443d3",
   "metadata": {},
   "outputs": [],
   "source": [
    "#Exercise 10.3\n",
    "from sympy.stats import Coin, density\n",
    "\n",
    "c1, c2, c3, c4 = Coin('C1'), Coin('C2'), Coin('C3'), Coin('C4')\n",
    "density(c1+c2+c3+c4).dict"
   ]
  },
  {
   "cell_type": "code",
   "execution_count": null,
   "id": "6929727b",
   "metadata": {},
   "outputs": [],
   "source": [
    "### Exercise 10.3 - continued\n",
    "from sympy.stats import FiniteRV, P\n",
    "from sympy import Rational\n",
    "pmf = {0: Rational(1, 16), 1: Rational(1, 4), 2: Rational(3, 8), 3: Rational(1, 4), 4: Rational(1, 16)}\n",
    "X = FiniteRV('X', pmf)\n",
    "print('The probability of getting a value greater than 3 is: ', P(X>3))"
   ]
  },
  {
   "cell_type": "markdown",
   "id": "f42ae135-6545-492d-b467-4453cad53d7a",
   "metadata": {},
   "source": [
    "#### Exercise 10.4"
   ]
  },
  {
   "cell_type": "code",
   "execution_count": null,
   "id": "557ef98c",
   "metadata": {},
   "outputs": [],
   "source": [
    "#Exercise 10.4\n",
    "from sympy.stats import Die, density, FiniteRV, P\n",
    "\n",
    "d1, d2 = Die('a', 6), Die('b', 6)\n",
    "pmf_D = density(d1*d2).dict\n",
    "print(pmf_D)\n",
    "X = FiniteRV('X', pmf_D)\n",
    "print('The probability of getting a value greater than 8 is: ', P(X>8))"
   ]
  },
  {
   "cell_type": "markdown",
   "id": "b2d83b34-8286-4fdb-abea-8ccdab620cf5",
   "metadata": {},
   "source": [
    "#### Exercise 10.5"
   ]
  },
  {
   "cell_type": "code",
   "execution_count": null,
   "id": "96b940a4",
   "metadata": {},
   "outputs": [],
   "source": [
    "#Exercise 10.5\n",
    "from sympy import symbols, pi, sin, integrate, Piecewise\n",
    "\n",
    "x, t = symbols('x t')\n",
    "\n",
    "F_x = Piecewise(\n",
    "    (0, x < 0),\n",
    "    (integrate(-sin(t)/2, (t, 0, x)), (x >= 0) & (x < pi)),\n",
    "    (1, x >= pi)\n",
    ")\n",
    "F_x"
   ]
  },
  {
   "cell_type": "markdown",
   "id": "3bbc2bc9-696d-4f13-a80b-1562e3912c10",
   "metadata": {},
   "source": [
    "#### Exercise 10.6"
   ]
  },
  {
   "cell_type": "code",
   "execution_count": null,
   "id": "5d46dd64",
   "metadata": {},
   "outputs": [],
   "source": [
    "#Exercise 10.6\n",
    "from sympy import symbols\n",
    "from sympy.stats import FiniteRV, E, variance\n",
    "\n",
    "a = symbols('a')\n",
    "\n",
    "X = FiniteRV('X', {1: 1/3, 2: 1/4, 4: 1/4, 5: 1/6})\n",
    "Y = FiniteRV('Y', {-1: 1/4, 0: 1/4, 3: 1/4, 4: 1/4})\n",
    "\n",
    "print('E(X)=', E(X))\n",
    "print('E(Y)=', E(Y))\n",
    "print('E(X+Y)=', E(X+Y))\n",
    "print('E(XY)=', E(X*Y))\n",
    "print('E(X**2)=',E(X**2))\n",
    "print('Note that, E(X**2)={:.2f} is not equal to E(X)E(X)={:.2f}'.format(E(X*X), E(X)*E(X)))\n",
    "print('variance(X)=', variance(X))\n",
    "print('variance(Y)=', variance(Y))\n",
    "print('variance(X+Y)=', variance(X+Y))\n",
    "print('variance(4Y+2)=', variance(4*Y+2))"
   ]
  },
  {
   "cell_type": "markdown",
   "id": "68ace4d1-a38f-4f3e-8b96-be9440cfce54",
   "metadata": {},
   "source": [
    "#### Exercise 10.7"
   ]
  },
  {
   "cell_type": "code",
   "execution_count": null,
   "id": "c1fd7c1c",
   "metadata": {},
   "outputs": [],
   "source": [
    "#Exercise 10.7\n",
    "from sympy import symbols, Interval\n",
    "from sympy.stats import ContinuousRV, variance\n",
    "\n",
    "x = symbols('x')\n",
    "f_x = 4  \n",
    "X = ContinuousRV(x, f_x, Interval(0, 0.25))\n",
    "\n",
    "E_x = E(X)\n",
    "print('E(X) is', E_x)\n",
    "\n",
    "E_x2 = E(X**2)\n",
    "print('E(X**2) is', E_x2)\n",
    "\n",
    "var1 = variance(3*X**2)\n",
    "print('variance(3*X**2) is', var1)\n",
    "\n",
    "var2 = variance(3*X**2 - 4)\n",
    "print('variance(3*X**2 - 4) is', var2)"
   ]
  },
  {
   "cell_type": "markdown",
   "id": "d9d532b4-16c1-44aa-b28d-71320953620d",
   "metadata": {},
   "source": [
    "#### Exercise 10.8"
   ]
  },
  {
   "cell_type": "code",
   "execution_count": null,
   "id": "02792246",
   "metadata": {},
   "outputs": [],
   "source": [
    "#Exercise 10.8\n",
    "from sympy.stats import DiscreteUniform, E, variance, P\n",
    "\n",
    "X = DiscreteUniform('X', [0, 1, 2, 3, 4, 5, 6, 7, 8, 9, 10])\n",
    "\n",
    "print('E(X) = ', E(X)) \n",
    "print('Var(X) = ', variance(X))  \n",
    "print('The probability of X less than 6 is', P(X < 6)) "
   ]
  },
  {
   "cell_type": "markdown",
   "id": "3ab3fbc3-d538-4f5b-813f-6a3c14ca0b76",
   "metadata": {},
   "source": [
    "#### Exercise 10.9"
   ]
  },
  {
   "cell_type": "code",
   "execution_count": null,
   "id": "bee2b7fa",
   "metadata": {},
   "outputs": [],
   "source": [
    "#Exercise 10.9\n",
    "from scipy.stats import bernoulli\n",
    "import matplotlib.pyplot as plt\n",
    "import random\n",
    "import numpy as np\n",
    "\n",
    "random.seed(421)\n",
    "p = 0.45\n",
    "X = bernoulli(p)\n",
    "\n",
    "print('The probability of X taking the value of 1 is:', X.pmf(1))  \n",
    "print('The probability of X taking the value of 0 is:', X.pmf(0))  \n",
    " \n",
    "sample = X.rvs(size=10000)  \n",
    "print('The empirical mean of the sampled data is', np.mean(sample))\n",
    "print('The empirical variance of the sampled data is', np.var(sample))\n",
    "fig, ax = plt.subplots(1,1)\n",
    "ax.hist(sample, density=True, histtype='stepfilled')\n",
    "ax.set_xlabel('X')\n",
    "ax.set_ylabel('Frequency')\n",
    "ax.grid(True)\n",
    "fig.savefig('Beroulli.png')"
   ]
  },
  {
   "cell_type": "markdown",
   "id": "65cd7217-e3ba-48fd-a77c-7cfb86a86e26",
   "metadata": {},
   "source": [
    "#### Exercise 10.10"
   ]
  },
  {
   "cell_type": "code",
   "execution_count": null,
   "id": "6e81b217",
   "metadata": {},
   "outputs": [],
   "source": [
    "#Exercise 10.10\n",
    "from scipy.stats import binom\n",
    "import matplotlib.pyplot as plt\n",
    "import random\n",
    "import numpy as np\n",
    "\n",
    "random.seed(421)\n",
    "\n",
    "n = 50 \n",
    "p = 0.85  \n",
    "\n",
    "X = binom(n, p)\n",
    "sample = X.rvs(size=10000)  \n",
    "print('The empirical mean of the sampled data is', np.mean(sample))\n",
    "print('The empirical variance of the sampled data is', np.var(sample))\n",
    "\n",
    "fig, ax = plt.subplots(1,1)\n",
    "ax.hist(sample, density=False, histtype='stepfilled')\n",
    "ax.set_xlabel('X')\n",
    "ax.set_ylabel('Frequency')\n",
    "ax.grid(True)\n",
    "\n",
    "pmf_value = X.pmf(45)  \n",
    "print('The value of the probability mass function at X=45 is', np.round(pmf_value,2))"
   ]
  },
  {
   "cell_type": "markdown",
   "id": "ac8d7b12-64bc-418c-88eb-f14813a05bbd",
   "metadata": {},
   "source": [
    "#### Exercise 10.11"
   ]
  },
  {
   "cell_type": "code",
   "execution_count": null,
   "id": "48bcea6f",
   "metadata": {},
   "outputs": [],
   "source": [
    "#Exercise 10.11\n",
    "from scipy.stats import poisson\n",
    "import matplotlib.pyplot as plt\n",
    "import random\n",
    "import numpy as np\n",
    "\n",
    "random.seed(421)\n",
    "lamda = 15  \n",
    "X = poisson(lamda)\n",
    "sample = X.rvs(size=10000)  \n",
    "print('The empirical mean of the sampled data is', np.mean(sample))\n",
    "print('The empirical variance of the sampled data is', np.var(sample))\n",
    "\n",
    "fig, ax = plt.subplots(1,1)\n",
    "ax.hist(sample, density=False, histtype='stepfilled')\n",
    "ax.set_xlabel('X')\n",
    "ax.set_ylabel('Frequency')\n",
    "ax.grid(True)\n",
    "\n",
    "pmf_value = X.pmf(16) \n",
    "print('The value of the probability mass function at X=16 is', np.round(pmf_value,2))\n",
    "\n",
    "cdf_value = 1 - X.cdf(20) \n",
    "print('The probability of receiving more than 20 emails in an hour is', np.round(cdf_value,2))"
   ]
  },
  {
   "cell_type": "markdown",
   "id": "618047bd-3982-4e82-849c-80a5a5b467b4",
   "metadata": {},
   "source": [
    "#### Exercise 10.12"
   ]
  },
  {
   "cell_type": "code",
   "execution_count": null,
   "id": "83b41b43",
   "metadata": {},
   "outputs": [],
   "source": [
    "#Exercise 10.12\n",
    "from scipy.stats import uniform\n",
    "\n",
    "a = 10  \n",
    "b = 20  \n",
    "X = uniform(loc=a, scale=b-a)\n",
    "sample = X.rvs(size=10000) \n",
    "print('The emprical mean of the sampled data is', np.mean(sample))\n",
    "print('The emprical variance of the sampled data is', np.var(sample))\n",
    "\n",
    "fig, ax = plt.subplots(1,1)\n",
    "ax.hist(sample, density=True, histtype='stepfilled')\n",
    "ax.set_xlabel('X')\n",
    "ax.set_ylabel('Frequency')\n",
    "ax.grid(True)\n",
    "\n",
    "cdf_value = 1- X.cdf(18)  \n",
    "print('The probability that a randomly selected value is greater than 18 is:\\n', np.round(cdf_value,2))"
   ]
  },
  {
   "cell_type": "markdown",
   "id": "1a170161-1f89-4aa3-a424-e9f061e9b3fb",
   "metadata": {},
   "source": [
    "#### Exercise 10.13"
   ]
  },
  {
   "cell_type": "code",
   "execution_count": null,
   "id": "0ca74d33",
   "metadata": {},
   "outputs": [],
   "source": [
    "#Exercise 10.13\n",
    "from scipy.stats import norm\n",
    "import numpy as np\n",
    "import random\n",
    "import matplotlib.pyplot as plt\n",
    "\n",
    "random.seed(11)\n",
    "\n",
    "mu=170\n",
    "sigma=8\n",
    "X = norm(loc=mu, scale=sigma)\n",
    "sample = X.rvs(size=10000) \n",
    "print('The empirical mean of the sampled data is', round(np.mean(sample),4))\n",
    "print('The empirical standard deviation of the sampled data is', round(np.sqrt(np.var(sample)),4))\n",
    "\n",
    "fig, ax = plt.subplots(1, 1)\n",
    "ax.hist(sample, density=True, histtype='stepfilled')\n",
    "ax.set_xlabel('x')\n",
    "ax.set_ylabel('PDF')\n",
    "\n",
    "x1 = 165\n",
    "x2 = 181\n",
    "\n",
    "psi_x1 = norm.cdf((x1 - mu) / sigma)\n",
    "psi_x2 = norm.cdf((x2 - mu) / sigma)\n",
    "probability = psi_x2 - psi_x1\n",
    "\n",
    "print('The probability of being above 181cm is: ',round(1-psi_x2,4))\n",
    "\n",
    "print(f\"P({x1} < X < {x2}) = {probability:.4f}\")"
   ]
  },
  {
   "cell_type": "code",
   "execution_count": null,
   "id": "e153c6bc",
   "metadata": {},
   "outputs": [],
   "source": []
  },
  {
   "cell_type": "code",
   "execution_count": null,
   "id": "e6a522fb",
   "metadata": {},
   "outputs": [],
   "source": []
  }
 ],
 "metadata": {
  "kernelspec": {
   "display_name": "Python 3 (ipykernel)",
   "language": "python",
   "name": "python3"
  },
  "language_info": {
   "codemirror_mode": {
    "name": "ipython",
    "version": 3
   },
   "file_extension": ".py",
   "mimetype": "text/x-python",
   "name": "python",
   "nbconvert_exporter": "python",
   "pygments_lexer": "ipython3",
   "version": "3.11.5"
  }
 },
 "nbformat": 4,
 "nbformat_minor": 5
}
