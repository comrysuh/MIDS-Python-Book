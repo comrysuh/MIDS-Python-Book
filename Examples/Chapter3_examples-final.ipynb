{
 "cells": [
  {
   "cell_type": "code",
   "execution_count": 1,
   "id": "0813252d",
   "metadata": {},
   "outputs": [
    {
     "name": "stdout",
     "output_type": "stream",
     "text": [
      "[-1.   0.6  2.  -6. ]\n",
      "The shape of a is: (4,)\n",
      "The shape of a_row_vector is: (1, 4)\n",
      "The shape of a_col_vector is: (4, 1)\n",
      "The first element is -1.0, the second is 0.6, and the last one is -6.0.\n"
     ]
    }
   ],
   "source": [
    "#Listing 3.1\n",
    "import numpy as np\n",
    "\n",
    "a = np.array([-1,0.6,2,-6])\n",
    "print(a)\n",
    "print('The shape of a is:',a.shape)\n",
    "\n",
    "a_row_vector = a[np.newaxis,:] \n",
    "a_col_vector = a[:, np.newaxis] \n",
    "\n",
    "print('The shape of a_row_vector is:',a_row_vector.shape)\n",
    "print('The shape of a_col_vector is:',a_col_vector.shape)\n",
    "print('The first element is {}, the second is {}, and the last one is {}.'.format(a[0],a[1],a[-1]))"
   ]
  },
  {
   "cell_type": "code",
   "execution_count": 2,
   "id": "44e60a49",
   "metadata": {},
   "outputs": [
    {
     "name": "stdout",
     "output_type": "stream",
     "text": [
      "Adding 2 to a is: [14.  17.  -1.6 11. ]\n",
      "Adding a to b is: [ 9.  19.  -3.6 14. ]\n",
      "Subtracting b from a is: [15.  11.  -3.6  4. ]\n",
      "Multiplying a by 2 is: [24.  30.  -7.2 18. ]\n",
      "b to the power of 2 is: [ 9 16  0 25]\n",
      "a dividing by 3 is: [ 4.   5.  -1.2  3. ]\n"
     ]
    }
   ],
   "source": [
    "#Listing 3.2\n",
    "import numpy as np\n",
    "\n",
    "a = np.array([12, 15, -3.6, 9])\n",
    "b = np.array([-3, 4, 0, 5])\n",
    "\n",
    "print('Adding 2 to a is:', a + 2)\n",
    "print('Adding a to b is:', a + b)\n",
    "print('Subtracting b from a is:', a-b)\n",
    "print('Multiplying a by 2 is:', a*2)\n",
    "print('b to the power of 2 is:', b**2)\n",
    "print('a dividing by 3 is:', a/3)"
   ]
  },
  {
   "cell_type": "code",
   "execution_count": 3,
   "id": "9ee0bcd0",
   "metadata": {},
   "outputs": [
    {
     "data": {
      "text/plain": [
       "array([0.50709255, 0.16903085, 0.84515425])"
      ]
     },
     "execution_count": 3,
     "metadata": {},
     "output_type": "execute_result"
    }
   ],
   "source": [
    "#Listing 3.3\n",
    "import numpy as np\n",
    "\n",
    "x = np.array([3, 1, 5])\n",
    "unit_x = x/ np.linalg.norm(x)\n",
    "unit_x"
   ]
  },
  {
   "cell_type": "code",
   "execution_count": 4,
   "id": "1b59fae5",
   "metadata": {},
   "outputs": [
    {
     "name": "stdout",
     "output_type": "stream",
     "text": [
      "The distance between c and d is: 5.0\n",
      "The angle between c and d is:54.4\n"
     ]
    }
   ],
   "source": [
    "#Listing 3.4\n",
    "import numpy as np\n",
    "\n",
    "c = np.array([-4,4,2])\n",
    "d = np.array([1,4,2])\n",
    "\n",
    "unit_c = c/ np.linalg.norm(c)\n",
    "unit_d = d/ np.linalg.norm(d)\n",
    "\n",
    "dist_c_d = np.linalg.norm(c-d)\n",
    "print('The distance between c and d is:', dist_c_d)\n",
    "\n",
    "dot_c_d = np.dot(unit_c, unit_d)\n",
    "angle_deg = np.round(np.degrees(np.arccos(dot_c_d)),1)\n",
    "print('The angle between c and d is:{}'.format(angle_deg))"
   ]
  },
  {
   "cell_type": "code",
   "execution_count": 9,
   "id": "f416822d",
   "metadata": {},
   "outputs": [
    {
     "name": "stderr",
     "output_type": "stream",
     "text": [
      "The PostScript backend does not support transparency; partially transparent artists will be rendered opaque.\n"
     ]
    },
    {
     "data": {
      "image/png": "[encoded data removed]",
      "text/plain": [
       "<Figure size 640x480 with 1 Axes>"
      ]
     },
     "metadata": {},
     "output_type": "display_data"
    }
   ],
   "source": [
    "#Listing 3.5\n",
    "import numpy as np\n",
    "import matplotlib.pyplot as plt\n",
    "\n",
    "v1 = np.array([1, 0])  \n",
    "v2 = np.array([0, 1])  \n",
    "\n",
    "x_values = np.linspace(-3, 3, 5)\n",
    "y_values = np.linspace(-3, 3, 5)\n",
    "\n",
    "grid_points = np.array([[a*v1 + b*v2 for a in x_values] for b in y_values])\n",
    "\n",
    "fig, ax = plt.subplots()\n",
    "for row in grid_points:\n",
    "    for point in row:\n",
    "        ax.quiver(0, 0, point[0], point[1], angles='xy', scale_units='xy', scale=1)\n",
    "ax.quiver(0, 0, v1[0], v1[1], angles='xy', scale_units='xy', scale=1, color='r', label='v1 (1,0)', width=0.01)\n",
    "ax.quiver(0, 0, v2[0], v2[1], angles='xy', scale_units='xy', scale=1, color='b', label='v2 (0,1)', width=0.01)\n",
    "ax.set_xlim(-3, 3)\n",
    "ax.set_ylim(-3, 3)\n",
    "ax.axhline(y=0, color='k')\n",
    "ax.axvline(x=0, color='k')\n",
    "ax.grid(True)\n",
    "ax.set_aspect('equal')\n",
    "plt.xlabel('x')\n",
    "plt.ylabel('y')\n",
    "plt.legend()\n",
    "#plt.title(r'Span of Basis Vectors in $R^2$')\n",
    "fig.savefig('linear_combination.eps', dpi=600)"
   ]
  },
  {
   "cell_type": "code",
   "execution_count": 10,
   "id": "4c518aea",
   "metadata": {},
   "outputs": [
    {
     "name": "stdout",
     "output_type": "stream",
     "text": [
      "The matrix M is:\n",
      " [[1 3 5]\n",
      " [2 4 6]]\n",
      "It has 2 rows and 3 columns.\n"
     ]
    }
   ],
   "source": [
    "#Listing 3.6\n",
    "import numpy as np\n",
    "\n",
    "M = np.array([[1,3,5], [2,4,6]])\n",
    "print('The matrix M is:\\n',M )\n",
    "print('It has {} rows and {} columns.'.format(M.shape[0], M.shape[1]))"
   ]
  },
  {
   "cell_type": "code",
   "execution_count": 11,
   "id": "e4d64c72",
   "metadata": {},
   "outputs": [
    {
     "data": {
      "text/plain": [
       "array([[  4. , -10.6],\n",
       "       [  0.1,  -5. ]])"
      ]
     },
     "execution_count": 11,
     "metadata": {},
     "output_type": "execute_result"
    }
   ],
   "source": [
    "#Listing 3.7\n",
    "import numpy as np\n",
    "\n",
    "A = np.array([[2,4,-10.6], [1,0.1,-5],[4,8,10]])\n",
    "A[0:2,1:3]"
   ]
  },
  {
   "cell_type": "code",
   "execution_count": null,
   "id": "91396b01",
   "metadata": {},
   "outputs": [],
   "source": [
    "#Extra bit to Listing 3.7\n",
    "A[0::2,0::2]"
   ]
  },
  {
   "cell_type": "code",
   "execution_count": 12,
   "id": "091fbf41",
   "metadata": {},
   "outputs": [
    {
     "data": {
      "text/plain": [
       "array([[ 0,  1,  2,  3],\n",
       "       [ 4,  5,  6,  7],\n",
       "       [ 8,  9, 10, 11]])"
      ]
     },
     "execution_count": 12,
     "metadata": {},
     "output_type": "execute_result"
    }
   ],
   "source": [
    "#Listing 3.8\n",
    "import numpy as np\n",
    "\n",
    "w = np.arange(12)\n",
    "y = w.reshape((3,4))\n",
    "y"
   ]
  },
  {
   "cell_type": "code",
   "execution_count": 13,
   "id": "8a9e3805",
   "metadata": {},
   "outputs": [
    {
     "name": "stdout",
     "output_type": "stream",
     "text": [
      "Q is\n",
      " [[10  9  8 10  9  8]\n",
      " [ 0  1  2  0  1  2]]\n",
      "Q1 is\n",
      " [[10  9  8]\n",
      " [ 0  1  2]\n",
      " [10  9  8]\n",
      " [ 0  1  2]]\n"
     ]
    }
   ],
   "source": [
    "#Listing 3.9\n",
    "import numpy as np\n",
    "\n",
    "M = np.array(([10, 9, 8], [0, 1, 2]))\n",
    "Q = np.concatenate([M, M], axis=1)\n",
    "print('Q is\\n',Q)\n",
    "Q1 = np.vstack([M,M])\n",
    "print('Q1 is\\n',Q1)"
   ]
  },
  {
   "cell_type": "code",
   "execution_count": null,
   "id": "c60000f0",
   "metadata": {},
   "outputs": [],
   "source": [
    "#Listing 3.10 - using the Q matrix already defined\n",
    "sub_arrays = np.split(Q, 3, axis=1)\n",
    "sub_arrays"
   ]
  },
  {
   "cell_type": "code",
   "execution_count": null,
   "id": "9058ad3c",
   "metadata": {},
   "outputs": [],
   "source": [
    "#Extra bit to Listing 3.10\n",
    "sub1 = sub_arrays[0]\n",
    "print(sub1)\n",
    "sub2 = sub_arrays[1]\n",
    "print(sub2)\n",
    "sub3 = sub_arrays[2]\n",
    "print(sub3)"
   ]
  },
  {
   "cell_type": "code",
   "execution_count": 14,
   "id": "722b3cca",
   "metadata": {},
   "outputs": [
    {
     "name": "stdout",
     "output_type": "stream",
     "text": [
      "The elements along the main diagonal of M are: [1 4]\n",
      "Here is a diagonal matrix:\n",
      " [[1 0 0 0]\n",
      " [0 4 0 0]\n",
      " [0 0 4 0]\n",
      " [0 0 0 2]]\n",
      "The trace of P is: 11\n"
     ]
    }
   ],
   "source": [
    "#Listing 3.11\n",
    "import numpy as np\n",
    "\n",
    "M = np.array([[1,3,5], [2,4,6]])\n",
    "P = np.array([[1,3,5,19], [2,4,6,8],[-2,0,4,7], [-3,-6, 9,2]])\n",
    "print('The elements along the main diagonal of M are:',np.diag(M))\n",
    "\n",
    "diag_elem = np.diag(P)\n",
    "print('Here is a diagonal matrix:\\n',np.diag(diag_elem))\n",
    "print('The trace of P is:', np.trace(P))\n"
   ]
  },
  {
   "cell_type": "code",
   "execution_count": null,
   "id": "8f0790e6",
   "metadata": {},
   "outputs": [],
   "source": [
    "#Listing 3.12\n",
    "import numpy as np\n",
    "\n",
    "M = np.array([[1,3,5], [2,4,6]])\n",
    "M1 = M + 5 #addition\n",
    "print('M + 5 is:\\n',M1)\n",
    "M2 = M * 2 #Multiplication\n",
    "print('M * 2 is:\\n',M2)\n",
    "M3 = M ** 2 #Squared\n",
    "print('M ** 2 is:\\n',M3)\n",
    "M4 = M/2 #Division\n",
    "print('M/2 is:\\n',M4)"
   ]
  },
  {
   "cell_type": "code",
   "execution_count": 15,
   "id": "3461c594",
   "metadata": {},
   "outputs": [
    {
     "name": "stdout",
     "output_type": "stream",
     "text": [
      "The sum of M+N is:\n",
      " [[ 2  3  3]\n",
      " [-1 12  8]]\n"
     ]
    },
    {
     "ename": "ValueError",
     "evalue": "operands could not be broadcast together with shapes (2,3) (2,2) ",
     "output_type": "error",
     "traceback": [
      "\u001b[1;31m---------------------------------------------------------------------------\u001b[0m",
      "\u001b[1;31mValueError\u001b[0m                                Traceback (most recent call last)",
      "Cell \u001b[1;32mIn[15], line 8\u001b[0m\n\u001b[0;32m      6\u001b[0m O \u001b[38;5;241m=\u001b[39m np\u001b[38;5;241m.\u001b[39marray([[\u001b[38;5;241m0\u001b[39m,\u001b[38;5;241m2\u001b[39m], [\u001b[38;5;241m-\u001b[39m\u001b[38;5;241m1\u001b[39m,\u001b[38;5;241m5\u001b[39m]])\n\u001b[0;32m      7\u001b[0m \u001b[38;5;28mprint\u001b[39m(\u001b[38;5;124m'\u001b[39m\u001b[38;5;124mThe sum of M+N is:\u001b[39m\u001b[38;5;130;01m\\n\u001b[39;00m\u001b[38;5;124m'\u001b[39m, M\u001b[38;5;241m+\u001b[39mN)\n\u001b[1;32m----> 8\u001b[0m M\u001b[38;5;241m+\u001b[39mO\n",
      "\u001b[1;31mValueError\u001b[0m: operands could not be broadcast together with shapes (2,3) (2,2) "
     ]
    }
   ],
   "source": [
    "#Listing 3.13\n",
    "import numpy as np\n",
    "\n",
    "M = np.array([[1,3,5], [2,4,6]])\n",
    "N = np.array([[1,0,-2], [-3,8,2]])\n",
    "O = np.array([[0,2], [-1,5]])\n",
    "print('The sum of M+N is:\\n', M+N)\n",
    "M+O"
   ]
  },
  {
   "cell_type": "code",
   "execution_count": 16,
   "id": "481099d9",
   "metadata": {},
   "outputs": [
    {
     "name": "stdout",
     "output_type": "stream",
     "text": [
      "The result of mat_prod is:\n",
      " [[ 17 -38]\n",
      " [ 28 -64]]\n",
      "The result of elem_prod is:\n",
      " [[  2 -20]\n",
      " [ 12 -48]]\n"
     ]
    }
   ],
   "source": [
    "#Listing 3.14\n",
    "import numpy as np\n",
    "\n",
    "U = np.array([[2,5], [4,8]])\n",
    "V = np.array([[1,-4], [3,-6]])\n",
    "\n",
    "mat_prod = np.matmul(U,V)\n",
    "print('The result of mat_prod is:\\n', mat_prod)\n",
    "\n",
    "elem_prod = U*V\n",
    "print('The result of elem_prod is:\\n', elem_prod)"
   ]
  },
  {
   "cell_type": "code",
   "execution_count": 17,
   "id": "24dbed3a",
   "metadata": {},
   "outputs": [
    {
     "name": "stdout",
     "output_type": "stream",
     "text": [
      "The result of mat_prod_1 is:\n",
      " [[ -76  132]\n",
      " [-128  216]]\n",
      "The result of mat_prod_2 is:\n",
      " [[ -76  132]\n",
      " [-128  216]]\n"
     ]
    }
   ],
   "source": [
    "#Listing 3.15\n",
    "import numpy as np\n",
    "\n",
    "U = np.array([[2,5], [4,8]])\n",
    "V = np.array([[1,-4], [3,-6]])\n",
    "W = np.array([[0,10],[2,1]])\n",
    "\n",
    "mat_prod_1 = np.matmul(np.matmul(U,V),W)\n",
    "print('The result of mat_prod_1 is:\\n', mat_prod_1)\n",
    "\n",
    "mat_prod_2 = np.matmul(U, np.matmul(V,W))\n",
    "print('The result of mat_prod_2 is:\\n', mat_prod_2)"
   ]
  },
  {
   "cell_type": "code",
   "execution_count": 18,
   "id": "2710998c",
   "metadata": {},
   "outputs": [
    {
     "name": "stdout",
     "output_type": "stream",
     "text": [
      "The result of mat_prod_3 is:\n",
      " [[70 20]\n",
      " [13  4]]\n",
      "The result of sum_two_prods is:\n",
      " [[70 20]\n",
      " [13  4]]\n"
     ]
    }
   ],
   "source": [
    "#Listing 3.16\n",
    "import numpy as np\n",
    "\n",
    "U = np.array([[2,5], [4,8]])\n",
    "V = np.array([[1,-4], [3,-6]])\n",
    "W = np.array([[0,10],[2,1]])\n",
    "\n",
    "mat_prod_3 = np.matmul(W, U+V)\n",
    "print('The result of mat_prod_3 is:\\n', mat_prod_3)\n",
    "\n",
    "mat_prod_4 = np.matmul(W,U)\n",
    "mat_prod_5 = np.matmul(W,V)\n",
    "sum_two_prods = mat_prod_4 + mat_prod_5\n",
    "print('The result of sum_two_prods is:\\n', sum_two_prods)"
   ]
  },
  {
   "cell_type": "code",
   "execution_count": 19,
   "id": "d4ec4ac5",
   "metadata": {},
   "outputs": [
    {
     "name": "stdout",
     "output_type": "stream",
     "text": [
      "The determinant of E is: -3.0\n",
      "The Inverse matrix is:\n",
      " [[-0.33333333  3.33333333 -5.33333333]\n",
      " [ 0.66666667 -1.66666667  2.66666667]\n",
      " [-0.33333333  0.33333333 -0.33333333]]\n",
      "Is the product an identity matrix? True\n"
     ]
    }
   ],
   "source": [
    "#Listing 3.17\n",
    "import numpy as np\n",
    "\n",
    "E = np.array([[1,2,0], [2,5,8], [1,3,5]])\n",
    "print('The determinant of E is:', round(np.linalg.det(E),2))\n",
    "\n",
    "E_inv = np.linalg.inv(E)\n",
    "print('The Inverse matrix is:\\n',E_inv)\n",
    "\n",
    "mat_prod = np.matmul(E, E_inv)\n",
    "identity = np.eye(3)\n",
    "is_identity = np.allclose(mat_prod, identity)\n",
    "#is_identity_exact = np.array_equal(mat_prod, identity)\n",
    "print(\"Is the product an identity matrix?\", is_identity)"
   ]
  },
  {
   "cell_type": "code",
   "execution_count": 20,
   "id": "dc0279b2",
   "metadata": {},
   "outputs": [
    {
     "name": "stdout",
     "output_type": "stream",
     "text": [
      "The determinant of F is: 0.0\n",
      "The maximal number of linearly independent columns of F is: 2\n"
     ]
    }
   ],
   "source": [
    "#Listing 3.18\n",
    "import numpy as np\n",
    "\n",
    "F = np.array([[1,2,2], [2,5,5], [1,3,3]])\n",
    "print('The determinant of F is:', np.linalg.det(F))\n",
    "print('The maximal number of linearly independent columns of F is:', np.linalg.matrix_rank(F))\n"
   ]
  },
  {
   "cell_type": "code",
   "execution_count": 21,
   "id": "8e6a515d",
   "metadata": {},
   "outputs": [
    {
     "name": "stdout",
     "output_type": "stream",
     "text": [
      "The norm of each column vector is: [1. 1.]\n",
      "The dot product of the two column vectors is: 0.0\n",
      "Is the transpose equal to the inverse matrix? True\n"
     ]
    }
   ],
   "source": [
    "#Listing 3.19\n",
    "import numpy as np\n",
    "\n",
    "G = np.array([[2/np.sqrt(5), 1/np.sqrt(5)],[-1/np.sqrt(5), 2/np.sqrt(5)]])\n",
    "\n",
    "G_vec_norm = np.linalg.norm(G, axis=0)\n",
    "print('The norm of each column vector is:', G_vec_norm)\n",
    "\n",
    "G_vec_dot = np.dot(G[:,0], G[:,1])\n",
    "print('The dot product of the two column vectors is:',G_vec_dot)\n",
    "\n",
    "G_T  = np.transpose(G)\n",
    "G_inv = np.linalg.inv(G)\n",
    "is_inverse = np.allclose(G_T, G_inv)\n",
    "print(\"Is the transpose equal to the inverse matrix?\", is_inverse)\n"
   ]
  },
  {
   "cell_type": "code",
   "execution_count": 24,
   "id": "5fa0974e",
   "metadata": {},
   "outputs": [
    {
     "data": {
      "image/png": "[encoded data removed]",
      "text/plain": [
       "<Figure size 2000x400 with 5 Axes>"
      ]
     },
     "metadata": {},
     "output_type": "display_data"
    }
   ],
   "source": [
    "#Listing 3.20\n",
    "import numpy as np\n",
    "import matplotlib.pyplot as plt\n",
    "\n",
    "def rotate_and_plot_triangle(ax, vertices, angle):\n",
    "    centroid = np.mean(vertices, axis=0)\n",
    "    rotation_matrix = np.array(\n",
    "        [[np.cos(angle), -np.sin(angle)],\n",
    "        [np.sin(angle), np.cos(angle)]])\n",
    "    rotated_vertices = np.matmul(vertices - centroid, rotation_matrix.T) + centroid\n",
    "    \n",
    "    vertices_closed = np.vstack([rotated_vertices, rotated_vertices[0]])\n",
    "    ax.plot(vertices_closed[:, 0], vertices_closed[:, 1], color='blue')\n",
    "    ax.set_xlim(0.2, 0.8)\n",
    "    ax.set_ylim(0.3, 1)\n",
    "    ax.set_aspect('equal')\n",
    "    ax.set_title(f'Rotated {np.degrees(angle):.1f} degrees' if angle else 'Original')\n",
    "\n",
    "original_vertices = np.array([[0.5, 0.5], [0.6, 0.8], [0.4, 0.8]])\n",
    "\n",
    "fig, axs = plt.subplots(1, 5, figsize=(20, 4))\n",
    "angles_degrees = [0,45, 90, 135, 180]\n",
    "angles_radians = [np.radians(angle) for angle in angles_degrees] \n",
    "\n",
    "for ax, angle in zip(axs, angles_radians):\n",
    "    rotate_and_plot_triangle(ax, original_vertices, angle)\n",
    "\n",
    "fig.savefig('linear_transformation.eps',dpi=600)"
   ]
  },
  {
   "cell_type": "code",
   "execution_count": null,
   "id": "422cbbde",
   "metadata": {},
   "outputs": [],
   "source": []
  },
  {
   "cell_type": "code",
   "execution_count": null,
   "id": "93bdcd39",
   "metadata": {},
   "outputs": [],
   "source": []
  }
 ],
 "metadata": {
  "kernelspec": {
   "display_name": "Python 3 (ipykernel)",
   "language": "python",
   "name": "python3"
  },
  "language_info": {
   "codemirror_mode": {
    "name": "ipython",
    "version": 3
   },
   "file_extension": ".py",
   "mimetype": "text/x-python",
   "name": "python",
   "nbconvert_exporter": "python",
   "pygments_lexer": "ipython3",
   "version": "3.11.7"
  }
 },
 "nbformat": 4,
 "nbformat_minor": 5
}
