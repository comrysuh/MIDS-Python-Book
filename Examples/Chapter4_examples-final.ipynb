{
 "cells": [
  {
   "cell_type": "markdown",
   "id": "9edeca38",
   "metadata": {},
   "source": [
    "# Eigendecomposition"
   ]
  },
  {
   "cell_type": "code",
   "execution_count": null,
   "id": "635b1812",
   "metadata": {},
   "outputs": [],
   "source": [
    "#Listing 4.1\n",
    "import numpy as np\n",
    "\n",
    "A = np.array([[4,2],[3,-1]])\n",
    "\n",
    "eignVals, eignVecs = np.linalg.eig(A)\n",
    "\n",
    "print(\"Original Matrix A:\\n\", A)\n",
    "print(\"Eigenvalues:\\n\", eignVals)\n",
    "print(\"Eigenvectors (each column is an eigenvector):\\n\", eignVecs)\n",
    "\n",
    "for elem in eignVals:\n",
    "    print('Eigenvalue:',round(elem,2))\n",
    "for elem in np.transpose(eignVecs):\n",
    "    print('Eigenvector:\\n',elem[:, np.newaxis])"
   ]
  },
  {
   "cell_type": "code",
   "execution_count": null,
   "id": "958af0a6",
   "metadata": {},
   "outputs": [],
   "source": [
    "#Listing 4.2\n",
    "import numpy as np\n",
    "\n",
    "A = np.array([[5,2],[2,2]])\n",
    "\n",
    "eignVals, eignVecs = np.linalg.eig(A)\n",
    "\n",
    "D = np.diag(eignVals)  \n",
    "U = eignVecs\n",
    "U_inv = np.linalg.inv(U)\n",
    "\n",
    "A_reconstructed = np.matmul(np.matmul(U, D), U_inv)\n",
    "\n",
    "print(\"Original Matrix A:\\n\", A)\n",
    "print(\"Eigenvalues:\\n\", eignVals)\n",
    "print(\"Eigenvectors (each column is an eigenvector):\\n\", eignVecs)\n",
    "print(\"U is:\\n\",U)\n",
    "print(\"Diagonal matrix D:\\n\", D)\n",
    "print(\"U_inv is:\\n\",U_inv)\n",
    "print(\"Reconstructed Matrix A:\\n\", A_reconstructed)\n"
   ]
  },
  {
   "cell_type": "markdown",
   "id": "f20c7d1e",
   "metadata": {},
   "source": [
    "#### An illustration of how PCA works"
   ]
  },
  {
   "cell_type": "code",
   "execution_count": null,
   "id": "2daf230b",
   "metadata": {},
   "outputs": [],
   "source": [
    "#Listing 4.3\n",
    "import numpy as np\n",
    "from numpy import linalg as LA\n",
    "\n",
    "def myPCA(data):\n",
    "    mu = np.mean(data, axis=0)\n",
    "    centred_data = data - mu\n",
    "    sigma = np.cov(centred_data.T)\n",
    "    eignVals, eignVecs = LA.eig(sigma)\n",
    "    idx = np.argsort(eignVals)[::-1]\n",
    "    eignVals = eignVals[idx]\n",
    "    eignVecs = eignVecs[:,idx]\n",
    "    proj_data = np.matmul(centred_data, eignVecs)\n",
    "    print('The sorted eigenvalues are:\\n', eignVals)\n",
    "    print('The sorted eigenvectors (each column is an eigenvector):\\n', eignVecs)\n",
    "    return proj_data, eignVecs"
   ]
  },
  {
   "cell_type": "code",
   "execution_count": null,
   "id": "8466492e",
   "metadata": {},
   "outputs": [],
   "source": [
    "#Listing 4.4\n",
    "import matplotlib.pyplot as plt\n",
    "\n",
    "X = np.array([[1, 5], [2, 2], [3, 3], [4, 4], [5, 1]])\n",
    "proj_X, eignVecs = myPCA(X)\n",
    "mu = np.mean(X, axis=0)\n",
    "centred_X = X - mu\n",
    "\n",
    "fig = plt.figure(figsize=(10, 5))\n",
    "ax1 = plt.subplot(1, 2, 1)\n",
    "ax1.scatter(centred_X[:, 0], centred_X[:, 1], marker='o')\n",
    "ax1.axhline(0, color='gray', linestyle='--')\n",
    "ax1.axvline(0, color='gray', linestyle='--')\n",
    "ax1.quiver(0, 0, eignVecs[0,0], eignVecs[1,0], angles='xy', scale_units='xy', scale=1, color='red')\n",
    "ax1.quiver(0, 0, eignVecs[0,1], eignVecs[1,1], angles='xy', scale_units='xy', scale=1, color='blue')\n",
    "ax1.set_xlabel('X1')\n",
    "ax1.set_ylabel('X2')\n",
    "ax1.set_title('Data with zero means')\n",
    "ax1.axis('equal')\n",
    "\n",
    "ax2 = plt.subplot(1, 2, 2)\n",
    "ax2.scatter(proj_X[:, 0], proj_X[:, 1], marker='o')\n",
    "ax2.axhline(0, color='gray', linestyle='--')\n",
    "ax2.axvline(0, color='gray', linestyle='--')\n",
    "ax2.set_xlabel('PC1')\n",
    "ax2.set_ylabel('PC2')\n",
    "ax2.set_title('The PCA plot')\n",
    "ax2.axis('equal')\n",
    "\n",
    "fig.savefig('pca_toy.eps', dpi=600)"
   ]
  },
  {
   "cell_type": "markdown",
   "id": "d5db224d",
   "metadata": {},
   "source": [
    "#### Sklearn PCA"
   ]
  },
  {
   "cell_type": "code",
   "execution_count": null,
   "id": "fbbbd127",
   "metadata": {},
   "outputs": [],
   "source": [
    "#Listing 4.5\n",
    "from sklearn.decomposition import PCA\n",
    "import numpy as np\n",
    "import matplotlib.pyplot as plt\n",
    "\n",
    "X = np.array([[1, 5], [2, 2], [3, 3], [4, 4], [5, 1]])\n",
    "\n",
    "pca = PCA()\n",
    "pca_X= pca.fit(X)\n",
    "print('The amount of variance explained by each component is:\\n', pca_X.explained_variance_)\n",
    "print('The Principal axes in feature space are:\\n', pca_X.components_)\n",
    "proj_X_2 = pca_X.transform(X)"
   ]
  },
  {
   "cell_type": "markdown",
   "id": "441af10d",
   "metadata": {},
   "source": [
    "#### An illustration of how SVD works"
   ]
  },
  {
   "cell_type": "code",
   "execution_count": null,
   "id": "32c56dae",
   "metadata": {},
   "outputs": [],
   "source": [
    "#Listing 4.6\n",
    "import numpy as np\n",
    "from numpy import linalg as LA\n",
    "\n",
    "def mySVD(X):\n",
    "    XT = np.transpose(X)\n",
    "    A  = np.matmul(XT, X)\n",
    "    \n",
    "    eignVals, V = LA.eig(A)\n",
    "    idx = np.argsort(eignVals)[::-1]\n",
    "    eignVals = eignVals[idx]\n",
    "    V = V[:, idx]\n",
    "    \n",
    "    S = np.diag(np.sqrt(eignVals))\n",
    "    \n",
    "    num_cols_V = V.shape[1]\n",
    "    u_list =[]\n",
    "    for i in range(num_cols_V):\n",
    "        ui = np.matmul(X, V[:,i]) / np.sqrt(eignVals[i])\n",
    "        u_list.append(ui)\n",
    "    U = np.column_stack(u_list)\n",
    "    \n",
    "    print('The left-singular vector matrix U is :\\n', U)\n",
    "    print('The singular value matrix S is:\\n',S)\n",
    "    print('The right-singular vector matrix V is :\\n', V)\n",
    "    \n",
    "    return U, S, V"
   ]
  },
  {
   "cell_type": "code",
   "execution_count": null,
   "id": "3aa74f9b",
   "metadata": {},
   "outputs": [],
   "source": [
    "#Slightly extended version of Listing 4.7\n",
    "import numpy as np\n",
    "from numpy import linalg as LA\n",
    "\n",
    "X = np.array([[5, -4], [0,3]])\n",
    "\n",
    "U, S, V = mySVD(X)\n",
    "\n",
    "VT = np.transpose(V)\n",
    "reconstructed_X = np.matmul(np.matmul(U, S), VT)\n",
    "is_equal = np.allclose(reconstructed_X, X)\n",
    "print(\"Is the reconstructed matrix equal to matrix X?\", is_equal)\n",
    "\n",
    "UT = np.transpose(U)\n",
    "mat_prod_U = np.matmul(UT, U)\n",
    "identity = np.eye(2)\n",
    "is_identity_U = np.allclose(mat_prod_U, identity)\n",
    "print(\"Is the product of U and UT an identity matrix?\", is_identity_U)\n",
    "\n",
    "mat_prod_V = np.matmul(VT, V)\n",
    "identity = np.eye(2)\n",
    "is_identity_V = np.allclose(mat_prod_V, identity)\n",
    "print(\"Is the product of V and VT an identity matrix?\", is_identity_V)\n"
   ]
  },
  {
   "cell_type": "code",
   "execution_count": null,
   "id": "3f2864c4",
   "metadata": {},
   "outputs": [],
   "source": [
    "#Listing 4.8\n",
    "import numpy as np\n",
    "import matplotlib.pyplot as plt\n",
    "\n",
    "def plot_triangle(ax, vertices_data, colours, labels, title, xlim, ylim, grid=True, show_legend=False):\n",
    "    \n",
    "    for vertices, colour, label in zip(vertices_data, colours, labels):\n",
    "        ax.plot(vertices[:, 0], vertices[:, 1], colour, label=label)\n",
    "    ax.set_title(title)\n",
    "    ax.set_xlim(xlim)\n",
    "    ax.set_ylim(ylim)\n",
    "\n",
    "    if grid:\n",
    "        ax.grid(True)\n",
    "    if show_legend:\n",
    "        ax.legend()"
   ]
  },
  {
   "cell_type": "code",
   "execution_count": null,
   "id": "3d4ed543-ef6c-477a-8d7e-57b398faba45",
   "metadata": {},
   "outputs": [],
   "source": []
  },
  {
   "cell_type": "code",
   "execution_count": null,
   "id": "67aa9d8a",
   "metadata": {},
   "outputs": [],
   "source": [
    "#Listing 4.9\n",
    "vertices = np.array([[2, 2], [2, 4], [4, 2], [2, 2]])  \n",
    "vertices_X = np.matmul(vertices, X.T)\n",
    "vertices_VT = np.matmul(vertices, VT.T)\n",
    "vertices_SVT = np.matmul(vertices_VT, S.T)\n",
    "vertices_USVT = np.matmul(vertices_SVT, U.T)\n",
    "\n",
    "fig, axs = plt.subplots(2, 2, figsize=(10, 10))\n",
    "\n",
    "plot_triangle(axs[0, 0], [vertices, vertices_X], ['b-o', 'k-o'], ['Original', 'X Transformed'],\n",
    "              'Original Triangle + X Transformed', (-10, 13), (-3, 15), show_legend=True)\n",
    "\n",
    "plot_triangle(axs[0, 1], [vertices, vertices_VT], ['b-o', 'r-o'], ['Original', 'VT Transformed'],\n",
    "              'Original + VT Transformed', (-10, 13), (-3, 15), show_legend=True)\n",
    "\n",
    "plot_triangle(axs[1, 0], [vertices, vertices_VT, vertices_SVT], ['b-o', 'r-o', 'g-o'],\n",
    "              ['Original', 'VT Transformed', 'SVT Transformed'], 'Original + VT and SVT Transformed',\n",
    "              (-10, 13), (-3, 15), show_legend=True)\n",
    "\n",
    "plot_triangle(axs[1, 1], [vertices, vertices_VT, vertices_SVT, vertices_USVT], \n",
    "              ['b-o', 'r-o', 'g-o', 'k-o'], ['Original', 'VT Transformed', 'SVT Transformed', 'USVT Transformed'],\n",
    "              'Original + VT, SVT and USVT Transformed', (-10, 13), (-3, 15), show_legend=True)\n",
    "\n",
    "plt.tight_layout()\n",
    "\n",
    "fig.savefig('illustration_SVD.eps', dpi=600)"
   ]
  },
  {
   "cell_type": "markdown",
   "id": "60a73da5",
   "metadata": {},
   "source": [
    "#### The Relationship Between PCA and SVD"
   ]
  },
  {
   "cell_type": "code",
   "execution_count": null,
   "id": "56eb3132",
   "metadata": {},
   "outputs": [],
   "source": [
    "#Listing 4.10\n",
    "import numpy as np\n",
    "from numpy.linalg import svd\n",
    "\n",
    "X = np.array([[1, 5], [2, 2], [3, 3], [4, 4], [5, 1]])\n",
    "mu = np.mean(X, axis=0)\n",
    "norm_X = X - mu\n",
    "U,s,VT = svd(norm_X)\n",
    "print('The left singular matrix U is:\\n',U)\n",
    "print('The sorted singular values s are:\\n',s)\n",
    "print('The right singular matrix V is:\\n',VT.T)\n",
    "print('Note that the columns of V are the eigenvectors.')"
   ]
  },
  {
   "cell_type": "markdown",
   "id": "09921ae9",
   "metadata": {},
   "source": [
    "#### Compressing an Image using Singular Vector Decomposition"
   ]
  },
  {
   "cell_type": "code",
   "execution_count": null,
   "id": "d36782c4",
   "metadata": {},
   "outputs": [],
   "source": [
    "#Listing 4.11\n",
    "import numpy as np\n",
    "import matplotlib.pyplot as plt\n",
    "from numpy.linalg import svd\n",
    "from skimage import data\n",
    "from skimage.color import rgb2gray\n",
    "from skimage import img_as_float\n",
    "\n",
    "astronaut_image = rgb2gray(img_as_float(data.astronaut()))  \n",
    "print(type(astronaut_image))\n",
    "original_shape = astronaut_image.shape\n",
    "print(original_shape) \n",
    "print('The rank of the image matrix is:', np.linalg.matrix_rank(astronaut_image))\n",
    "\n",
    "fig = plt.figure(figsize=(6,6))\n",
    "plt.imshow(astronaut_image, cmap='gray')\n",
    "plt.axis('off')\n",
    "\n",
    "fig.savefig('astronaut_image.eps', dpi=600)"
   ]
  },
  {
   "cell_type": "code",
   "execution_count": null,
   "id": "4f4a6393",
   "metadata": {},
   "outputs": [],
   "source": [
    "#Listing 4.12\n",
    "def compress_svd(image,k):\n",
    "    U,s,VT = svd(image)\n",
    "    reconst_matrix = np.matmul(U[:,:k],np.matmul(np.diag(s[:k]),VT[:k,:]))\n",
    "   \n",
    "    return reconst_matrix,s"
   ]
  },
  {
   "cell_type": "code",
   "execution_count": null,
   "id": "f783b564",
   "metadata": {},
   "outputs": [],
   "source": [
    "#Listing 4.13\n",
    "k = 50\n",
    "reconst_img,s = compress_svd(astronaut_image,k)\n",
    "\n",
    "fig,axes = plt.subplots(1,2,figsize=(8,5))\n",
    "\n",
    "axes[0].plot(s)\n",
    "axes[0].set_xlabel('Index of each singular value')\n",
    "axes[0].set_ylabel('Singular values')\n",
    "print('The size of original image:', original_shape[0]*original_shape[1])\n",
    "print('The size after compression:',k*(original_shape[0] + original_shape[1]+1))\n",
    "compression_ratio =(original_shape[0]*original_shape[1])/(k*(original_shape[0] + original_shape[1]+1))\n",
    "axes[1].set_title(\"compression ratio={:.2f}\".format(compression_ratio))\n",
    "axes[1].imshow(reconst_img,cmap='gray')\n",
    "axes[1].axis('off')\n",
    "fig.tight_layout()\n",
    "\n",
    "fig.savefig('compressed_image.eps', dpi=600)"
   ]
  },
  {
   "cell_type": "code",
   "execution_count": null,
   "id": "f6bd58ed",
   "metadata": {},
   "outputs": [],
   "source": []
  }
 ],
 "metadata": {
  "kernelspec": {
   "display_name": "Python 3 (ipykernel)",
   "language": "python",
   "name": "python3"
  },
  "language_info": {
   "codemirror_mode": {
    "name": "ipython",
    "version": 3
   },
   "file_extension": ".py",
   "mimetype": "text/x-python",
   "name": "python",
   "nbconvert_exporter": "python",
   "pygments_lexer": "ipython3",
   "version": "3.11.7"
  }
 },
 "nbformat": 4,
 "nbformat_minor": 5
}
