{
 "cells": [
  {
   "cell_type": "markdown",
   "id": "dc1f9ecf-d814-44bd-8a02-fd33235f76b2",
   "metadata": {},
   "source": [
    "#### Listing 8.1 - Define simple linear regression with one variable"
   ]
  },
  {
   "cell_type": "code",
   "execution_count": null,
   "id": "61ce9c46",
   "metadata": {},
   "outputs": [],
   "source": [
    "#Listing 8.1 - function for simple linear regression with one variable\n",
    "def slr(x, y):\n",
    "    mean_x = np.mean(x)\n",
    "    print('The average x is:', mean_x)\n",
    "    mean_y = np.mean(y)\n",
    "    print('The average y is:', mean_y)\n",
    "    \n",
    "    dot_product_1 = np.dot((x-mean_x), (y-mean_y))\n",
    "    dot_product_2 = np.dot((x-mean_x), (x-mean_x))\n",
    "    a1 = dot_product_1/dot_product_2\n",
    "    a0 = mean_y-a1*mean_x\n",
    "    print('The slope is:', np.round(a1,2))\n",
    "    print('The intercept is:', np.round(a0,2))\n",
    "    return a0, a1"
   ]
  },
  {
   "cell_type": "markdown",
   "id": "d2440e05-fffe-4aaa-b1d2-a4cf447fdfc0",
   "metadata": {},
   "source": [
    "#### Listing 8.2"
   ]
  },
  {
   "cell_type": "code",
   "execution_count": null,
   "id": "fdbe9557",
   "metadata": {},
   "outputs": [],
   "source": [
    "#Listing 8.2 - use of function for simple linear regression with one variable\n",
    "import numpy as np\n",
    "import matplotlib.pyplot as plt\n",
    "\n",
    "x_obs = np.array([1,2,3])\n",
    "y_obs = np.array([2,4,3])\n",
    "\n",
    "intercept, slope = slr(x_obs,y_obs)\n",
    "\n",
    "x = np.linspace(-2, 4, 400) \n",
    "y = slope * x + intercept\n",
    "\n",
    "plt.figure(figsize=(8, 6))\n",
    "plt.scatter(x_obs, y_obs, c='red', marker='x')\n",
    "plt.plot(x, y, label=f'y = {slope}x + {intercept}')\n",
    "\n",
    "plt.xlabel('x', fontsize=\"15\")\n",
    "plt.ylabel('y', fontsize=\"15\")\n",
    "plt.legend(fontsize=\"15\") \n",
    "\n",
    "plt.grid(True)\n",
    "plt.savefig('line.eps',format='eps', dpi=600)"
   ]
  },
  {
   "cell_type": "markdown",
   "id": "283a7fce-5a72-407e-af30-f79b2e43d51e",
   "metadata": {},
   "source": [
    "#### Listing 8.3-Linear Regression with multiple variables"
   ]
  },
  {
   "cell_type": "code",
   "execution_count": null,
   "id": "186f437e",
   "metadata": {},
   "outputs": [],
   "source": [
    "#Listing 8.3 - Linear Regression with multiple variables\n",
    "import sympy as sp\n",
    "\n",
    "N, d = sp.symbols('N d')\n",
    "X = sp.MatrixSymbol('X', N, d+1)\n",
    "a = sp.MatrixSymbol('a', d+1, 1)\n",
    "y = sp.MatrixSymbol('y', N, 1)\n",
    "\n",
    "Q = (y-X*a).T * (y-X*a)\n",
    "Q.diff(a)"
   ]
  },
  {
   "cell_type": "markdown",
   "id": "d2363a68-db24-4635-9e3b-34233de6ae0a",
   "metadata": {},
   "source": [
    "#### Listing 8.4"
   ]
  },
  {
   "cell_type": "code",
   "execution_count": null,
   "id": "e24a1c7d",
   "metadata": {},
   "outputs": [],
   "source": [
    "#Listing 8.4\n",
    "import sympy as sp\n",
    "a, X, XT,y = sp.symbols(\"a, X, XT, y\", commutative=False)\n",
    "expr2 = 2*XT*X*a - 2*XT*y\n",
    "sp.solve(expr2, a)"
   ]
  },
  {
   "cell_type": "markdown",
   "id": "488a4d6f-2717-4fb6-9150-943822c75b3f",
   "metadata": {},
   "source": [
    "#### Listing 8.5 - Define simple linear regression with multiple variables"
   ]
  },
  {
   "cell_type": "code",
   "execution_count": null,
   "id": "8dbfba54",
   "metadata": {},
   "outputs": [],
   "source": [
    "#Listing 8.5\n",
    "def lrmvar(X,y):\n",
    "    a = np.matmul(np.matmul(np.linalg.inv(np.matmul(X.T,X)), X.T),y)\n",
    "    return a"
   ]
  },
  {
   "cell_type": "markdown",
   "id": "f650f900-f89a-4db0-9e56-cde077d2e331",
   "metadata": {},
   "source": [
    "#### Listing 8.6"
   ]
  },
  {
   "cell_type": "code",
   "execution_count": null,
   "id": "0a232a8d",
   "metadata": {},
   "outputs": [],
   "source": [
    "#Listing 8.6\n",
    "import numpy as np\n",
    "\n",
    "X = np.array([[1,1],[1,2],[1,3]])\n",
    "y = np.array([2,4,3])\n",
    "a = lrmvar(X,y)\n",
    "print('The X matrix is:\\n', X)\n",
    "print('The y array is:',y)\n",
    "print('The estimated parameters are:',a)"
   ]
  },
  {
   "cell_type": "markdown",
   "id": "aaad5d55-c559-4188-b99a-5ec241969b1c",
   "metadata": {},
   "source": [
    "#### Listing 8.7 - Sklearn LinearRegression"
   ]
  },
  {
   "cell_type": "code",
   "execution_count": null,
   "id": "f4c6224e",
   "metadata": {},
   "outputs": [],
   "source": [
    "#Listing 8.7 - Sklearn LinearRegression\n",
    "import numpy as np\n",
    "from sklearn.linear_model import LinearRegression\n",
    "\n",
    "x_obs = np.array([1,2,3])\n",
    "print(\"x_obs as input:\\n\",x_obs)\n",
    "x_obs = x_obs[:,np.newaxis]\n",
    "print(\"x_obs as converted:\\n\",x_obs)\n",
    "y_obs = np.array([2,4,3])\n",
    "\n",
    "reg = LinearRegression().fit(x_obs, y_obs)\n",
    "estimated_y = reg.predict(x_obs)\n",
    "\n",
    "print('\\nThe fitted model is saved in an instance of ',reg)\n",
    "print('The estimated coefficient (gradient) is: ',reg.coef_)\n",
    "print('The estimated intercept is: ', np.round(reg.intercept_,2))\n",
    "print('The estimated target values of X as given \\n\\tby the \\'line\\' of best fit are: ', estimated_y)\n",
    "print('The coefficient of determination is: ',reg.score(x_obs, y_obs))\n",
    "print('The predicted target value for x=2.5 is: ',reg.predict([[2.5]]))\n"
   ]
  },
  {
   "cell_type": "markdown",
   "id": "eeba29cc-9571-49a4-9b9b-762028fa6ae8",
   "metadata": {},
   "source": [
    "#### Listing 8.8"
   ]
  },
  {
   "cell_type": "code",
   "execution_count": null,
   "id": "c94dedee",
   "metadata": {},
   "outputs": [],
   "source": [
    "#Listing 8.8 - Sklearn LinearRegression\n",
    "import numpy as np\n",
    "from sklearn.linear_model import LinearRegression\n",
    "\n",
    "X = np.array([[1,2],[2,1],[2,2]])\n",
    "print('X as input:\\n',X)\n",
    "y = np.array([1,2,-2])\n",
    "reg = LinearRegression().fit(X, y)\n",
    "estimated_y = reg.predict(X)\n",
    "\n",
    "print('The estimated coefficients are: ',reg.coef_)\n",
    "print('The estimated intercept is: ',np.round(reg.intercept_,2))\n",
    "print('The estimated target values of X are: ', estimated_y)\n",
    "print('The coefficient of determination is: ',reg.score(X, y))\n",
    "print('The predicted target value for x=[1.5,1] is: ',reg.predict([[1.5, 1]]))"
   ]
  },
  {
   "cell_type": "markdown",
   "id": "b24a49fb-64f2-4dd1-b306-58001a05db0a",
   "metadata": {},
   "source": [
    "#### Listing 8.9 - Sklearn SGDRegressor"
   ]
  },
  {
   "cell_type": "code",
   "execution_count": null,
   "id": "3b87fd9c",
   "metadata": {},
   "outputs": [],
   "source": [
    "#Listing 8.9 - Sklearn SGDRegressor\n",
    "import numpy as np  \n",
    "from sklearn import preprocessing\n",
    "from sklearn.linear_model import SGDRegressor \n",
    "\n",
    "raw_X = np.array([295,305,300]) \n",
    "raw_X = raw_X[:,np.newaxis]\n",
    "y =np.array([10,30,20])\n",
    "\n",
    "scaler = preprocessing.MinMaxScaler()\n",
    "scaledX = scaler.fit_transform(raw_X)\n",
    "print('The scaled raw_X are:\\n ', scaledX)\n",
    "\n",
    "init_intercept = 5\n",
    "init_coef = 1\n",
    "pred_y = init_intercept + init_coef*scaledX\n",
    "print('The predicted values of y are:\\n',pred_y)\n",
    "init_error = np.sum((y-pred_y.ravel())**2)/2\n",
    "print('The initial error is: ', init_error)\n",
    "\n",
    "sgd_reg = SGDRegressor(max_iter=1, alpha=0, learning_rate='constant')\n",
    "sgd_reg.fit(scaledX, y, intercept_init=init_intercept, coef_init=init_coef)\n",
    "est_y = sgd_reg.predict(scaledX)\n",
    "updated_error =  np.round(np.sum((y-est_y)**2)/2, 3)\n",
    "\n",
    "print('The estimated coefficient is: ',np.round(sgd_reg.coef_,3))\n",
    "print('The estimated intercept is: ',np.round(sgd_reg.intercept_,3))\n",
    "print('The estimated values of y are:\\n', np.round(est_y,3))\n",
    "print('The updated error is: ', updated_error)"
   ]
  },
  {
   "cell_type": "markdown",
   "id": "ad49c85f-f8ae-4ca1-8645-0fa7fe72fe0d",
   "metadata": {},
   "source": [
    "#### Listing 8.10"
   ]
  },
  {
   "cell_type": "code",
   "execution_count": null,
   "id": "c4121177",
   "metadata": {},
   "outputs": [],
   "source": [
    "#Listing 8.10 - Sklearn SGDRegressor\n",
    "import numpy as np  \n",
    "from sklearn import preprocessing\n",
    "from sklearn.linear_model import SGDRegressor \n",
    "from sklearn.metrics import mean_squared_error\n",
    "import matplotlib.pyplot as plt\n",
    "\n",
    "raw_X = np.array([295,305,300]) \n",
    "raw_X = raw_X[:,np.newaxis]\n",
    "y =np.array([10,30,20])\n",
    "\n",
    "scaler = preprocessing.MinMaxScaler()\n",
    "scaledX = scaler.fit_transform(raw_X)\n",
    "\n",
    "sgd_reg = SGDRegressor(max_iter=1, alpha=0, learning_rate='constant', warm_start=True)\n",
    "init_intercept = 5\n",
    "init_coef = 1\n",
    "n_iterations = 1000\n",
    "mses = []\n",
    "\n",
    "sgd_reg.fit(scaledX, y, intercept_init=init_intercept, coef_init=init_coef)\n",
    "est_y = sgd_reg.predict(scaledX)\n",
    "mse = mean_squared_error(y, est_y)\n",
    "mses.append(mse)\n",
    "tol = 0.1\n",
    "\n",
    "for i in range(2, n_iterations + 1):\n",
    "    sgd_reg.fit(scaledX, y)\n",
    "    est_y = sgd_reg.predict(scaledX)\n",
    "    mse = mean_squared_error(y, est_y)\n",
    "    mses.append(mse)\n",
    "    if  mse < tol:\n",
    "        print(f\"Training stopped at iteration {i} due to convergence\")\n",
    "        break\n",
    "\n",
    "print('The estimated intercept is: ', np.round(sgd_reg.intercept_,2))\n",
    "print('The estimated coefficient is: ', np.round(sgd_reg.coef_,2))\n",
    "print('The coefficient of determination is: ', sgd_reg.score(scaledX, y))\n",
    "\n",
    "plt.plot(range(1, len(mses)+1), mses, marker='o')\n",
    "plt.xlabel('Iteration')\n",
    "plt.ylabel('Mean Squared Error')\n",
    "plt.grid(True)\n",
    "plt.savefig('LearningCurve_fit.eps', dpi=600)"
   ]
  },
  {
   "cell_type": "markdown",
   "id": "e49ea8f9-f1ee-491f-9419-0732445460b3",
   "metadata": {},
   "source": [
    "#### Listing 8.11"
   ]
  },
  {
   "cell_type": "code",
   "execution_count": null,
   "id": "f030e8a6",
   "metadata": {},
   "outputs": [],
   "source": [
    "#Listing 8.11 - Sklearn SGDRegressor\n",
    "import numpy as np  \n",
    "from sklearn import preprocessing\n",
    "from sklearn.linear_model import SGDRegressor \n",
    "from sklearn.metrics import mean_squared_error\n",
    "import matplotlib.pyplot as plt\n",
    "\n",
    "raw_X = np.array([295,305,300]) \n",
    "raw_X = raw_X[:,np.newaxis]\n",
    "y =np.array([10,30,20])\n",
    "\n",
    "scaler = preprocessing.MinMaxScaler()\n",
    "scaledX = scaler.fit_transform(raw_X)\n",
    "\n",
    "sgd_reg = SGDRegressor(alpha=0, learning_rate='constant', warm_start=True)\n",
    "mses = []\n",
    "n_iterations = 1000\n",
    "tol = 0.1\n",
    "\n",
    "for iteration in range(n_iterations): \n",
    "    for i, x in enumerate(scaledX):\n",
    "        sgd_reg.partial_fit(x[:,np.newaxis], y[i].ravel())\n",
    "    est_y = sgd_reg.predict(scaledX)\n",
    "    mse = mean_squared_error(y, est_y)\n",
    "    mses.append(mse)\n",
    "    if  mse < tol:\n",
    "        print(f\"Training stopped at iteration {iteration} due to convergence\")\n",
    "        break\n",
    "\n",
    "print('The estimated intercept is: ', np.round(sgd_reg.intercept_,2))\n",
    "print('The estimated coefficient is: ', np.round(sgd_reg.coef_,2))\n",
    "print('The coefficient of determination is: ', sgd_reg.score(scaledX, y))\n",
    "\n",
    "plt.plot(range(1, len(mses)+1), mses, marker='o')\n",
    "plt.xlabel('Iteration')\n",
    "plt.ylabel('Mean Squared Error')\n",
    "plt.grid(True)\n",
    "plt.savefig('LearningCurve_fit1.eps', format='eps', dpi=600)\n"
   ]
  }
 ],
 "metadata": {
  "kernelspec": {
   "display_name": "Python 3 (ipykernel)",
   "language": "python",
   "name": "python3"
  },
  "language_info": {
   "codemirror_mode": {
    "name": "ipython",
    "version": 3
   },
   "file_extension": ".py",
   "mimetype": "text/x-python",
   "name": "python",
   "nbconvert_exporter": "python",
   "pygments_lexer": "ipython3",
   "version": "3.11.5"
  }
 },
 "nbformat": 4,
 "nbformat_minor": 5
}
