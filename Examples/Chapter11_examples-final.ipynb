{
 "cells": [
  {
   "cell_type": "markdown",
   "id": "086305fd-369c-4b7e-9660-fe260edaa3f8",
   "metadata": {},
   "source": [
    "#### Listing 11.1 - The law of large numbers"
   ]
  },
  {
   "cell_type": "code",
   "execution_count": null,
   "id": "46cab4a4",
   "metadata": {},
   "outputs": [],
   "source": [
    "#Listing 11.1 - The law of large numbers\n",
    "import numpy as np\n",
    "import matplotlib.pyplot as plt\n",
    "\n",
    "np.random.seed(421)\n",
    "\n",
    "results =[] \n",
    "for n in range(1,10001):\n",
    "    nums = np.random.randint(low=1, high=7, size=n)\n",
    "    mean = np.mean(nums)\n",
    "    results.append(mean)\n",
    "    \n",
    "plt.plot(results, 'r')\n",
    "plt.xlabel('The number of throws', fontsize =\"12\")\n",
    "plt.ylabel('Average of sample values', fontsize =\"12\")\n",
    "plt.savefig('LLN.eps',dpi=600)"
   ]
  },
  {
   "cell_type": "markdown",
   "id": "7a226041-7aea-42c0-a094-a743eb6e3a79",
   "metadata": {},
   "source": [
    "#### Listing 11.2 - Central limit theorem"
   ]
  },
  {
   "cell_type": "code",
   "execution_count": null,
   "id": "71662df1",
   "metadata": {},
   "outputs": [],
   "source": [
    "#Listing 11.2 - Central limit theorem\n",
    "import numpy as np\n",
    "import matplotlib.pyplot as plt\n",
    "from scipy.stats import poisson\n",
    "\n",
    "np.random.seed(11)\n",
    "\n",
    "population_size = 100000\n",
    "lamda = 2 \n",
    "X = poisson(lamda)\n",
    "population = X.rvs(size=population_size, random_state = 421) \n",
    "\n",
    "n_samples = 10000    \n",
    "sample_sizes = [5, 25, 125]  \n",
    "fig, axs = plt.subplots(1, len(sample_sizes), figsize=(15, 5))\n",
    "\n",
    "for idx, s in enumerate(sample_sizes):\n",
    "    sample_means = []\n",
    "    \n",
    "    for _ in range(n_samples):\n",
    "        sample = np.random.choice(population, size=s)\n",
    "        sample_means.append(np.mean(sample))\n",
    "    \n",
    "    axs[idx].hist(sample_means, bins=10, density=True, alpha=0.6, color='b', edgecolor='black')\n",
    "    \n",
    "    est_mean = np.round(np.mean(sample_means),2)\n",
    "    est_std = np.round(np.std(sample_means),2)\n",
    "    \n",
    "    axs[idx].set_title(f'Sample size = {s}\\n mean = {est_mean} \\n std = {est_std}', fontsize =\"12\")\n",
    "    axs[idx].set_xlabel('Sample mean', fontsize =\"12\")\n",
    "    axs[idx].set_ylabel('Density', fontsize =\"12\")\n",
    "    axs[idx].set_xlim(0, 5)\n",
    "    axs[idx].set_ylim(0, 3.3)\n",
    "    \n",
    "plt.savefig('CLT.eps',dpi=600)\n"
   ]
  },
  {
   "cell_type": "markdown",
   "id": "57fb7b02-c838-43e7-9d6d-54dac13d82e0",
   "metadata": {},
   "source": [
    "#### Listing 11.3 - Joint discrete random variables"
   ]
  },
  {
   "cell_type": "code",
   "execution_count": null,
   "id": "151dd534",
   "metadata": {},
   "outputs": [],
   "source": [
    "#Listing 11.3 - Joint discrete random variables\n",
    "import numpy as np\n",
    "\n",
    "P_XY_matrix = np.array([\n",
    "    [0, 0, 1/9], \n",
    "    [3/9, 1/9, 1/9],  \n",
    "    [2/9, 1/9, 0]   \n",
    "])\n",
    "\n",
    "P_X2 = np.sum(P_XY_matrix[2, :])\n",
    "print(f'P(X=2) = {P_X2:.4f}')\n",
    "\n",
    "# Conditional probability P(Y=1 | X=2)\n",
    "#P_Y1_given_X2 = P_XY_matrix[2, 1] / P_X2\n",
    "#print(f\"P(Y=1 | X=2) = {P_Y1_given_X2:.4f}\")\n"
   ]
  },
  {
   "cell_type": "markdown",
   "id": "a8a9966f-524f-4edd-b88f-14c80637d060",
   "metadata": {},
   "source": [
    "#### Listing 11.4 - Joint continuous random variables"
   ]
  },
  {
   "cell_type": "code",
   "execution_count": null,
   "id": "bd3f1e37",
   "metadata": {},
   "outputs": [],
   "source": [
    "#Listing 11.4 - Joint continuous random variables\n",
    "import sympy as sp\n",
    "from sympy import exp, Indexed\n",
    "from sympy.stats import density, JointRV\n",
    "\n",
    "x1, x2 = (Indexed('x', i) for i in (1, 2))\n",
    "print(x1, x2)\n",
    "pdf = 6*exp(-2*x1 - 3*x2)\n",
    "Jrv = JointRV('x', pdf) \n",
    "f1 = density(Jrv)(1,2)\n",
    "print('The density function at the values of 1 and 2 is', f1)\n",
    "f = density(Jrv)(x1, x2)\n",
    "print('The density function at the values of x1 and x2 is \\n', f)\n",
    "print('P(0<=x1<=1, 0<=x2<=2)=', sp.integrate(f, (x2, 0, 2), (x1, 0, 1)).evalf())"
   ]
  },
  {
   "cell_type": "markdown",
   "id": "de2a1afb-9063-45cf-a111-8676397f4021",
   "metadata": {},
   "source": [
    "#### Listing 11.5 - Covariance "
   ]
  },
  {
   "cell_type": "code",
   "execution_count": null,
   "id": "34b1c96f",
   "metadata": {},
   "outputs": [],
   "source": [
    "#Listing 11.5 - Covariance\n",
    "import sympy as sp\n",
    "\n",
    "x, y = sp.symbols('x y')\n",
    "\n",
    "pdf = 2 * sp.exp(-2*x - y)\n",
    "\n",
    "marginal_x = sp.integrate(pdf, (y, 0, sp.oo))\n",
    "print('The marginal probability distributions of X is',marginal_x)\n",
    "marginal_y = sp.integrate(pdf, (x, 0, sp.oo))\n",
    "print('The marginal probability distributions of Y is', marginal_y)\n",
    "\n",
    "E_x = sp.integrate(x * marginal_x, (x, 0, sp.oo))\n",
    "print('The expected X value is', E_x)\n",
    "E_y = sp.integrate(y * marginal_y, (y, 0, sp.oo))\n",
    "print('The expected Y value is',E_y)\n",
    "\n",
    "E_xy = sp.integrate(x * y * pdf, (x, 0, sp.oo), (y, 0, sp.oo))\n",
    "print('The expected XY value is',E_xy)\n",
    "\n",
    "cov_xy = E_xy - E_x * E_y\n",
    "print('The covariance of X and Y is',cov_xy)"
   ]
  },
  {
   "cell_type": "markdown",
   "id": "e93059e7-d616-4b92-b7e9-fd45cf39b89f",
   "metadata": {},
   "source": [
    "#### Listing 11.6 - Multinomial Distribution"
   ]
  },
  {
   "cell_type": "code",
   "execution_count": null,
   "id": "0e47b539",
   "metadata": {},
   "outputs": [],
   "source": [
    "#Listing 11.6 - Multinomial Distribution\n",
    "from sympy.stats import Multinomial, density\n",
    "from sympy import Rational\n",
    "from scipy.special import factorial as Fac\n",
    "\n",
    "n = 9\n",
    "probs = [Rational(1, 12), Rational(3, 12), Rational(1, 6), Rational(1, 6), Rational(1, 6), Rational(1, 6)]\n",
    "X = Multinomial('x', n, probs)\n",
    "pmf = density(X)\n",
    "print('The density function is\\n',pmf)\n",
    "\n",
    "x1, x2, x3, x4, x5, x6 = 3, 1, 1, 1, 2, 1\n",
    "probability = pmf(x1, x2, x3, x4, x5, x6)\n",
    "print(f'The probability of the outcome ({x1}, {x2}, {x3}, {x4}, {x5}, {x6}) is: {probability}')\n",
    "\n",
    "P = Fac(9)/(Fac(3)*Fac(1)*Fac(1)*Fac(1)*Fac(2)*Fac(1))*(1/12)**3*(3/12)*(1/6)*(1/6)*(1/6)**2*(1/6)\n",
    "print(f'The probability of the outcome ({x1}, {x2}, {x3}, {x4}, {x5}, {x6}) is:\\n\\t {P}')"
   ]
  },
  {
   "cell_type": "markdown",
   "id": "62e7d4f1-06a7-4e63-adbd-1a73ca858919",
   "metadata": {},
   "source": [
    "#### Listing 11.7 - Multivariate normal distribution - Sympy"
   ]
  },
  {
   "cell_type": "code",
   "execution_count": null,
   "id": "2cd149f1",
   "metadata": {},
   "outputs": [],
   "source": [
    "#Listing 11.7 - Multivariate normal distribution - Sympy\n",
    "from sympy.stats import MultivariateNormal, density, marginal_distribution\n",
    "from sympy import symbols\n",
    "\n",
    "X = MultivariateNormal('x', [2, 4], [[1, 0], [0, 1]])\n",
    "print(density(X))\n",
    "y, z = symbols('y z')\n",
    "density(X)(y, z)"
   ]
  },
  {
   "cell_type": "code",
   "execution_count": null,
   "id": "41f9c378",
   "metadata": {},
   "outputs": [],
   "source": [
    "### Listing 11.7 - continuation\n",
    "density(X)(1, 2)"
   ]
  },
  {
   "cell_type": "code",
   "execution_count": null,
   "id": "b0802a9b",
   "metadata": {},
   "outputs": [],
   "source": [
    "### Listing 11.7 - continuation\n",
    "marginal_distribution(X, X[0])"
   ]
  },
  {
   "cell_type": "code",
   "execution_count": null,
   "id": "9de5500c",
   "metadata": {},
   "outputs": [],
   "source": [
    "### Listing 11.7 - continuation\n",
    "marginal_distribution(X, X[0])(y)"
   ]
  },
  {
   "cell_type": "code",
   "execution_count": null,
   "id": "d33fb12b",
   "metadata": {},
   "outputs": [],
   "source": [
    "### Listing 11.7 - continuation\n",
    "marginal_distribution(X, X[1])(z)"
   ]
  },
  {
   "cell_type": "markdown",
   "id": "920345da-7773-4513-a5a1-0638b5acda5e",
   "metadata": {},
   "source": [
    "#### Listing 11.8: Multivariate normal distribution - Scipy"
   ]
  },
  {
   "cell_type": "code",
   "execution_count": null,
   "id": "71b5a640",
   "metadata": {},
   "outputs": [],
   "source": [
    "#Listing 11.8 - Multivariate normal distribution - Scipy\n",
    "import numpy as np\n",
    "from scipy.stats import multivariate_normal\n",
    "import matplotlib.pyplot as plt\n",
    "\n",
    "mean = [2, 4]\n",
    "covariance = [[1, 1.5], [1.5, 4]]\n",
    "rv = multivariate_normal(mean, covariance)\n",
    "\n",
    "x = np.linspace(-3, 8, 100)\n",
    "y = np.linspace(-3, 8, 100)\n",
    "X, Y = np.meshgrid(x, y)\n",
    "pos = np.dstack((X, Y))\n",
    "\n",
    "print('The sizes of x and y are {}, \\n the sizes of X and Y are {}, \\n and the size of pos is {}.'.format(x.shape, X.shape, pos.shape))\n",
    "\n",
    "Z_pdf = rv.pdf(pos)\n",
    "Z_cdf = rv.cdf(pos)\n",
    "\n",
    "data = rv.rvs(size=100, random_state = 421)\n",
    "\n",
    "fig = plt.figure(figsize=(8, 16))\n",
    "\n",
    "ax1 = fig.add_subplot(311, projection='3d')\n",
    "ax1.plot_surface(X, Y, Z_pdf, cmap='viridis', edgecolor='none')\n",
    "ax1.set_xlabel('X')\n",
    "ax1.set_ylabel('Y')\n",
    "ax1.set_zlabel('Density')\n",
    "\n",
    "ax2 = fig.add_subplot(312, projection='3d')\n",
    "ax2.plot_surface(X, Y, Z_cdf, cmap='viridis', edgecolor='none')\n",
    "ax2.set_xlabel('X')\n",
    "ax2.set_ylabel('Y')\n",
    "ax2.set_zlabel('Cumulative Probability')\n",
    "\n",
    "ax3 = fig.add_subplot(313)\n",
    "contour = ax3.contour(X, Y, Z_pdf, levels=7, cmap='viridis')\n",
    "ax3.scatter(data[:, 0], data[:, 1], c='red', marker='+', s=50, label='Data')\n",
    "ax3.set_xlabel('X')\n",
    "ax3.set_ylabel('Y')\n",
    "\n",
    "plt.tight_layout()\n",
    "fig.savefig('Mnormal.eps',dpi=600)"
   ]
  },
  {
   "cell_type": "markdown",
   "id": "425e8e2d-5b7d-40c1-bd45-3ba5bbc1fe5b",
   "metadata": {},
   "source": [
    "#### Listing 11.9"
   ]
  },
  {
   "cell_type": "code",
   "execution_count": null,
   "id": "565f4b91",
   "metadata": {},
   "outputs": [],
   "source": [
    "#Listing 11.9\n",
    "import numpy as np\n",
    "\n",
    "x = np.linspace(0, 8, 3)\n",
    "y = np.linspace(0, 8, 3)\n",
    "X, Y = np.meshgrid(x, y)\n",
    "pos = np.dstack((X, Y))\n",
    "\n",
    "print('The sizes of x and y are {}, \\n the sizes of X and Y are {}, \\n and the size of pos is {}.'.format(x.shape, X.shape, pos.shape))\n",
    "print('x is {},and y is {}'.format(x,y))\n",
    "print('pos is:\\n',pos)"
   ]
  },
  {
   "cell_type": "markdown",
   "id": "92a73ec9-bfea-4215-9b1d-aead6e4c1e5f",
   "metadata": {},
   "source": [
    "#### Listing 11.10"
   ]
  },
  {
   "cell_type": "code",
   "execution_count": null,
   "id": "dba88282-c94d-4d3e-8f1d-afe627d1fe5b",
   "metadata": {},
   "outputs": [],
   "source": [
    "#Listing 11.10\n",
    "import matplotlib.pyplot as plt\n",
    "\n",
    "fig, ax = plt.subplots(figsize=(6, 4))\n",
    "\n",
    "c1 = plt.Circle((0.3, 0.5), 0.2, facecolor='green', edgecolor='none')\n",
    "c2 = plt.Circle((0.65, 0.5), 0.3, facecolor='red', edgecolor='none')\n",
    "ax.add_patch(c1)\n",
    "ax.add_patch(c2)\n",
    "\n",
    "overlap = plt.Circle((0.65, 0.5), 0.3, facecolor='yellow', edgecolor='none') \n",
    "overlap.set_clip_path(c1)  \n",
    "ax.add_patch(overlap)\n",
    "\n",
    "ax.set_aspect('equal', 'box')\n",
    "ax.set_xlim(0, 1)\n",
    "ax.set_ylim(0, 1)\n",
    "ax.set_xticks([])\n",
    "ax.set_yticks([])\n",
    "\n",
    "ax.text(0.15, 0.5, 'A(35)', fontsize=12, color='black')\n",
    "ax.text(0.6, 0.5, 'B(40)', fontsize=12, color='black')\n",
    "ax.text(0.35, 0.5, 'A ∩ B', fontsize=12, color='black')\n",
    "ax.text(0.1, 0.9, 'Sample Space', fontsize=14, color='black')\n",
    "\n",
    "fig.savefig('DiagV.eps', dpi=600)"
   ]
  },
  {
   "cell_type": "markdown",
   "id": "55b58119-1916-476d-855d-81d4a9a5cbf4",
   "metadata": {},
   "source": [
    "#### Listing 11.11"
   ]
  },
  {
   "cell_type": "code",
   "execution_count": null,
   "id": "0ef43204",
   "metadata": {},
   "outputs": [],
   "source": [
    "#Listing 11.11\n",
    "import matplotlib.pyplot as plt\n",
    "\n",
    "def plot_conditional_prob(p_A, p_B, p_A_and_B):  \n",
    "    p_A_given_B = p_A_and_B/p_B\n",
    "    plt.figure(figsize=(8, 6))\n",
    "    plt.bar(['P(A|B)', 'P(A)', 'P(B)', 'P(A and B)'], [p_A_given_B, p_A, p_B, p_A_and_B], color=['blue', 'green', 'red', 'black'])\n",
    "    plt.ylim(0, 1)\n",
    "    plt.savefig('condi.eps',dpi=600)"
   ]
  },
  {
   "cell_type": "code",
   "execution_count": null,
   "id": "ccf1a0d9",
   "metadata": {},
   "outputs": [],
   "source": [
    "#Listing 11.11 continued\n",
    "plot_conditional_prob(0.35, 0.4, 0.25)"
   ]
  },
  {
   "cell_type": "markdown",
   "id": "b2d6710e-0fde-410b-985a-2ab9888d667b",
   "metadata": {},
   "source": [
    "#### Listing 11.12 - Conditional probability - Joint discrete random variables"
   ]
  },
  {
   "cell_type": "code",
   "execution_count": null,
   "id": "d2e8e651",
   "metadata": {},
   "outputs": [],
   "source": [
    "#Listing 11.12 - Conditional probability - Joint discrete random variables\n",
    "import numpy as np\n",
    "\n",
    "P_XY_matrix = np.array([\n",
    "    [0, 0, 1/9], \n",
    "    [3/9, 1/9, 1/9],  \n",
    "    [2/9, 1/9, 0]   \n",
    "])\n",
    "\n",
    "print(f\"P(Y=1 and X=2) = {P_XY_matrix[2, 1]:4f}\")\n",
    "      \n",
    "P_X2 = np.sum(P_XY_matrix[2, :])\n",
    "print(f\"P(X=2) = {P_X2:.4f}\")\n",
    "\n",
    "P_Y1_given_X2 = P_XY_matrix[2, 1] / P_X2\n",
    "print(f\"P(Y=1 | X=2) = {P_Y1_given_X2:.4f}\")\n"
   ]
  },
  {
   "cell_type": "markdown",
   "id": "f7d8aa44-3d9c-405d-942b-fac4e0c71406",
   "metadata": {},
   "source": [
    "#### Listing 11.13 -  Conditional probability for two continuous random variables"
   ]
  },
  {
   "cell_type": "code",
   "execution_count": null,
   "id": "56e2af54",
   "metadata": {},
   "outputs": [],
   "source": [
    "#Listing 11.13 - Conditional probability for two continuous random variables\n",
    "import sympy as sp\n",
    "from sympy import exp\n",
    "\n",
    "x, y = sp.symbols('x y')\n",
    "pdf = 2*x*y\n",
    "marginal_y = sp.integrate(pdf, (x, 0, 1))\n",
    "print('The marginal probability density function of Y is',marginal_y)\n",
    "condi_P = pdf/marginal_y\n",
    "print('The conditional probability is', condi_P)"
   ]
  },
  {
   "cell_type": "markdown",
   "id": "6c7fa67a-a0f3-44b7-a495-77f0a554b4e4",
   "metadata": {},
   "source": [
    "#### Listing 11.14 - Conditional mean for two continuous random variables"
   ]
  },
  {
   "cell_type": "code",
   "execution_count": null,
   "id": "e76388bb",
   "metadata": {},
   "outputs": [],
   "source": [
    "#Listing 11.14 - Conditional mean for two continuous random variables\n",
    "import sympy as sp\n",
    "\n",
    "x, y = sp.symbols('x y')\n",
    "\n",
    "pdf = 24*x**2*y\n",
    "marginal_x = sp.integrate(pdf, (y, 0, 1/2))\n",
    "print('The marginal probability density function of X is', marginal_x)\n",
    "pdf_y_given_x = pdf/marginal_x\n",
    "print('The conditional probability Y given X is', pdf_y_given_x)\n",
    "E_Y_given_x = sp.integrate(y*pdf_y_given_x , (y, 0, 1/2))\n",
    "print('E(Y|x) = ', E_Y_given_x)"
   ]
  },
  {
   "cell_type": "markdown",
   "id": "761660e9-dd32-4176-bdab-ab3d15cb87dc",
   "metadata": {},
   "source": [
    "#### Listing 11.15 - The law of total probability"
   ]
  },
  {
   "cell_type": "code",
   "execution_count": null,
   "id": "2940c197",
   "metadata": {},
   "outputs": [],
   "source": [
    "#Listing 11.15 - The law of total probability\n",
    "import matplotlib.pyplot as plt\n",
    "import numpy as np\n",
    "\n",
    "PBi = np.array([0.1, 0.15, 0.2, 0.25, 0.30])\n",
    "P_A_given_PBi = np.array([0.01, 0.012, 0.014, 0.016, 0.02])\n",
    "\n",
    "partitions = [PBi[i] * P_A_given_PBi[i] for i in range(len(PBi))]\n",
    "print(\"Each partition's contribution to the total probability is \\n\", partitions )\n",
    "P_A = sum(partitions)\n",
    "print(f'The total probability is {P_A:.4f}.')\n",
    "\n",
    "groups = ['PB1', 'PB2', 'PB3', 'PB4','PB5']\n",
    "colors = ['orange', 'green', 'salmon', 'red', 'purple']\n",
    "plt.figure(figsize=(10, 6))\n",
    "plt.bar(groups,partitions, color=colors)\n",
    "\n",
    "for i, value in enumerate(partitions):\n",
    "    plt.text(i, value / 2, f'{value:.4f}', ha='center', va='center', color='black', fontsize=12)\n",
    "    \n",
    "plt.xlabel('Pipeline', fontsize =\"12\")\n",
    "plt.ylabel('Contributions to Total Probability', fontsize =\"14\")\n",
    "plt.ylim(0, max(partitions) * 1.2)\n",
    "plt.savefig('total_prob.eps',dpi=600)"
   ]
  },
  {
   "cell_type": "markdown",
   "id": "bc71eae6-5fbc-406a-8ca5-acc27c430b0f",
   "metadata": {},
   "source": [
    "#### Listing 11.16 - Bayes' theorem - Sympy with two events"
   ]
  },
  {
   "cell_type": "code",
   "execution_count": null,
   "id": "bae8a1a7",
   "metadata": {},
   "outputs": [],
   "source": [
    "#Listing 11.16 - Bayes' theorem - Sympy with two events\n",
    "from sympy import symbols, Eq\n",
    "\n",
    "P_A_given_B, P_B_given_A, P_A, P_B = symbols('P_A_given_B, P_B_given_A, P_A, P_B')\n",
    "Bayes_eqn = Eq(P_A_given_B, (P_B_given_A * P_A) / P_B)\n",
    "Bayes_eqn"
   ]
  },
  {
   "cell_type": "markdown",
   "id": "3ab6274f-0ae8-4d94-b2ee-00e889ca6889",
   "metadata": {},
   "source": [
    "#### Listing 11.17 - Bayes' theorem - Sympy with n events"
   ]
  },
  {
   "cell_type": "code",
   "execution_count": null,
   "id": "f57617a6",
   "metadata": {},
   "outputs": [],
   "source": [
    "#Listing 11.177 - Bayes' theorem - Sympy with n events\n",
    "import sympy as sp\n",
    "\n",
    "a = sp.symbols('n', integer=True, positive=True)  \n",
    "i, j = sp.symbols('i j', integer=True)  \n",
    "\n",
    "P_Ai = sp.Function('P_A')(i)  \n",
    "P_Aj = sp.Function('P_A')(j)  \n",
    "P_B_given_Ai = sp.Function('P_B_given_A')(i)  \n",
    "P_B_given_Aj = sp.Function('P_B_given_A')(j)  \n",
    "\n",
    "numerator = P_B_given_Ai * P_Ai\n",
    "denominator = sp.Sum(P_B_given_Aj * P_Aj, (j, 1, a))\n",
    "\n",
    "P_Ai_given_B = numerator / denominator\n",
    "P_Ai_given_B_simplified = sp.simplify(P_Ai_given_B)\n",
    "print(f\"General Bayes' Theorem for multiple events P(A_i|B):\\n {P_Ai_given_B_simplified}\")\n",
    "P_Ai_given_B_simplified"
   ]
  },
  {
   "cell_type": "code",
   "execution_count": null,
   "id": "90587cb3",
   "metadata": {},
   "outputs": [],
   "source": [
    "\n"
   ]
  },
  {
   "cell_type": "code",
   "execution_count": null,
   "id": "4017caaf",
   "metadata": {},
   "outputs": [],
   "source": []
  }
 ],
 "metadata": {
  "kernelspec": {
   "display_name": "Python 3 (ipykernel)",
   "language": "python",
   "name": "python3"
  },
  "language_info": {
   "codemirror_mode": {
    "name": "ipython",
    "version": 3
   },
   "file_extension": ".py",
   "mimetype": "text/x-python",
   "name": "python",
   "nbconvert_exporter": "python",
   "pygments_lexer": "ipython3",
   "version": "3.11.7"
  }
 },
 "nbformat": 4,
 "nbformat_minor": 5
}
