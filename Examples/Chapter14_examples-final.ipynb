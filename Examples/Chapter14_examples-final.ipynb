{
 "cells": [
  {
   "cell_type": "markdown",
   "id": "8145852b-fec8-4b78-8ea2-37ffbff28c8e",
   "metadata": {
    "id": "3df748b6"
   },
   "source": [
    "#### Listing 14.1 - import libraries"
   ]
  },
  {
   "cell_type": "code",
   "execution_count": null,
   "id": "a14be594",
   "metadata": {
    "id": "a14be594"
   },
   "outputs": [],
   "source": [
    "#Listing 14.1 - import libraries\n",
    "import pandas as pd\n",
    "import numpy as np\n",
    "import matplotlib.pyplot as plt\n",
    "from sklearn.datasets import load_breast_cancer\n",
    "from sklearn.model_selection import train_test_split\n",
    "from collections import Counter\n",
    "from sklearn.preprocessing import StandardScaler\n",
    "from sklearn.linear_model import LinearRegression, Ridge, SGDRegressor, LogisticRegression\n",
    "from sklearn.metrics import mean_squared_error, r2_score, accuracy_score, classification_report, confusion_matrix"
   ]
  },
  {
   "cell_type": "markdown",
   "id": "91d6fb90",
   "metadata": {
    "id": "91d6fb90"
   },
   "source": [
    "#### Listing 14.2 - Load data and preprocess data"
   ]
  },
  {
   "cell_type": "code",
   "execution_count": null,
   "id": "375fd5a1",
   "metadata": {
    "colab": {
     "base_uri": "https://localhost:8080/"
    },
    "id": "375fd5a1",
    "outputId": "e166a3a5-c3fa-4058-de9d-605beed51c52"
   },
   "outputs": [],
   "source": [
    "#Listing 14.2 - Load data and preprocess data\n",
    "breast_cancer = load_breast_cancer()\n",
    "print(breast_cancer.keys())\n",
    "\n",
    "df = pd.DataFrame(breast_cancer.data, columns=breast_cancer.feature_names)\n",
    "print('Breast cancer data frame shape: ',df.shape)\n",
    "\n",
    "X = df.drop(columns=['mean radius'])\n",
    "y_class = breast_cancer.target\n",
    "y_reg = df['mean radius']\n",
    "\n",
    "print(\"Data matrix X shape:\", X.shape)"
   ]
  },
  {
   "cell_type": "markdown",
   "id": "c51ad273",
   "metadata": {
    "id": "c51ad273"
   },
   "source": [
    "#### Listing 14.3-Remove missing values"
   ]
  },
  {
   "cell_type": "code",
   "execution_count": null,
   "id": "0e4c6183",
   "metadata": {
    "colab": {
     "base_uri": "https://localhost:8080/"
    },
    "id": "0e4c6183",
    "outputId": "fc2d0c71-e4bc-4773-ba00-ae5ed5c7c977"
   },
   "outputs": [],
   "source": [
    "#Listing 14.3 - Remove missing values\n",
    "df_new = X.copy()\n",
    "df_new['y_class'] = y_class\n",
    "df_new['y_reg'] = y_reg\n",
    "print('Shape of df_new now is:',df_new.shape)\n",
    "\n",
    "print('The number of missing values in dataset:', df_new.isnull().sum().sum())\n",
    "df_new = df_new.dropna()"
   ]
  },
  {
   "cell_type": "markdown",
   "id": "86132b3c",
   "metadata": {
    "id": "86132b3c"
   },
   "source": [
    "#### Listing 14.4 - Drop duplicates based on features and the target"
   ]
  },
  {
   "cell_type": "code",
   "execution_count": null,
   "id": "8582ff75",
   "metadata": {
    "id": "8582ff75"
   },
   "outputs": [],
   "source": [
    "#Listing 14.4 - Drop duplicates based on features and the target\n",
    "drdup_class = df_new.drop_duplicates(\n",
    "    subset=X.columns.tolist() + ['y_class'])\n",
    "print('Shape of drdup_class is: ',drdup_class.shape)\n",
    "print('The number of missing values in dataset drdup_class:', drdup_class.isnull().sum().sum())"
   ]
  },
  {
   "cell_type": "markdown",
   "id": "8b3c0b87",
   "metadata": {
    "id": "8b3c0b87"
   },
   "source": [
    "#### Listing 14.5 - Remove inconsistent rows including same features but different targets"
   ]
  },
  {
   "cell_type": "code",
   "execution_count": null,
   "id": "43766bb6",
   "metadata": {
    "colab": {
     "base_uri": "https://localhost:8080/"
    },
    "id": "43766bb6",
    "outputId": "eba857cf-8ad2-4d2e-baac-caa4cf10470f"
   },
   "outputs": [],
   "source": [
    "#Listing 14.5 - Remove inconsistent rows including same features but different targets\n",
    "grouped = df_new.groupby(X.columns.tolist())\n",
    "inconsistent_indices = []\n",
    "\n",
    "for _, group in grouped:\n",
    "    if group['y_class'].nunique() > 1 or group['y_reg'].nunique() > 1:\n",
    "        inconsistent_indices.extend(group.index.tolist())\n",
    "\n",
    "print(f'Found {len(inconsistent_indices)} inconsistent rows.')\n",
    "\n",
    "df_cleaned = df_new.drop(index=inconsistent_indices).reset_index(drop=True)\n",
    "print('Final cleaned data shape:', df_cleaned.shape)\n"
   ]
  },
  {
   "cell_type": "markdown",
   "id": "1bdde32c",
   "metadata": {
    "id": "1bdde32c"
   },
   "source": [
    "#### Listing 14.6 - Split data into the training and the test set"
   ]
  },
  {
   "cell_type": "code",
   "execution_count": null,
   "id": "31f79106",
   "metadata": {
    "colab": {
     "base_uri": "https://localhost:8080/"
    },
    "id": "31f79106",
    "outputId": "2037fa44-519a-452f-fa61-ba5338c39568"
   },
   "outputs": [],
   "source": [
    "#Listing 14.6 - Split data into the training and the test set\n",
    "X_train, X_test, y_class_train, y_class_test, y_reg_train, y_reg_test = train_test_split(\n",
    "    X, y_class, y_reg, test_size=0.2, random_state=421)\n",
    "print('Size of the training set before producing the validation set:\\n',X_train.shape)\n",
    "\n",
    "X_Strain, X_val, y_class_Strain, y_class_val, y_reg_Strain, y_reg_val = train_test_split(\n",
    "    X_train, y_class_train, y_reg_train, test_size=0.2, random_state=421)\n",
    "\n",
    "print('The size of the smaller training set:\\n', X_Strain.shape)\n",
    "print('The size of the validation set:\\n', X_val.shape)\n",
    "print('The size of the test set:\\n', X_test.shape)\n",
    "print('The smaller training set class distribution:\\n', Counter(y_class_Strain))\n",
    "print('The validation set class distribution:\\n', Counter(y_class_val))\n",
    "print('The test set class distribution:\\n', Counter(y_class_test))"
   ]
  },
  {
   "cell_type": "markdown",
   "id": "0bf869f5-2d88-403d-b244-cfa9b5f81532",
   "metadata": {
    "id": "00cca60f"
   },
   "source": [
    "#### Listing 14.7 - Feature selection function"
   ]
  },
  {
   "cell_type": "code",
   "execution_count": null,
   "id": "478355b1",
   "metadata": {
    "id": "478355b1"
   },
   "outputs": [],
   "source": [
    "#Listing 14.7 - Feature selection function\n",
    "def remove_highly_correlated_features(df, threshold):\n",
    "    df = df.copy()\n",
    "    removed_features = []\n",
    "\n",
    "    while True:\n",
    "        corr_matrix = df.corr().abs()\n",
    "        upper = corr_matrix.where(np.triu(np.ones(corr_matrix.shape), k=1).astype(bool))\n",
    "\n",
    "        max_corr = upper.max().max()\n",
    "        if max_corr < threshold:\n",
    "            print(f'All correlations below threshold {threshold}.')\n",
    "            break\n",
    "\n",
    "        A, B = upper.stack().idxmax()\n",
    "\n",
    "        avg_corr_A = corr_matrix[A].drop(index=A).mean()\n",
    "        avg_corr_B = corr_matrix[B].drop(index=B).mean()\n",
    "\n",
    "        to_remove = A if avg_corr_A > avg_corr_B else B\n",
    "        df.drop(columns=to_remove, inplace=True)\n",
    "        removed_features.append(to_remove)\n",
    "\n",
    "    return df, removed_features\n"
   ]
  },
  {
   "cell_type": "markdown",
   "id": "cbba74ba",
   "metadata": {
    "id": "cbba74ba"
   },
   "source": [
    "#### Listing 14.8"
   ]
  },
  {
   "cell_type": "code",
   "execution_count": null,
   "id": "caf84c9d",
   "metadata": {
    "colab": {
     "base_uri": "https://localhost:8080/"
    },
    "id": "caf84c9d",
    "outputId": "7e8bab94-55a2-489b-9528-0cfce7d399da"
   },
   "outputs": [],
   "source": [
    "#Listing 14.8\n",
    "X_Strain_reduced, removed_features = remove_highly_correlated_features(X_Strain, threshold=0.50)\n",
    "kept_features = X_Strain_reduced.columns.tolist()\n",
    "X_train_reduced = X_train[kept_features]\n",
    "X_val_reduced = X_val[kept_features]\n",
    "X_test_reduced = X_test[kept_features]\n",
    "print(f'Kept features: {kept_features}')"
   ]
  },
  {
   "cell_type": "markdown",
   "id": "939fd46a",
   "metadata": {
    "id": "939fd46a"
   },
   "source": [
    "#### Listing 14.9 - Train linear regression on original and reduced feature sets"
   ]
  },
  {
   "cell_type": "code",
   "execution_count": null,
   "id": "0adf9028",
   "metadata": {
    "colab": {
     "base_uri": "https://localhost:8080/"
    },
    "id": "0adf9028",
    "outputId": "08140514-3c6b-4a24-e32e-3a31b7b10dba",
    "scrolled": true
   },
   "outputs": [],
   "source": [
    "#Listing 14.9 - Train linear regression on original and reduced feature sets\n",
    "scaler_full = StandardScaler().fit(X_Strain)\n",
    "X_Strain_scaled = scaler_full.transform(X_Strain)\n",
    "X_val_scaled = scaler_full.transform(X_val)\n",
    "\n",
    "model_full = LinearRegression()\n",
    "model_full.fit(X_Strain_scaled, y_reg_Strain)\n",
    "\n",
    "y_val_pred_full = model_full.predict(X_val_scaled)\n",
    "mse_val_full = mean_squared_error(y_reg_val, y_val_pred_full)\n",
    "\n",
    "print(f'The MSE on the validation set (full features): {mse_val_full:.6f}')\n",
    "\n",
    "scaler_reduced = StandardScaler().fit(X_Strain_reduced)\n",
    "X_Strain_reduced_scaled = scaler_reduced.transform(X_Strain_reduced)\n",
    "X_val_reduced_scaled = scaler_reduced.transform(X_val_reduced)\n",
    "\n",
    "model_reduced = LinearRegression()\n",
    "model_reduced.fit(X_Strain_reduced_scaled, y_reg_Strain)\n",
    "\n",
    "y_val_pred_reduced = model_reduced.predict(X_val_reduced_scaled)\n",
    "mse_val_reduced = mean_squared_error(y_reg_val, y_val_pred_reduced)\n",
    "\n",
    "print(f'The MSE on the validation set (reduced features): {mse_val_reduced:.4f}')"
   ]
  },
  {
   "cell_type": "markdown",
   "id": "efdaedcd",
   "metadata": {
    "id": "efdaedcd"
   },
   "source": [
    "#### Listing 14.10 - Ridge regression with alpha tuning"
   ]
  },
  {
   "cell_type": "code",
   "execution_count": null,
   "id": "5b76ca87",
   "metadata": {
    "colab": {
     "base_uri": "https://localhost:8080/"
    },
    "id": "5b76ca87",
    "outputId": "284e7068-b10e-4f96-def6-30af097c7faa"
   },
   "outputs": [],
   "source": [
    "#Listing 14.10 - Ridge regression with alpha tuning\n",
    "alphas = np.logspace(-2, 2, 25)\n",
    "val_errors = []\n",
    "\n",
    "for alpha in alphas:\n",
    "    ridge = Ridge(alpha=alpha)\n",
    "    ridge.fit(X_Strain_scaled, y_reg_Strain)\n",
    "    y_val_pred = ridge.predict(X_val_scaled)\n",
    "    mse = mean_squared_error(y_reg_val, y_val_pred)\n",
    "    val_errors.append(mse)\n",
    "\n",
    "best_alpha_idx = np.argmin(val_errors)\n",
    "best_alpha = alphas[best_alpha_idx]\n",
    "best_mse = val_errors[best_alpha_idx]\n",
    "\n",
    "print(f'Best alpha: {best_alpha:.6f}')\n",
    "print(f'The MSE on the validation set (Ridge): {best_mse:.6f}')"
   ]
  },
  {
   "cell_type": "markdown",
   "id": "9ccf264e",
   "metadata": {
    "id": "9ccf264e"
   },
   "source": [
    "#### Listing 14.11 - Decompose bias^2 and variance for ridge regression"
   ]
  },
  {
   "cell_type": "code",
   "execution_count": null,
   "id": "7e8d7edd",
   "metadata": {
    "colab": {
     "base_uri": "https://localhost:8080/"
    },
    "id": "7e8d7edd",
    "outputId": "487c6ecc-706a-48c2-9a5f-9961d4e233b3"
   },
   "outputs": [],
   "source": [
    "#Listing 14.11 - Decompose bias^2 and variance for ridge regression\n",
    "np.random.seed(421)\n",
    "n_bootstraps = 100\n",
    "val_preds = np.zeros((len(y_reg_val), n_bootstraps))\n",
    "\n",
    "for i in range(n_bootstraps):\n",
    "    indices = np.random.choice(len(X_Strain_scaled), size=len(X_Strain_scaled), replace=True)\n",
    "    X_samp = X_Strain_scaled[indices, :]\n",
    "    y_samp = y_reg_Strain.iloc[indices]\n",
    "\n",
    "    model = Ridge(alpha=best_alpha)\n",
    "    model.fit(X_samp, y_samp)\n",
    "\n",
    "    val_preds[:, i] = model.predict(X_val_scaled)\n",
    "\n",
    "mean_preds = np.mean(val_preds, axis=1)\n",
    "bias_squared = np.mean((mean_preds - y_reg_val) ** 2)\n",
    "variance = np.mean(np.var(val_preds, axis=1))\n",
    "print(f'Squared bias               : {bias_squared:.6f}')\n",
    "print(f'Variance                   : {variance:.6f}')"
   ]
  },
  {
   "cell_type": "markdown",
   "id": "8ee3baf6",
   "metadata": {
    "id": "8ee3baf6"
   },
   "source": [
    "#### Listing 14.12 - Final evaluation on the full test set"
   ]
  },
  {
   "cell_type": "code",
   "execution_count": null,
   "id": "cbd0ff6c",
   "metadata": {
    "colab": {
     "base_uri": "https://localhost:8080/"
    },
    "id": "cbd0ff6c",
    "outputId": "709b27a8-61d5-421c-e8b5-b3ea3a871e25"
   },
   "outputs": [],
   "source": [
    "#Listing 14.12 - Final evaluation on the full test set\n",
    "scaler = StandardScaler().fit(X_train)\n",
    "X_train_scaled = scaler.transform(X_train)\n",
    "X_test_scaled = scaler.transform(X_test)\n",
    "\n",
    "final_model = Ridge(alpha=best_alpha)\n",
    "final_model.fit(X_train_scaled, y_reg_train)\n",
    "\n",
    "y_test_pred = final_model.predict(X_test_scaled)\n",
    "\n",
    "mse_test = mean_squared_error(y_reg_test, y_test_pred)\n",
    "r2_test = r2_score(y_reg_test, y_test_pred)\n",
    "\n",
    "print(f'Final test MSE (Ridge, alpha={best_alpha:.6f}): {mse_test:.6f}')\n",
    "print(f'Final test coefficient of determination score: {r2_test:.4f}')\n"
   ]
  },
  {
   "cell_type": "code",
   "execution_count": null,
   "id": "9321c00d-541d-468b-9696-b4f29afc0331",
   "metadata": {},
   "outputs": [],
   "source": [
    "#Listing 14.12 - extra\n",
    "print('Coefficients (all 29 of them):\\n', final_model.coef_)\n",
    "print('Intercept:', final_model.intercept_)\n",
    "print('Alpha:', final_model.alpha)"
   ]
  },
  {
   "cell_type": "markdown",
   "id": "00cdcbf3",
   "metadata": {
    "id": "00cdcbf3"
   },
   "source": [
    "#### Listing 14.13"
   ]
  },
  {
   "cell_type": "code",
   "execution_count": null,
   "id": "7b1aec16",
   "metadata": {
    "colab": {
     "base_uri": "https://localhost:8080/",
     "height": 507
    },
    "id": "7b1aec16",
    "outputId": "efb6f77b-e566-43d5-e6c1-4f79afedd2bb"
   },
   "outputs": [],
   "source": [
    "#Listing 14.13\n",
    "residuals = y_reg_test - y_test_pred\n",
    "\n",
    "plt.figure(figsize=(8, 5))\n",
    "plt.scatter(y_test_pred, residuals, edgecolor='k')\n",
    "plt.axhline(0, color='red', linestyle='--', linewidth=1)\n",
    "plt.xlabel('Predicted Values')\n",
    "plt.ylabel('Residuals')\n",
    "plt.grid(True)\n",
    "plt.tight_layout()\n",
    "plt.savefig('residual_vs_prediction.eps', dpi=600)\n"
   ]
  },
  {
   "cell_type": "markdown",
   "id": "939ed236",
   "metadata": {
    "id": "939ed236"
   },
   "source": [
    "#### Listing 14.14 - Classification (I)"
   ]
  },
  {
   "cell_type": "code",
   "execution_count": null,
   "id": "f737728c",
   "metadata": {
    "colab": {
     "base_uri": "https://localhost:8080/"
    },
    "id": "f737728c",
    "outputId": "afec68ab-9d48-4163-b98c-87ab35a2bc40"
   },
   "outputs": [],
   "source": [
    "#Listing 14.14 - Classification (I)\n",
    "class_model_full = LogisticRegression(penalty=None, solver='lbfgs', tol=1e-8)\n",
    "class_model_full.fit(X_train_scaled, y_class_train)\n",
    "y_pred_full = class_model_full.predict(X_test_scaled)\n",
    "\n",
    "print('Accuracy at threshold = 0.5 for dataset (a) is:', np.round(accuracy_score(y_class_test, y_pred_full),2))\n",
    "conf_mat = confusion_matrix(y_class_test, y_pred_full)\n",
    "print('Confusion Matrix:\\n',conf_mat)\n",
    "print(\"Classification Report:\\n\", classification_report(y_class_test, y_pred_full))"
   ]
  },
  {
   "cell_type": "markdown",
   "id": "f21bcc02",
   "metadata": {
    "id": "f21bcc02"
   },
   "source": [
    "#### Listing 14.15 - Classification (II)"
   ]
  },
  {
   "cell_type": "code",
   "execution_count": null,
   "id": "11ea9d55",
   "metadata": {
    "colab": {
     "base_uri": "https://localhost:8080/"
    },
    "id": "11ea9d55",
    "outputId": "07a0d8f3-9a1f-4ceb-e7ea-40dc058bd9d3",
    "scrolled": true
   },
   "outputs": [],
   "source": [
    "#Listing 14.15 - Classification (II)\n",
    "scaler = StandardScaler().fit(X_train_reduced)\n",
    "X_train_reduced_scaled = scaler.transform(X_train_reduced)\n",
    "X_test_reduced_scaled = scaler.transform(X_test_reduced)\n",
    "\n",
    "class_model_reduced = LogisticRegression(penalty=None, solver='lbfgs', tol=1e-8)\n",
    "class_model_reduced.fit(X_train_reduced_scaled, y_class_train)\n",
    "y_pred_reduced = class_model_reduced.predict(X_test_reduced_scaled)\n",
    "\n",
    "print('Accuracy at threshold = 0.5 for dataset (b) is:', np.round(accuracy_score(y_class_test, y_pred_reduced),2))\n",
    "conf_mat = confusion_matrix(y_class_test, y_pred_reduced)\n",
    "print('Confusion Matrix:\\n',conf_mat)\n",
    "print(\"Classification Report:\\n\", classification_report(y_class_test, y_pred_reduced))"
   ]
  },
  {
   "cell_type": "markdown",
   "id": "1aa2b2f4",
   "metadata": {
    "id": "1aa2b2f4"
   },
   "source": []
  },
  {
   "cell_type": "code",
   "execution_count": null,
   "id": "68e5f667-75cd-4c96-bb83-2f0819029902",
   "metadata": {},
   "outputs": [],
   "source": []
  }
 ],
 "metadata": {
  "colab": {
   "provenance": []
  },
  "kernelspec": {
   "display_name": "Python 3 (ipykernel)",
   "language": "python",
   "name": "python3"
  },
  "language_info": {
   "codemirror_mode": {
    "name": "ipython",
    "version": 3
   },
   "file_extension": ".py",
   "mimetype": "text/x-python",
   "name": "python",
   "nbconvert_exporter": "python",
   "pygments_lexer": "ipython3",
   "version": "3.11.5"
  }
 },
 "nbformat": 4,
 "nbformat_minor": 5
}
