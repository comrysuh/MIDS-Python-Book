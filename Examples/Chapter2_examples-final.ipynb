{
 "cells": [
  {
   "cell_type": "markdown",
   "id": "60b5c367",
   "metadata": {},
   "source": [
    "#### Set Construction"
   ]
  },
  {
   "cell_type": "code",
   "execution_count": null,
   "id": "c8409b17",
   "metadata": {},
   "outputs": [],
   "source": [
    "#Listing 2.1\n",
    "from sympy import FiniteSet\n",
    "set1 = FiniteSet(1,2,3,4,5,6,7,8,9)\n",
    "print(set1)"
   ]
  },
  {
   "cell_type": "code",
   "execution_count": null,
   "id": "8a8f5d47",
   "metadata": {},
   "outputs": [],
   "source": [
    "#Listing 2.2\n",
    "from sympy import FiniteSet\n",
    "from fractions import Fraction\n",
    "s1 = FiniteSet(10.6, 2, Fraction(3,7),-10)\n",
    "s1"
   ]
  },
  {
   "cell_type": "code",
   "execution_count": null,
   "id": "85f671da",
   "metadata": {},
   "outputs": [],
   "source": [
    "#Listing 2.3\n",
    "from sympy import FiniteSet\n",
    "s2 = FiniteSet()\n",
    "s2"
   ]
  },
  {
   "cell_type": "code",
   "execution_count": null,
   "id": "065d054f",
   "metadata": {},
   "outputs": [],
   "source": [
    "#Listing 2.4\n",
    "from sympy import S\n",
    "s2 = S.EmptySet\n",
    "s2"
   ]
  },
  {
   "cell_type": "code",
   "execution_count": null,
   "id": "a2404e78",
   "metadata": {},
   "outputs": [],
   "source": [
    "#Extra\n",
    "from sympy import EmptySet\n",
    "s2 = EmptySet\n",
    "s2"
   ]
  },
  {
   "cell_type": "code",
   "execution_count": null,
   "id": "64127dae",
   "metadata": {},
   "outputs": [],
   "source": [
    "#Listing 2.5\n",
    "from sympy import FiniteSet\n",
    "L = [0, 2, 4, 6]\n",
    "s3 = FiniteSet(*L)\n",
    "s3"
   ]
  },
  {
   "cell_type": "code",
   "execution_count": null,
   "id": "03db53ec",
   "metadata": {},
   "outputs": [],
   "source": [
    "#Listing 2.6\n",
    "from sympy import FiniteSet\n",
    "L = [0, 2, 4, 6, 2]\n",
    "s3 = FiniteSet(*L)\n",
    "s3"
   ]
  },
  {
   "cell_type": "code",
   "execution_count": null,
   "id": "1233d596",
   "metadata": {},
   "outputs": [],
   "source": [
    "#Listing 2.7\n",
    "from sympy import FiniteSet\n",
    "set1 = FiniteSet(1,2,3,4,5,6,7,8,9)\n",
    "set2 = FiniteSet(0,2,4,6)\n",
    "print('The cardinality of set1 is {}.'.format(len(set1)))\n",
    "print('The statement that 4 is a member of set1 is {}.'.format(4 in set1))\n",
    "print('The statement that set1 and set2 are equal is {}.'.format(set1==set2))"
   ]
  },
  {
   "cell_type": "markdown",
   "id": "2774455e",
   "metadata": {},
   "source": [
    "#### Subsets and Power Sets"
   ]
  },
  {
   "cell_type": "code",
   "execution_count": null,
   "id": "efde9584",
   "metadata": {},
   "outputs": [],
   "source": [
    "#Listing 2.8\n",
    "from sympy import FiniteSet\n",
    "m = FiniteSet(2)\n",
    "n = FiniteSet(2,3,7)\n",
    "p = FiniteSet()\n",
    "print('The statement that m is a subset of n is {}.'.format(m.is_subset(n)))\n",
    "print('The statement that n is a subset of m is {}.'.format(n.is_subset(m)))\n",
    "print('The statement that m is a proper subset of n is {}.'.format(m.is_proper_subset(n)))\n",
    "print('The statement that p is a proper subset of n is {}.'.format(p.is_proper_subset(n)))\n",
    "print('The statement that m is a proper subset of m is {}.'.format(m.is_proper_subset(m)))"
   ]
  },
  {
   "cell_type": "code",
   "execution_count": null,
   "id": "35c044f9",
   "metadata": {},
   "outputs": [],
   "source": [
    "#Listing 2.9\n",
    "from sympy import FiniteSet\n",
    "set3 = FiniteSet(3,4,5)\n",
    "print('The set3 is shown as follows:\\n',set3)\n",
    "print('The cardinality of set3 is {}. '.format(len(set3)))\n",
    "Pset3 = set3.powerset()\n",
    "print('The powerset of set3 is: \\n', Pset3)\n",
    "print('The cardinality of the powerset of set3 is {}. '.format(len(set3.powerset())))"
   ]
  },
  {
   "cell_type": "markdown",
   "id": "7ab2fbd8",
   "metadata": {},
   "source": [
    "#### Set Operations"
   ]
  },
  {
   "cell_type": "code",
   "execution_count": null,
   "id": "fd804462",
   "metadata": {},
   "outputs": [],
   "source": [
    "#Listing 2.10\n",
    "from sympy import FiniteSet\n",
    "h = FiniteSet(2,4)\n",
    "l = FiniteSet(5,7)\n",
    "n = FiniteSet(2,3,7)\n",
    "q = FiniteSet(1,2,3,11.8) \n",
    "\n",
    "n.intersect(q).intersect(h).union(l)"
   ]
  },
  {
   "cell_type": "code",
   "execution_count": null,
   "id": "43b8b2c0",
   "metadata": {},
   "outputs": [],
   "source": [
    "#Listing 2.11\n",
    "from sympy import Union, Intersection\n",
    "#Union(Intersection(Intersection(n,q),h),l)\n",
    "Union(Intersection(n,q,h),l)"
   ]
  },
  {
   "cell_type": "code",
   "execution_count": null,
   "id": "0b460e59",
   "metadata": {},
   "outputs": [],
   "source": [
    "#Listing 2.12\n",
    "diff_set1 = n-h\n",
    "print('The resultant set of subtracting h from n is {}.'.format(diff_set1))\n",
    "diff_set2 = h-n\n",
    "print('The resultant set of subtracting n from h is {}.'.format(diff_set2))\n",
    "U = FiniteSet(0,1,2,3,4,5,6,7,8,9,10)\n",
    "comple_n = n.complement(U)\n",
    "print('The complement of n with respect to the given universe U is \\n {}.'.format(comple_n))"
   ]
  },
  {
   "cell_type": "code",
   "execution_count": null,
   "id": "7a207943",
   "metadata": {},
   "outputs": [],
   "source": [
    "#Listing 2.13\n",
    "from sympy import Complement\n",
    "Complement(U,n)"
   ]
  },
  {
   "cell_type": "code",
   "execution_count": null,
   "id": "6bdd3f5f",
   "metadata": {},
   "outputs": [],
   "source": [
    "#Listing 2.14\n",
    "from sympy import Interval\n",
    "\n",
    "I1 = Interval(0,15)\n",
    "print('The interval I1 is an closed interval:', I1)\n",
    "\n",
    "I2 = Interval(0,15,left_open=True, right_open=True)\n",
    "print('The interval I2 is an open interval:', I2)\n",
    "\n",
    "I3 = Interval(0,15,left_open=True)\n",
    "print('The interval I3 is a left open interval:', I3)\n",
    "\n",
    "I4 = Interval(0,15,right_open=True)\n",
    "print('The interval I4 is a right open interval:', I4)"
   ]
  },
  {
   "cell_type": "code",
   "execution_count": null,
   "id": "30ef9eb9",
   "metadata": {},
   "outputs": [],
   "source": [
    "#Listing 2.15\n",
    "from sympy import Interval, Union, Intersection\n",
    "\n",
    "I1 = Interval(0,15)\n",
    "I5 = Interval(6,19)\n",
    "\n",
    "print('The intersection of sets I1 and I5 is', Intersection(I1,I5))\n",
    "print('The union of sets I1 and I5 is', Union(I1,I5))"
   ]
  },
  {
   "cell_type": "code",
   "execution_count": null,
   "id": "262daeaf",
   "metadata": {},
   "outputs": [],
   "source": [
    "#Listing 2.16\n",
    "from sympy import ConditionSet, Symbol, S\n",
    "x=Symbol('x') \n",
    "s=ConditionSet(x, x<8, S.Naturals)\n",
    "s"
   ]
  },
  {
   "cell_type": "code",
   "execution_count": null,
   "id": "8519bd0f",
   "metadata": {},
   "outputs": [],
   "source": [
    "#Listing 2.17 (adjusted slightly)\n",
    "from sympy import ConditionSet, Symbol, S\n",
    "x=Symbol('x') \n",
    "y=Symbol('y') \n",
    "Universal_set = ConditionSet(y, y<16, S.Integers)\n",
    "Z=ConditionSet(x, x>10, Universal_set) \n",
    "Z"
   ]
  },
  {
   "cell_type": "code",
   "execution_count": null,
   "id": "11d58a75",
   "metadata": {},
   "outputs": [],
   "source": [
    "#Listing 2.18\n",
    "from sympy import FiniteSet\n",
    "x_values = range(11, 16) \n",
    "x_values = FiniteSet(*list(x_values))\n",
    "\n",
    "print(\"Valid integers, x, that satisfy x > 10 and x < 16 are:\\n\", x_values)\n"
   ]
  },
  {
   "cell_type": "code",
   "execution_count": null,
   "id": "34f1adc9",
   "metadata": {},
   "outputs": [],
   "source": [
    "#Listing 2.19\n",
    "from sympy import FiniteSet\n",
    "h = FiniteSet(2,4)\n",
    "n = FiniteSet(2,3,7)\n",
    "\n",
    "M = h * n\n",
    "print('M is:', M)\n",
    "print('The Cartesian product M is: \\n', M)\n",
    "\n",
    "for elem in M:\n",
    "    print(elem)\n",
    "    \n",
    "    "
   ]
  },
  {
   "cell_type": "code",
   "execution_count": null,
   "id": "debb1cb0",
   "metadata": {},
   "outputs": [],
   "source": [
    "#Alternate to Listing 2.19\n",
    "from sympy import FiniteSet, ProductSet\n",
    "h = FiniteSet(2,4)\n",
    "n = FiniteSet(2,3,7)\n",
    "\n",
    "M = ProductSet(h, n)\n",
    "print('M is:', M)\n",
    "print('The Cartesian product M is: \\n', M)\n",
    "\n",
    "for elem in M:\n",
    "    print(elem)"
   ]
  },
  {
   "cell_type": "code",
   "execution_count": null,
   "id": "08077d4a",
   "metadata": {},
   "outputs": [],
   "source": [
    "#Listing 2.20\n",
    "import numpy as np\n",
    "\n",
    "x = np.arange(-5,6)\n",
    "y = x**2\n",
    "\n",
    "f = np.array([x, y])\n",
    "for i in f.T:\n",
    "    print(i)"
   ]
  },
  {
   "cell_type": "code",
   "execution_count": null,
   "id": "23d6b88e",
   "metadata": {},
   "outputs": [],
   "source": [
    " #Listing 2.21\n",
    "import numpy as np\n",
    "\n",
    "print('Converting degrees to radians:\\n',np.radians([0, 30, 90]))\n",
    "print('Converting radians to degrees:\\n',np.degrees([-np.pi/2,0, np.pi/4]))"
   ]
  },
  {
   "cell_type": "code",
   "execution_count": null,
   "id": "369c1bde",
   "metadata": {},
   "outputs": [],
   "source": [
    "#Listing 2.22\n",
    "import numpy as np\n",
    "import matplotlib.pyplot as plt\n",
    "\n",
    "x1 = np.linspace(-np.pi, np.pi, 100)\n",
    "y1 = np.sin(x1)\n",
    "\n",
    "y2 = np.cos(x1)\n",
    "\n",
    "x2 = np.linspace(-np.pi/2.1, np.pi/2.1, 100)\n",
    "y3 = np.tan(x2)\n",
    "\n",
    "fig, axs = plt.subplots(1, 3)\n",
    "axs[0].plot(x1, y1)\n",
    "axs[0].set_title('sin(x)')\n",
    "axs[1].plot(x1, y2, 'ro')\n",
    "axs[1].set_title('cos(x)')\n",
    "axs[2].plot(x2, y3, 'g+')\n",
    "axs[2].set_title('tan(x)')\n",
    "\n",
    "for ax in axs.flat:\n",
    "    ax.set(xlabel='Angle', ylabel='y')\n",
    "\n",
    "for ax in axs.flat:\n",
    "    ax.label_outer()\n",
    "    \n",
    "fig.savefig('trig_graphs.png')  "
   ]
  },
  {
   "cell_type": "code",
   "execution_count": null,
   "id": "b761d46c",
   "metadata": {},
   "outputs": [],
   "source": [
    "#Listing 2.23\n",
    "import numpy as np\n",
    "import matplotlib.pyplot as plt\n",
    "\n",
    "x = np.linspace(0.001, 10, 1000)\n",
    "\n",
    "y1 = np.log(x)\n",
    "y2 = np.exp(y1)\n",
    "\n",
    "fig = plt.figure()\n",
    "plt.plot(x,y1, 'r')\n",
    "plt.plot(y1,y2, 'g')\n",
    "plt.plot(np.linspace(-10, 10), np.linspace(-10, 10), linestyle='dashdot')\n",
    "plt.legend(['log','exp', 'y=x'])\n",
    "plt.axis('square')"
   ]
  },
  {
   "cell_type": "code",
   "execution_count": null,
   "id": "ba26bfb9",
   "metadata": {},
   "outputs": [],
   "source": [
    "#Listing 2.24\n",
    "def compose2(f, g):   \n",
    "    return lambda x: f(g(x))\n",
    "\n",
    "def external(x):\n",
    "    return 5*x + 2\n",
    "\n",
    "def internal(x):    \n",
    "    return x**2\n",
    "\n",
    "ext_and_int = compose2(external, internal)\n",
    "ext_and_int(10)"
   ]
  },
  {
   "cell_type": "code",
   "execution_count": null,
   "id": "ab3d401a",
   "metadata": {},
   "outputs": [],
   "source": []
  }
 ],
 "metadata": {
  "kernelspec": {
   "display_name": "Python 3 (ipykernel)",
   "language": "python",
   "name": "python3"
  },
  "language_info": {
   "codemirror_mode": {
    "name": "ipython",
    "version": 3
   },
   "file_extension": ".py",
   "mimetype": "text/x-python",
   "name": "python",
   "nbconvert_exporter": "python",
   "pygments_lexer": "ipython3",
   "version": "3.11.7"
  }
 },
 "nbformat": 4,
 "nbformat_minor": 5
}
