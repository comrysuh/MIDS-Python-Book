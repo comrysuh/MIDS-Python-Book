{
 "cells": [
  {
   "cell_type": "code",
   "execution_count": null,
   "id": "60873417",
   "metadata": {
    "colab": {
     "base_uri": "https://localhost:8080/"
    },
    "id": "60873417",
    "outputId": "3f49de9e-4e7c-4c2d-ce56-d41db5bb1188"
   },
   "outputs": [],
   "source": [
    "#First code fragment\n",
    "a = 2 + 6\n",
    "print('a =',a)\n",
    "a = 3.14 + 6.26\n",
    "print('a =',a)\n",
    "a = 'Hello World'\n",
    "print('a =',a)"
   ]
  },
  {
   "cell_type": "code",
   "execution_count": null,
   "id": "3872d0e9",
   "metadata": {
    "colab": {
     "base_uri": "https://localhost:8080/"
    },
    "id": "3872d0e9",
    "outputId": "65bb51c5-5da3-4810-98eb-81974ea972fd"
   },
   "outputs": [],
   "source": [
    "#Second code fragment\n",
    "help(len)"
   ]
  },
  {
   "cell_type": "code",
   "execution_count": null,
   "id": "0dfb655e-1ad5-46fe-badd-74235b873f5f",
   "metadata": {},
   "outputs": [],
   "source": [
    "len?"
   ]
  },
  {
   "cell_type": "markdown",
   "id": "2701972c",
   "metadata": {
    "id": "2701972c"
   },
   "source": [
    "#### Listing 1.1"
   ]
  },
  {
   "cell_type": "code",
   "execution_count": null,
   "id": "ebe0748a",
   "metadata": {
    "colab": {
     "base_uri": "https://localhost:8080/"
    },
    "id": "ebe0748a",
    "outputId": "2c67e67c-3b29-4b99-a04b-cf665e3db21e"
   },
   "outputs": [],
   "source": [
    "#Listing 1.1\n",
    "firstName = 'Mia'\n",
    "surname = \"Wright\"\n",
    "username = firstName + \" \" + surname\n",
    "print('The username is',username)\n",
    "\n",
    "fullname = str('Mia Wright')\n",
    "print('The full name is',fullname)"
   ]
  },
  {
   "cell_type": "code",
   "execution_count": null,
   "id": "622bfca7",
   "metadata": {
    "colab": {
     "base_uri": "https://localhost:8080/",
     "height": 35
    },
    "id": "622bfca7",
    "outputId": "c21944c1-84e9-4c1f-994f-c256f4e08b4d"
   },
   "outputs": [],
   "source": [
    "#Third text fragment\n",
    "num = 11\n",
    "str_num = str(num)\n",
    "str_num\n"
   ]
  },
  {
   "cell_type": "code",
   "execution_count": null,
   "id": "m_zcgrHNCuXN",
   "metadata": {
    "colab": {
     "base_uri": "https://localhost:8080/"
    },
    "id": "m_zcgrHNCuXN",
    "outputId": "808efe47-ff72-4ec7-ecc7-2acc5613cdb6"
   },
   "outputs": [],
   "source": [
    "#Fourth text fragment\n",
    "print(str_num)\n",
    "print(repr(str_num))\n",
    "print('Type of str_num is:',type(str_num))"
   ]
  },
  {
   "cell_type": "markdown",
   "id": "566f2df9",
   "metadata": {
    "id": "566f2df9"
   },
   "source": [
    "#### Listing 1.2"
   ]
  },
  {
   "cell_type": "code",
   "execution_count": null,
   "id": "35e8dacf",
   "metadata": {
    "colab": {
     "base_uri": "https://localhost:8080/"
    },
    "id": "35e8dacf",
    "outputId": "126e8eb6-442f-4a1f-8e0c-5ad3a51c59d9"
   },
   "outputs": [],
   "source": [
    "#Listing 1.2\n",
    "myList = [1, 2, 6, 10, 'Hello']\n",
    "myList.append('!')\n",
    "print('myList is', myList)\n",
    "myList.insert(0, 's')\n",
    "L = len(myList)\n",
    "print('myList is', myList)\n",
    "print('The length of myList is', L)\n",
    "\n",
    "mystring = str('124')\n",
    "print('Convert mystring to a list', list(mystring))\n"
   ]
  },
  {
   "cell_type": "code",
   "execution_count": null,
   "id": "9ce2998a",
   "metadata": {
    "id": "9ce2998a"
   },
   "outputs": [],
   "source": [
    "len?"
   ]
  },
  {
   "cell_type": "code",
   "execution_count": null,
   "id": "44b07303",
   "metadata": {
    "colab": {
     "base_uri": "https://localhost:8080/"
    },
    "id": "44b07303",
    "outputId": "47170fe6-0fee-4c5b-ef1f-16c798831de4",
    "scrolled": true
   },
   "outputs": [],
   "source": [
    "help(range)"
   ]
  },
  {
   "cell_type": "markdown",
   "id": "17432681",
   "metadata": {
    "id": "17432681"
   },
   "source": [
    "#### Listing 1.3"
   ]
  },
  {
   "cell_type": "code",
   "execution_count": null,
   "id": "4ea261d6",
   "metadata": {
    "colab": {
     "base_uri": "https://localhost:8080/"
    },
    "id": "4ea261d6",
    "outputId": "1400dbc9-84e1-4b69-81f7-9a82c77a205f"
   },
   "outputs": [],
   "source": [
    "#Listing 1.3\n",
    "t1 = (1,2,3)\n",
    "t2 = 1,2,3\n",
    "t3 = tuple([1,2,3])\n",
    "t4 = tuple((1,2,3))\n",
    "print('\\nt1 is:', t1,'\\nt2 is:', t2, '\\nt3 is:', t3, '\\nt4 is:', t4)\n",
    "\n",
    "t5 = tuple('abc')\n",
    "print('\\nt5 is:',t5)\n",
    "\n",
    "t6 = 'abc',\n",
    "t7 = tuple(('abc',))\n",
    "print('\\nt6 is:', t6,'\\nt7 is:', t7)"
   ]
  },
  {
   "cell_type": "code",
   "execution_count": null,
   "id": "942e512e",
   "metadata": {
    "id": "942e512e"
   },
   "outputs": [],
   "source": [
    "#tuple(123)\n",
    "#tuple(1,2,3)"
   ]
  },
  {
   "cell_type": "code",
   "execution_count": null,
   "id": "92b1e148",
   "metadata": {
    "colab": {
     "base_uri": "https://localhost:8080/"
    },
    "id": "92b1e148",
    "outputId": "fe4655cb-4de1-4e27-d8f9-29505db57752"
   },
   "outputs": [],
   "source": [
    "#Fifth text fragment\n",
    "myDictionary = {'Peter':68, 'Mary':59 , 'Anna':81 , 'David':50, 'Joe': 62}\n",
    "myDictionary"
   ]
  },
  {
   "cell_type": "code",
   "execution_count": null,
   "id": "b294edce",
   "metadata": {
    "colab": {
     "base_uri": "https://localhost:8080/"
    },
    "id": "b294edce",
    "outputId": "bc0674d4-fc3e-4a9e-8202-f288968f0f82"
   },
   "outputs": [],
   "source": [
    "#Sixth text fragment\n",
    "strangeDictionary = {'Peter':68, 26:True, 3.147:'John', 'Fred': ['apple', 'pear', 'banana']}\n",
    "print(strangeDictionary)\n",
    "print(strangeDictionary['Peter'])\n",
    "print(strangeDictionary[26])\n",
    "print(strangeDictionary[3.147])\n",
    "print(strangeDictionary['Fred'])"
   ]
  },
  {
   "cell_type": "markdown",
   "id": "f853ef12",
   "metadata": {
    "id": "f853ef12"
   },
   "source": [
    "#### Listing 1.4"
   ]
  },
  {
   "cell_type": "code",
   "execution_count": null,
   "id": "c684f2b4",
   "metadata": {
    "colab": {
     "base_uri": "https://localhost:8080/"
    },
    "id": "c684f2b4",
    "outputId": "0dbdb672-ee40-42c8-fa8a-4abf797516f8"
   },
   "outputs": [],
   "source": [
    "#Listing 1.4\n",
    "mydict1 = {\n",
    "    'Ann': {'year': '5', 'score': 87},\n",
    "    'Tim': {'year': '6', 'score': 90}\n",
    "}\n",
    "print('mydict1:',mydict1)\n",
    "mydict2 = dict([\n",
    "    ('Ann', ('Year 5', 87)),\n",
    "    ('Tim', ('Year 6', 90))\n",
    "])\n",
    "print('mydict2',mydict2)"
   ]
  },
  {
   "cell_type": "code",
   "execution_count": null,
   "id": "bfc15dd2",
   "metadata": {
    "colab": {
     "base_uri": "https://localhost:8080/"
    },
    "id": "bfc15dd2",
    "outputId": "5871c3b1-303e-46e4-c1b2-7058f18da5da"
   },
   "outputs": [],
   "source": [
    "#Seventh text fragment\n",
    "mydict1['Ann']"
   ]
  },
  {
   "cell_type": "markdown",
   "id": "ec210c2f",
   "metadata": {
    "id": "ec210c2f"
   },
   "source": [
    "#### Listing 1.5"
   ]
  },
  {
   "cell_type": "code",
   "execution_count": null,
   "id": "a6ee6ec9",
   "metadata": {
    "colab": {
     "base_uri": "https://localhost:8080/"
    },
    "id": "a6ee6ec9",
    "outputId": "f94eb8dc-78ec-483c-9ded-b28747bc5765"
   },
   "outputs": [],
   "source": [
    "#Listing 1.5\n",
    "mydict2['Lila'] =('Year 6', 89)\n",
    "mydict2['Tim'] = ('Year 6', 91)\n",
    "del mydict2['Ann']\n",
    "mydict2"
   ]
  },
  {
   "cell_type": "markdown",
   "id": "d6fe555b",
   "metadata": {
    "id": "d6fe555b"
   },
   "source": [
    "#### Listing 1.6"
   ]
  },
  {
   "cell_type": "code",
   "execution_count": null,
   "id": "f2a33b97",
   "metadata": {
    "colab": {
     "base_uri": "https://localhost:8080/"
    },
    "id": "f2a33b97",
    "outputId": "1c2bf7bd-3e23-49cb-bfc9-54da1cebb339"
   },
   "outputs": [],
   "source": [
    "#Listing 1.6\n",
    "x = -5\n",
    "y = 3\n",
    "\n",
    "print(x < y)\n",
    "print(x == y)\n",
    "print(type(True))"
   ]
  },
  {
   "cell_type": "code",
   "execution_count": null,
   "id": "3564bcca",
   "metadata": {
    "colab": {
     "base_uri": "https://localhost:8080/",
     "height": 35
    },
    "id": "3564bcca",
    "outputId": "c8634744-944a-4536-b873-d1f8b607ae6e"
   },
   "outputs": [],
   "source": [
    "import numpy as np\n",
    "np.__version__"
   ]
  },
  {
   "cell_type": "code",
   "execution_count": null,
   "id": "4f11d842-2c89-4860-b670-f0c9efdbab0e",
   "metadata": {},
   "outputs": [],
   "source": [
    "help(np)"
   ]
  },
  {
   "cell_type": "code",
   "execution_count": null,
   "id": "002471e4",
   "metadata": {
    "id": "002471e4"
   },
   "outputs": [],
   "source": [
    "np?"
   ]
  },
  {
   "cell_type": "code",
   "execution_count": null,
   "id": "27813dc4",
   "metadata": {
    "colab": {
     "base_uri": "https://localhost:8080/",
     "height": 105
    },
    "id": "27813dc4",
    "outputId": "8de490a7-5712-4049-b460-2570a48687b2"
   },
   "outputs": [],
   "source": [
    "#In this box, on the next line, type np. then press Tab key.  Or just type np. and get alist if not running Jupyter notebook\n"
   ]
  },
  {
   "cell_type": "code",
   "execution_count": null,
   "id": "cb6fd43d",
   "metadata": {
    "id": "cb6fd43d"
   },
   "outputs": [],
   "source": [
    "import numpy.linalg as la\n",
    "from numpy import random\n"
   ]
  },
  {
   "cell_type": "markdown",
   "id": "0fbc158b",
   "metadata": {
    "id": "0fbc158b"
   },
   "source": [
    "#### Listing 1.7"
   ]
  },
  {
   "cell_type": "code",
   "execution_count": null,
   "id": "de57433c",
   "metadata": {
    "colab": {
     "base_uri": "https://localhost:8080/"
    },
    "id": "de57433c",
    "outputId": "666822a5-e991-4784-915d-90719492a85a"
   },
   "outputs": [],
   "source": [
    "#Listing 1.7\n",
    "str1 = 'Python'\n",
    "print(str1.__class__)\n",
    "newlist = [1, 2, 3]\n",
    "print(newlist.__len__)\n",
    "print(newlist.__len__())\n"
   ]
  },
  {
   "cell_type": "code",
   "execution_count": null,
   "id": "17bf31b3",
   "metadata": {
    "id": "17bf31b3",
    "outputId": "a89cd9f4-a2c7-4b77-daa5-9cbc218154ad"
   },
   "outputs": [],
   "source": [
    "dir(str)"
   ]
  },
  {
   "cell_type": "code",
   "execution_count": null,
   "id": "07e28b39",
   "metadata": {
    "colab": {
     "base_uri": "https://localhost:8080/"
    },
    "id": "07e28b39",
    "outputId": "332cc95c-d64e-4302-b8da-f05f7b003a15"
   },
   "outputs": [],
   "source": [
    "dir(list)"
   ]
  },
  {
   "cell_type": "markdown",
   "id": "1a5786dd",
   "metadata": {
    "id": "1a5786dd"
   },
   "source": [
    "#### Listing 1.8"
   ]
  },
  {
   "cell_type": "code",
   "execution_count": null,
   "id": "db16dab0",
   "metadata": {
    "colab": {
     "base_uri": "https://localhost:8080/"
    },
    "id": "db16dab0",
    "outputId": "673b205c-2252-415f-da16-980cdf78b56e"
   },
   "outputs": [],
   "source": [
    "#Listing 1.8\n",
    "length = str1.upper().__len__()\n",
    "print(str1.upper())\n",
    "print(length)\n"
   ]
  },
  {
   "cell_type": "code",
   "execution_count": null,
   "id": "1350e6c8",
   "metadata": {
    "colab": {
     "base_uri": "https://localhost:8080/",
     "height": 105
    },
    "id": "1350e6c8",
    "outputId": "f3858f57-435d-4861-a031-3f03fb9d0b25"
   },
   "outputs": [],
   "source": [
    "#In this box, on the next line, type str1. (including the dot). Then press the Tab key. \n"
   ]
  },
  {
   "cell_type": "markdown",
   "id": "748b80c1",
   "metadata": {
    "id": "748b80c1"
   },
   "source": [
    "#### Listing 1.9 NumPy"
   ]
  },
  {
   "cell_type": "code",
   "execution_count": null,
   "id": "33eb454b",
   "metadata": {
    "colab": {
     "base_uri": "https://localhost:8080/"
    },
    "id": "33eb454b",
    "outputId": "5f70ed05-3cee-4b11-c73c-0270c53d277a"
   },
   "outputs": [],
   "source": [
    "#Listing 1.9\n",
    "import numpy as np\n",
    "a = np.array([-1, 3.2, 1.4])\n",
    "print(type(a))\n",
    "print('a:',a)\n",
    "print('The type of array a:',a.dtype)\n",
    "print('The number of dimensions of a:',a.ndim)\n",
    "print('The size of a:',a.shape)\n",
    "A = np.array([[-1], [3.2], [1.4]])\n",
    "print(type(A))\n",
    "print('A:\\n',A)\n",
    "print('The type of array A:',A.dtype)\n",
    "print('The number of dimensions of A:',A.ndim)\n",
    "print('The size of A:',A.shape)\n",
    "A1 = np.array([[-1,2], [3.2, 4.5], [1.4,-2.3]])\n",
    "print(type(A1))\n",
    "print('A1:\\n',A1)\n",
    "print('The type of array A1:',A1.dtype)\n",
    "print('The number of dimensions of A1:',A1.ndim)\n",
    "print('The size of A1:',A1.shape)\n"
   ]
  },
  {
   "cell_type": "markdown",
   "id": "77cc447a",
   "metadata": {
    "id": "77cc447a"
   },
   "source": [
    "#### Listing 1.10"
   ]
  },
  {
   "cell_type": "code",
   "execution_count": null,
   "id": "b8933a67",
   "metadata": {
    "colab": {
     "base_uri": "https://localhost:8080/"
    },
    "id": "b8933a67",
    "outputId": "06b98bce-f30b-46fb-f636-f19c0da54aac"
   },
   "outputs": [],
   "source": [
    "#Listing 1.10\n",
    "import numpy as np\n",
    "np.random.seed(421)\n",
    "m = np.random.randint(5, size=6)\n",
    "print('Array m:', m)\n",
    "sorted_m = np.sort(m)\n",
    "print('Sorted array m:', sorted_m)\n",
    "print('First element of m:', m[0])\n",
    "print('Last three elements:', m[3:6])\n",
    "print('Elements on the even positions in m:',m[1:6:2])\n",
    "print('Sum of m:', np.sum(m))\n",
    "print('Mean of m:', np.mean(m))\n",
    "print('Max of m:', np.max(m))\n",
    "print('Min of m:', np.min(m))"
   ]
  },
  {
   "cell_type": "markdown",
   "id": "13bc940b",
   "metadata": {
    "id": "13bc940b"
   },
   "source": [
    "#### Listing 1.11"
   ]
  },
  {
   "cell_type": "code",
   "execution_count": null,
   "id": "e3b9d6fb",
   "metadata": {
    "colab": {
     "base_uri": "https://localhost:8080/"
    },
    "id": "e3b9d6fb",
    "outputId": "76415734-1067-43ba-8338-3e194603d7dd",
    "scrolled": true
   },
   "outputs": [],
   "source": [
    "#Listing 1.11\n",
    "import numpy as np\n",
    "np.random.seed(421)\n",
    "n = np.random.randint(8, size=(2,3))\n",
    "print('Array n:\\n', n)\n",
    "sorted_n = np.sort(n)\n",
    "print('Sorted array n:\\n', sorted_n)\n",
    "print('First row of n:', n[0,:])\n",
    "print('Last two columns of n:\\n', n[:, 1:3])\n",
    "print('Sum of each row in n:', np.sum(n, axis=1))\n",
    "print('Mean of each column in n:', np.mean(n, axis=0))\n",
    "print('Max of each row in n:', np.max(n, axis=1))\n",
    "print('Min of each column in n:', np.min(n, axis=0))\n",
    "print('Sum of n:', np.sum(n))"
   ]
  },
  {
   "cell_type": "code",
   "execution_count": null,
   "id": "yT4uv5l1xFaC",
   "metadata": {
    "colab": {
     "base_uri": "https://localhost:8080/"
    },
    "id": "yT4uv5l1xFaC",
    "outputId": "6ca6ef0e-8445-40a8-88c6-f81287feeea1"
   },
   "outputs": [],
   "source": [
    "#Listing 1.12\n",
    "from sympy import FiniteSet, Union\n",
    "x = FiniteSet(1,2,3,4,5)\n",
    "y = FiniteSet (4,5,6,7,8)\n",
    "u = Union(x,y)\n",
    "print('u =',u)"
   ]
  },
  {
   "cell_type": "code",
   "execution_count": null,
   "id": "4WMK_Nvo6Wrh",
   "metadata": {
    "colab": {
     "base_uri": "https://localhost:8080/"
    },
    "id": "4WMK_Nvo6Wrh",
    "outputId": "bfa84f66-50c8-4e8e-cb8a-66e5617f51a4"
   },
   "outputs": [],
   "source": [
    "#Listing 1.13\n",
    "import sympy as sp\n",
    "x = sp.Symbol('x')\n",
    "function = sp.sin(x) * sp.exp(x)\n",
    "derivative = sp.diff(function,x)\n",
    "print('f\\'(x) =', derivative)"
   ]
  },
  {
   "cell_type": "code",
   "execution_count": null,
   "id": "8VMgaIPtC4-t",
   "metadata": {
    "colab": {
     "base_uri": "https://localhost:8080/"
    },
    "id": "8VMgaIPtC4-t",
    "outputId": "287749e8-c2b6-44aa-dadb-ea753150c59e"
   },
   "outputs": [],
   "source": [
    "#Listing 1.14\n",
    "from sympy import symbols\n",
    "from sympy.stats import Uniform, E\n",
    "a, b = symbols ('a b')\n",
    "X = Uniform ('x', a, b)\n",
    "Mean = E(X)\n",
    "print('Mean is ',Mean)"
   ]
  },
  {
   "cell_type": "markdown",
   "id": "2e9abf48",
   "metadata": {
    "id": "2e9abf48"
   },
   "source": [
    "#### Listing 1.15 - Pandas"
   ]
  },
  {
   "cell_type": "code",
   "execution_count": null,
   "id": "859d80b5",
   "metadata": {
    "colab": {
     "base_uri": "https://localhost:8080/"
    },
    "id": "859d80b5",
    "outputId": "3e89c4e6-b779-4259-844c-b3853612b0a7"
   },
   "outputs": [],
   "source": [
    "#Listing 1.15\n",
    "import pandas as pd\n",
    "\n",
    "url = 'https://archive.ics.uci.edu/ml/machine-learning-databases/iris/iris.data'\n",
    "column_names = ['sepal_length', 'sepal_width', 'petal_length', 'petal_width', 'species']\n",
    "df = pd.read_csv(url, header=None, names=column_names)\n",
    "print('The size of the data is:',df.shape)\n",
    "print('The top five data items:\\n',df.head())\n",
    "print('Row index:', df.index)\n",
    "print('Column index:', df.columns)\n",
    "print('Data obtained using Index:\\n', df.loc[3:4,['sepal_width', 'petal_length']])\n",
    "print('Data obtained using iloc indexer:\\n',df.iloc[3:5,1:3])"
   ]
  },
  {
   "cell_type": "code",
   "execution_count": null,
   "id": "6fb3b563",
   "metadata": {
    "colab": {
     "base_uri": "https://localhost:8080/",
     "height": 453
    },
    "id": "6fb3b563",
    "outputId": "1c18cb36-29e2-4e2f-ae12-2baf840ac560"
   },
   "outputs": [],
   "source": [
    "df['sepal_length']"
   ]
  },
  {
   "cell_type": "code",
   "execution_count": null,
   "id": "4187e721",
   "metadata": {
    "id": "4187e721"
   },
   "outputs": [],
   "source": [
    "from sklearn import datasets\n",
    "\n",
    "iris_dataset = datasets.load_iris()"
   ]
  },
  {
   "cell_type": "markdown",
   "id": "eb711378",
   "metadata": {
    "id": "eb711378"
   },
   "source": [
    "#### Listing 1.16"
   ]
  },
  {
   "cell_type": "code",
   "execution_count": null,
   "id": "631821f7",
   "metadata": {
    "colab": {
     "base_uri": "https://localhost:8080/"
    },
    "id": "631821f7",
    "outputId": "1a37d3a3-ae46-4f48-8bc1-194f8d854b14",
    "scrolled": true
   },
   "outputs": [],
   "source": [
    "#Listing 1.16\n",
    "from sklearn.datasets import load_iris\n",
    "import pandas as pd\n",
    "\n",
    "iris_dataset = load_iris()\n",
    "print(type(iris_dataset))\n",
    "print(iris_dataset.keys())\n",
    "\n",
    "print('Feature Names:', iris_dataset.feature_names)\n",
    "print('Target Names (species):', iris_dataset.target_names)\n",
    "print('The type of the Iris data:', type(iris_dataset.data))\n",
    "print('The size of the Iris data:', iris_dataset.data.shape)\n",
    "\n",
    "iris_df = pd.DataFrame(\n",
    "    iris_dataset.data,\n",
    "    columns=iris_dataset.feature_names\n",
    ")\n",
    "print('\\nThe top two rows of iris_df\\n', iris_df.head(2))"
   ]
  },
  {
   "cell_type": "markdown",
   "id": "70d9574f",
   "metadata": {
    "id": "70d9574f"
   },
   "source": [
    "#### Listing 1.17"
   ]
  },
  {
   "cell_type": "code",
   "execution_count": null,
   "id": "de5f507b",
   "metadata": {
    "colab": {
     "base_uri": "https://localhost:8080/",
     "height": 524
    },
    "id": "de5f507b",
    "outputId": "c3c27763-59fb-44b7-d09d-dfa6e531e486"
   },
   "outputs": [],
   "source": [
    "#Listing 1.17\n",
    "from sklearn.datasets import load_iris\n",
    "import matplotlib.pyplot as plt\n",
    "\n",
    "iris = load_iris()\n",
    "X = iris.data\n",
    "y = iris.target\n",
    "target_names = iris.target_names\n",
    "sizes = ((X[:, 2] - X[:, 2].min()) / (X[:, 2].max() - X[:, 2].min())) * 150\n",
    "\n",
    "fig, axes = plt.subplots(1, 2, figsize=(12, 5))\n",
    "\n",
    "axes[0].plot(X[y == 0, 0], X[y == 0, 1], 'o', label='Setosa')\n",
    "axes[0].plot(X[y == 1, 0], X[y == 1, 1], '^', label='Versicolor')\n",
    "axes[0].plot(X[y == 2, 0], X[y == 2, 1], 'd', label='Virginica')\n",
    "axes[0].set_xlabel('Sepal length (cm)')\n",
    "axes[0].set_ylabel('Sepal width (cm)')\n",
    "axes[0].legend()\n",
    "\n",
    "scatter = axes[1].scatter(X[:, 0], X[:, 1], c=y, s=sizes, cmap='viridis')\n",
    "axes[1].set_xlabel('Sepal length (cm)')\n",
    "axes[1].set_ylabel('Sepal width (cm)')\n",
    "legend_cbar = fig.colorbar(scatter, ax=axes[1], ticks=[0, 1, 2])\n",
    "legend_cbar.ax.set_yticklabels(target_names)\n",
    "\n",
    "plt.tight_layout()\n",
    "plt.savefig(\"iris.eps\", format='eps', dpi=600)"
   ]
  },
  {
   "cell_type": "code",
   "execution_count": null,
   "id": "76775a7e-5dbc-4156-bd87-0124db812327",
   "metadata": {},
   "outputs": [],
   "source": [
    "sizes"
   ]
  },
  {
   "cell_type": "code",
   "execution_count": null,
   "id": "71aac049",
   "metadata": {
    "colab": {
     "base_uri": "https://localhost:8080/"
    },
    "id": "71aac049",
    "outputId": "c9f72b6c-93ac-42c3-92da-0a366749937e"
   },
   "outputs": [],
   "source": [
    "print(type(axes))\n",
    "print(axes.shape)\n",
    "print(type(fig))"
   ]
  },
  {
   "cell_type": "markdown",
   "id": "9c6d8dbf",
   "metadata": {
    "id": "9c6d8dbf"
   },
   "source": [
    "#### Listing 1.18 - If statement"
   ]
  },
  {
   "cell_type": "code",
   "execution_count": null,
   "id": "29a95c13",
   "metadata": {
    "colab": {
     "base_uri": "https://localhost:8080/"
    },
    "id": "29a95c13",
    "outputId": "a74ff0fb-9436-41d0-f2ee-1f91d8dc13a1"
   },
   "outputs": [],
   "source": [
    "#Lising 1.18\n",
    "userInput = input('Enter 1, 2 or 3:')\n",
    "if (userInput == '1') | (userInput == '2'):\n",
    "    print ('Hello!')\n",
    "elif (userInput == '3'):\n",
    "    print ('Hi!')\n",
    "else:\n",
    "    print ('You did not enter a valid number.')"
   ]
  },
  {
   "cell_type": "markdown",
   "id": "bc57b4da",
   "metadata": {
    "id": "bc57b4da"
   },
   "source": [
    "#### Listing 1.19"
   ]
  },
  {
   "cell_type": "code",
   "execution_count": null,
   "id": "33b9523b",
   "metadata": {
    "colab": {
     "base_uri": "https://localhost:8080/"
    },
    "id": "33b9523b",
    "outputId": "07124456-937c-49a2-c1e5-95ddbf546352"
   },
   "outputs": [],
   "source": [
    "#Listing 1.19\n",
    "userInput = input('Enter 1, 2 or 3:')\n",
    "\n",
    "print('Hello') if (userInput == '1') | (userInput == '2') else (print('Hi!') if userInput == '3' else (print('You did not enter a valid number.')))"
   ]
  },
  {
   "cell_type": "markdown",
   "id": "39df5706",
   "metadata": {
    "id": "39df5706"
   },
   "source": [
    "#### Listing 1.20 - for loop"
   ]
  },
  {
   "cell_type": "code",
   "execution_count": null,
   "id": "e0f4390c",
   "metadata": {
    "colab": {
     "base_uri": "https://localhost:8080/"
    },
    "id": "e0f4390c",
    "outputId": "a65078d4-bb22-4f02-a477-76728c9d9777"
   },
   "outputs": [],
   "source": [
    "#Listing 1.20 - the for loop\n",
    "names = ['David', 'Mary', 'Joe', 'Anne']\n",
    "for name in names:\n",
    "    print(name)"
   ]
  },
  {
   "cell_type": "markdown",
   "id": "dd228ac2",
   "metadata": {
    "id": "dd228ac2"
   },
   "source": [
    "#### Listing 1.21 - While loop"
   ]
  },
  {
   "cell_type": "code",
   "execution_count": null,
   "id": "bf031663",
   "metadata": {
    "colab": {
     "base_uri": "https://localhost:8080/"
    },
    "id": "bf031663",
    "outputId": "d6fd6aa5-7651-4756-a0a1-f98b60130762"
   },
   "outputs": [],
   "source": [
    "#Listing 1.21\n",
    "number = 4\n",
    "while number > 0:\n",
    "    print('number = ', number)\n",
    "    number = number - 1\n"
   ]
  },
  {
   "cell_type": "markdown",
   "id": "3976d904",
   "metadata": {
    "id": "3976d904"
   },
   "source": [
    "#### Listing 1.22 - Define your own function"
   ]
  },
  {
   "cell_type": "code",
   "execution_count": null,
   "id": "91212e8d",
   "metadata": {
    "colab": {
     "base_uri": "https://localhost:8080/"
    },
    "id": "91212e8d",
    "outputId": "f0993250-9273-479b-aa3f-810abace10d5"
   },
   "outputs": [],
   "source": [
    "#Listing 1.22\n",
    "def divide(a,b):\n",
    "    if a % b == 0:\n",
    "        c = a/b\n",
    "    else:\n",
    "        c = round(a/b, 2)\n",
    "    return c\n",
    "\n",
    "x1 = 10\n",
    "y1 = 2\n",
    "result1 = divide(x1, y1)\n",
    "print('x1/y1:', result1)\n",
    "\n",
    "x2 = 8\n",
    "y2 = 3\n",
    "result2 = divide(x2, y2)\n",
    "print('x2/y2:', result2)"
   ]
  },
  {
   "cell_type": "markdown",
   "id": "bf840d0d",
   "metadata": {
    "id": "bf840d0d"
   },
   "source": [
    "#### Listing 1.23"
   ]
  },
  {
   "cell_type": "code",
   "execution_count": null,
   "id": "83214b12",
   "metadata": {
    "colab": {
     "base_uri": "https://localhost:8080/",
     "height": 449
    },
    "id": "83214b12",
    "outputId": "bd090175-62df-4b84-a2fc-bd82f549e164"
   },
   "outputs": [],
   "source": [
    "#Listing 1.23\n",
    "import matplotlib.pyplot as plt\n",
    "import numpy as np\n",
    "\n",
    "f = lambda x,a: -a*x**2\n",
    "\n",
    "a=2\n",
    "x = np.linspace(-5,5)\n",
    "y=f(x,a)\n",
    "\n",
    "plt.plot(x,y)\n",
    "plt.xlabel('x'), plt.ylabel('y')\n",
    "plt.savefig('function.eps', format='eps', dpi=600)"
   ]
  },
  {
   "cell_type": "code",
   "execution_count": null,
   "id": "472c02be",
   "metadata": {
    "id": "472c02be"
   },
   "outputs": [],
   "source": [
    "print??"
   ]
  },
  {
   "cell_type": "code",
   "execution_count": null,
   "id": "222488c2",
   "metadata": {
    "id": "222488c2"
   },
   "outputs": [],
   "source": [
    "len?"
   ]
  },
  {
   "cell_type": "code",
   "execution_count": null,
   "id": "6f464300",
   "metadata": {
    "id": "6f464300"
   },
   "outputs": [],
   "source": []
  },
  {
   "cell_type": "code",
   "execution_count": null,
   "id": "148de205",
   "metadata": {
    "id": "148de205"
   },
   "outputs": [],
   "source": []
  },
  {
   "cell_type": "code",
   "execution_count": null,
   "id": "8cdc4d37",
   "metadata": {},
   "outputs": [],
   "source": []
  }
 ],
 "metadata": {
  "colab": {
   "provenance": []
  },
  "kernelspec": {
   "display_name": "Python 3 (ipykernel)",
   "language": "python",
   "name": "python3"
  },
  "language_info": {
   "codemirror_mode": {
    "name": "ipython",
    "version": 3
   },
   "file_extension": ".py",
   "mimetype": "text/x-python",
   "name": "python",
   "nbconvert_exporter": "python",
   "pygments_lexer": "ipython3",
   "version": "3.11.7"
  }
 },
 "nbformat": 4,
 "nbformat_minor": 5
}
