{
 "cells": [
  {
   "cell_type": "markdown",
   "id": "96b28bdb-96ed-4246-a938-7d613a118016",
   "metadata": {},
   "source": [
    "#### Listing 12.1"
   ]
  },
  {
   "cell_type": "code",
   "execution_count": null,
   "id": "81262683",
   "metadata": {},
   "outputs": [],
   "source": [
    "#Listing 12.1\n",
    "import numpy as np\n",
    "import scipy.stats as stats\n",
    "\n",
    "x1 = np.array([2, 6, 3, 4, 6, 0, 6])\n",
    "print('The mean of x1 is', np.round(np.mean(x1),2))\n",
    "print('The median of x1 is',np.median(x1))\n",
    "mode_output = stats.mode(x1)\n",
    "print(f'The mode of x1 is {mode_output.mode} and the count is {mode_output.count}')\n",
    "\n",
    "x2 = np.array([2, 1, 3, 4, 5, 0, 6])\n",
    "print('The mean of x2 is',np.mean(x2))\n",
    "print('The median of x2 is',np.median(x2))\n",
    "mode_output = stats.mode(x2)\n",
    "print(f'The mode of x2 is {mode_output.mode} and the count is {mode_output.count}')\n"
   ]
  },
  {
   "cell_type": "markdown",
   "id": "25d1a0ed-d80e-4ae2-bd7f-a7dc58a35b22",
   "metadata": {},
   "source": [
    "#### Listing 12.2"
   ]
  },
  {
   "cell_type": "code",
   "execution_count": null,
   "id": "742765e0",
   "metadata": {},
   "outputs": [],
   "source": [
    "#Listing 12.2\n",
    "import numpy as np\n",
    "import scipy.stats as stats\n",
    "\n",
    "E = np.array([[2, 1, 4],[3, 0, 5],[2, 2, 2],[1, -1, 4]])\n",
    "\n",
    "print('The mean of each column is ', np.mean(E, axis=0)) \n",
    "print('The mean of each row is ', np.round(np.mean(E, axis=1),2)) \n",
    "print('The median of each column is ', np.median(E, axis=0)) \n",
    "print('The median of each row is ', np.median(E, axis=1)) \n",
    "mode_output = stats.mode(E, axis=0)\n",
    "print(f'The mode of each column is {mode_output.mode}\\nThe corresponding count is {mode_output.count}')\n",
    "mode_output1 = stats.mode(E, axis=1)\n",
    "print(f'The mode of each row is {mode_output1.mode}\\nThe corresponding count is {mode_output1.count}')\n"
   ]
  },
  {
   "cell_type": "markdown",
   "id": "02a53ed1-99e8-456b-b833-b58574eb442a",
   "metadata": {},
   "source": [
    "#### Listing 12.3"
   ]
  },
  {
   "cell_type": "code",
   "execution_count": null,
   "id": "31d7927a",
   "metadata": {},
   "outputs": [],
   "source": [
    "#Listing 12.3\n",
    "from scipy.stats import gaussian_kde\n",
    "\n",
    "def find_mode_conti_rv(dataset):\n",
    "    Gauss_kde = gaussian_kde(dataset)\n",
    "    pdf_vals = Gauss_kde(dataset) \n",
    "    mode_index = np.argmax(pdf_vals)\n",
    "    mode_value = dataset[mode_index]  \n",
    "    return mode_value"
   ]
  },
  {
   "cell_type": "markdown",
   "id": "ba3b7fb7-333a-4c61-9b9a-6bdcba89290a",
   "metadata": {},
   "source": [
    "#### Listing 12.4"
   ]
  },
  {
   "cell_type": "code",
   "execution_count": null,
   "id": "eca20afb",
   "metadata": {
    "scrolled": true
   },
   "outputs": [],
   "source": [
    "#Listing 12.4\n",
    "import numpy as np\n",
    "import matplotlib.pyplot as plt\n",
    "\n",
    "np.random.seed(421)\n",
    "normal_data_0 = np.random.normal(loc=5, scale=1, size=1000)\n",
    "normal_data_1 = np.random.normal(loc=1.5, scale=3, size=1000)\n",
    "normal_data_2 = np.random.normal(loc=7.5, scale=3, size=1000)\n",
    "\n",
    "left_skewed_data = np.concatenate((normal_data_0, normal_data_1))\n",
    "right_skewed_data = np.concatenate((normal_data_0, normal_data_2))\n",
    "normal_data = np.random.normal(loc=5, scale=1, size=2000)\n",
    "\n",
    "data = np.column_stack((left_skewed_data, normal_data, right_skewed_data))\n",
    "\n",
    "fig, axes = plt.subplots(1, 3, figsize=(15, 5))\n",
    "\n",
    "for ax, col_data in zip(axes, data.T):\n",
    "    col_mean = np.mean(col_data)\n",
    "    col_median = np.median(col_data)\n",
    "    col_mode = find_mode_conti_rv(col_data)\n",
    "    ax.hist(col_data, bins=20, color='blue', alpha=1, edgecolor='black')\n",
    "    ax.set_title('Mean = {:.2f}\\n Median = {:.2f}\\n  Mode = {:.2f}'.format(col_mean, col_median, col_mode))\n",
    "    ax.set_ylabel('Frequency', fontsize =\"15\")\n",
    "    ax.grid(True)\n",
    "    ax.set_xlim(-12, 17)\n",
    "\n",
    "fig.savefig(\"centre.eps\", format='eps', dpi=600)"
   ]
  },
  {
   "cell_type": "markdown",
   "id": "87cc510b-f268-45fe-ac43-4c381f04012f",
   "metadata": {},
   "source": [
    "##### Listing 12.5"
   ]
  },
  {
   "cell_type": "code",
   "execution_count": null,
   "id": "418d1178",
   "metadata": {},
   "outputs": [],
   "source": [
    "#Listing 12.5\n",
    "import numpy as np\n",
    "\n",
    "np.random.seed(421)\n",
    "normal_data = np.random.normal(loc=5, scale=1, size=1000)\n",
    "normal_data_1 = np.random.normal(loc=1.5, scale=3, size=1000)\n",
    "normal_data_2 = np.random.normal(loc=7.5, scale=3, size=1000)\n",
    "\n",
    "left_skewed_data = np.concatenate((normal_data, normal_data_1))\n",
    "right_skewed_data = np.concatenate((normal_data, normal_data_2))\n",
    "normal_data = np.random.normal(loc=5, scale=1, size=2000)\n",
    "\n",
    "print('Left skewed distribution:\\n standard deviation = {:.2f}, mean = {:.2f}, CV = {:.2f}.'.format(np.std(left_skewed_data), np.mean(left_skewed_data), np.std(left_skewed_data)/np.mean(left_skewed_data)))\n",
    "print('Normal distribution:\\n standard deviation = {:.2f}, mean = {:.2f}, CV = {:.2f}.'.format(np.std(normal_data), np.mean(normal_data), np.std(normal_data)/np.mean(normal_data)))\n",
    "print('Right skewed distribution:\\n standard deviation = {:.2f}, mean = {:.2f}, CV = {:.2f}.'.format(np.std(right_skewed_data), np.mean(right_skewed_data), np.std(right_skewed_data)/np.mean(right_skewed_data)))"
   ]
  },
  {
   "cell_type": "markdown",
   "id": "db47db68-9f8b-465b-a7a9-fa9189aecfbf",
   "metadata": {},
   "source": [
    "#### Listing 12.6"
   ]
  },
  {
   "cell_type": "code",
   "execution_count": null,
   "id": "f351c85c",
   "metadata": {
    "scrolled": true
   },
   "outputs": [],
   "source": [
    "#Listing 12.6\n",
    "import matplotlib.pyplot as plt\n",
    "import numpy as np\n",
    "\n",
    "data = np.array([[55,72,52,45,58,55,30,52,38,55,42,65,53,55,80,48],\n",
    "                 [60,76,57,49,62,58,43,46,60,50,67,58,59,43,87,56]])\n",
    "data = data.T\n",
    "\n",
    "fig, axes = plt.subplots(1, 3, figsize=(15, 5))\n",
    "box1 = axes[0].boxplot(data[:,0], patch_artist=True, labels = ['Dataset 1'])\n",
    "box2 = axes[1].boxplot(data[:,1], patch_artist=False, labels = ['Dataset 2'], sym = 'bs')\n",
    "box = axes[2].boxplot(data, patch_artist=True, labels = ['Dataset 1', 'Dataset 2'], widths = 0.5)\n",
    "\n",
    "q1_data1 = box['boxes'][0].get_path().vertices[0, 1] \n",
    "q1_data2 = box['boxes'][1].get_path().vertices[0, 1]\n",
    "median_data1 = box['medians'][0].get_ydata()[0]\n",
    "median_data2 = box['medians'][1].get_ydata()[0]\n",
    "q3_data1 = box['boxes'][0].get_path().vertices[2, 1] \n",
    "q3_data2 = box['boxes'][1].get_path().vertices[2, 1] \n",
    "print('Quantiles for Dataset 1:\\n Q1:', q1_data1, 'Median', median_data1, 'Q3:', q3_data1)\n",
    "print('Quantiles for Dataset 2:\\n Q1:', q1_data2, 'Median', median_data2, 'Q3:', q3_data2)\n",
    "\n",
    "outliers_data1 = box['fliers'][0].get_ydata()\n",
    "outliers_data2 = box['fliers'][1].get_ydata()\n",
    "print('Outliers of Dataset 1:', outliers_data1)\n",
    "print('Outliers of Dataset 2:', outliers_data2)\n",
    "\n",
    "plt.tight_layout()\n",
    "plt.savefig('boxplots.eps', format='eps',dpi=600)\n"
   ]
  },
  {
   "cell_type": "markdown",
   "id": "958cf8d0-c77a-4ff5-8d6b-57ac02b42a3d",
   "metadata": {},
   "source": [
    "#### Listing 12.7"
   ]
  },
  {
   "cell_type": "code",
   "execution_count": null,
   "id": "0fd55f92",
   "metadata": {},
   "outputs": [],
   "source": [
    "#Listing 12.7\n",
    "import numpy as np\n",
    "from scipy.stats import binom\n",
    "import matplotlib.pyplot as plt\n",
    "\n",
    "sample_sizes = [10, 50, 150]  \n",
    "prob_heads = 0.6 \n",
    "\n",
    "fig, axes = plt.subplots(1, len(sample_sizes), figsize=(15, 5))\n",
    "\n",
    "for ax, num_tosses in zip(axes, sample_sizes):\n",
    "    num_heads = binom.rvs(n=num_tosses, p=prob_heads, size=1000, random_state=421)\n",
    "    proportion_heads = num_heads / num_tosses\n",
    "    mu_sample_prop = np.mean(proportion_heads)\n",
    "    sigma_sample_prop = np.std(proportion_heads)\n",
    "    ax.hist(proportion_heads, bins=20, color='blue', alpha=1, edgecolor='black')\n",
    "    ax.set_title('Number of tosses = {}\\n $\\mu_p$ = {:.2f}\\n  $\\sigma_p$= {:.2f}'.format(num_tosses, mu_sample_prop, sigma_sample_prop))\n",
    "    ax.set_xlabel('Sample proportion')\n",
    "    ax.set_ylabel('Frequency', fontsize =\"15\")\n",
    "    ax.grid(True)\n",
    "    ax.set_xlim(0, 1.2)\n",
    "\n",
    "plt.tight_layout()\n",
    "fig.savefig(\"distribution_sample_prop.eps\", format='eps', dpi=600)"
   ]
  },
  {
   "cell_type": "code",
   "execution_count": null,
   "id": "93910043",
   "metadata": {},
   "outputs": [],
   "source": [
    "#Extra for listing 12.7\n",
    "import numpy as np \n",
    "\n",
    "n1, n2, n3 = 10, 50, 150\n",
    "p = 0.6\n",
    "sigma_x1 = np.sqrt(p*(1-p)/n1)\n",
    "sigma_x2 = np.sqrt(p*(1-p)/n2)\n",
    "sigma_x3 = np.sqrt(p*(1-p)/n3)\n",
    "print('For the first sampling, the standard deviation of the sample means is ',np.round(sigma_x1,2))\n",
    "print('For the second sampling, the standard deviation of the sample means is ',np.round(sigma_x2,2))\n",
    "print('For the third sampling, the standard deviation of the sample means is ',np.round(sigma_x3,2))"
   ]
  },
  {
   "cell_type": "markdown",
   "id": "431be545-a5c5-4e1d-bf9e-4dcff07f7963",
   "metadata": {},
   "source": [
    "#### Listing 12.8"
   ]
  },
  {
   "cell_type": "code",
   "execution_count": null,
   "id": "be18f994",
   "metadata": {},
   "outputs": [],
   "source": [
    "#Listing 12.8\n",
    "import numpy as np\n",
    "from scipy.stats import norm, t\n",
    "import matplotlib.pyplot as plt\n",
    "\n",
    "x = np.linspace(-5, 5, 1000)\n",
    "plt.plot(x, norm.pdf(x), label='Normal distribution')\n",
    "\n",
    "line_styles = ['--', '-.', ':']\n",
    "dfs = [1, 5, 20]\n",
    "\n",
    "for df, line in zip(dfs, line_styles):\n",
    "    plt.plot(x, t.pdf(x, df), linestyle=line, label=f't distribution: df={df}')\n",
    "\n",
    "plt.legend()\n",
    "plt.grid(True)\n",
    "plt.xlabel(r'$x$ value')\n",
    "plt.ylabel('Probability Density')\n",
    "plt.savefig('normal_t_distributions.eps', format='eps', dpi=600)\n"
   ]
  },
  {
   "cell_type": "markdown",
   "id": "4ac68245-2229-49b8-9b7e-f1ec84c5a1a7",
   "metadata": {},
   "source": [
    "#### Listing 12.9"
   ]
  },
  {
   "cell_type": "code",
   "execution_count": null,
   "id": "c27daac1",
   "metadata": {},
   "outputs": [],
   "source": [
    "#Listing 12.9\n",
    "import numpy as np\n",
    "from scipy.stats import chi2\n",
    "import matplotlib.pyplot as plt\n",
    "\n",
    "chi2_value = np.linspace(0, 10, 100)\n",
    "line_styles = ['-','--', '-.', ':']\n",
    "dfs = [1, 2, 5, 10]\n",
    "\n",
    "for df, line in zip(dfs, line_styles):\n",
    "    plt.plot(chi2_value, chi2.pdf(chi2_value, df), linestyle=line, label=f'df={df}')\n",
    "\n",
    "plt.legend()\n",
    "plt.grid(True)\n",
    "plt.xlabel(r'$\\chi^2$ value')\n",
    "plt.ylabel('Probability Density')\n",
    "plt.savefig(\"chi_square_distributions.eps\", format='eps', dpi=600)"
   ]
  },
  {
   "cell_type": "markdown",
   "id": "0f6ffc54-51ba-4c68-834a-249985b22814",
   "metadata": {},
   "source": [
    "#### Listing 12.10"
   ]
  },
  {
   "cell_type": "code",
   "execution_count": null,
   "id": "d12e0a0a",
   "metadata": {},
   "outputs": [],
   "source": [
    "#Listing 12.10\n",
    "from scipy.stats import norm\n",
    "\n",
    "confidence = 0.95\n",
    "\n",
    "n1, n2 = 10, 50\n",
    "small_sample =norm.rvs(size=n1, random_state=421)\n",
    "large_sample =norm.rvs(size=n2, random_state=421)"
   ]
  },
  {
   "cell_type": "markdown",
   "id": "1b1894a3-f8c6-415f-8e0b-0246582c2869",
   "metadata": {},
   "source": [
    "#### Listing 12.11"
   ]
  },
  {
   "cell_type": "code",
   "execution_count": null,
   "id": "122873b4",
   "metadata": {},
   "outputs": [],
   "source": [
    "#Listing 12.11\n",
    "def confidence_interval_mean(mu, std_err, sample_size, confidence):  \n",
    "    lower_ci = mu - norm.ppf((1 + confidence) / 2) * std_err\n",
    "    upper_ci = mu + norm.ppf((1 + confidence) / 2) * std_err\n",
    "    return lower_ci,  upper_ci"
   ]
  },
  {
   "cell_type": "markdown",
   "id": "73f1721a-6844-45bc-a308-6dd89f82e6cf",
   "metadata": {},
   "source": [
    "#### Listing 12.12"
   ]
  },
  {
   "cell_type": "code",
   "execution_count": null,
   "id": "88da98e0",
   "metadata": {},
   "outputs": [],
   "source": [
    "#Listing 12.12\n",
    "import numpy as np\n",
    "\n",
    "mu_small_sample = np.mean(small_sample)\n",
    "std_err_small_sample = np.std(small_sample,ddof=1) / np.sqrt(n1)\n",
    "lower_ci,  upper_ci = confidence_interval_mean(mu_small_sample, std_err_small_sample, n1, confidence)\n",
    "print('Small sample (n=10) CI: ({:.3f}, {:.3f})'.format(lower_ci,  upper_ci))\n",
    "\n",
    "mu_large_sample = np.mean(large_sample)\n",
    "std_err_large_sample = np.std(large_sample, ddof=1) / np.sqrt(n2)\n",
    "lower_ci,  upper_ci = confidence_interval_mean(mu_large_sample, std_err_large_sample, n2, confidence)\n",
    "print('Large sample (n=50) CI: ({:.3f}, {:.3f})'.format(lower_ci,  upper_ci))"
   ]
  },
  {
   "cell_type": "markdown",
   "id": "07772a63-b957-457d-bcdd-1691572ffafa",
   "metadata": {},
   "source": [
    "#### Listing 12.13"
   ]
  },
  {
   "cell_type": "code",
   "execution_count": null,
   "id": "5bdfb597",
   "metadata": {},
   "outputs": [],
   "source": [
    "#Listing 12.13\n",
    "ci_z_small = norm.interval(confidence=confidence, loc=np.mean(small_sample), scale=np.std(small_sample,ddof=1)/np.sqrt(n1)) \n",
    "print('Small sample (n=10) CI: ({:.3f}, {:.3f})'.format(ci_z_small[0], ci_z_small[1]))\n",
    "ci_z_large = norm.interval(confidence=0.95, loc=np.mean(large_sample), scale=np.std(large_sample, ddof=1)/np.sqrt(n2)) \n",
    "print('Large sample (n=50) CI: ({:.3f}, {:.3f})'.format(ci_z_large[0], ci_z_large[1]))"
   ]
  },
  {
   "cell_type": "markdown",
   "id": "1acd4934-4023-450a-91fc-dd48d602181b",
   "metadata": {},
   "source": [
    "#### Listing 12.14"
   ]
  },
  {
   "cell_type": "code",
   "execution_count": null,
   "id": "8e957b12",
   "metadata": {},
   "outputs": [],
   "source": [
    "#Listing 12.14\n",
    "import numpy as np\n",
    "from scipy.stats import norm\n",
    "\n",
    "events_interest, sample_size = 696, 1000\n",
    "confidence = 0.99\n",
    "sample_prop = events_interest/sample_size\n",
    "print('Proportion in sample = ',sample_prop)\n",
    "std_err = np.sqrt(sample_prop * (1-sample_prop)/sample_size)\n",
    "ci_z_prop = (sample_prop - norm.ppf((1 + confidence) / 2) * std_err, sample_prop + norm.ppf((1 + confidence) / 2) * std_err)\n",
    "print('Proportion CI is ({:.3f}, {:.3f})'.format(ci_z_prop[0], ci_z_prop[1]))\n"
   ]
  },
  {
   "cell_type": "markdown",
   "id": "e8892394-9a1b-45e2-b531-b3e2680b88ba",
   "metadata": {},
   "source": [
    "#### Listing 12.15 - confidence intervals for proportions"
   ]
  },
  {
   "cell_type": "code",
   "execution_count": null,
   "id": "0a7b134a",
   "metadata": {},
   "outputs": [],
   "source": [
    "#Listing 12.15 - confidence intervals for proportions\n",
    "from scipy.stats import binomtest\n",
    "\n",
    "print('Proportion in sample = ',696/1000)\n",
    "result = binomtest(k=696, n=1000, p=0.5)\n",
    "ci_lower, ci_upper = result.proportion_ci(confidence_level=0.99)\n",
    "print('Proportion CI is ({:.3f}, {:.3f})'.format(np.round(ci_lower,3), np.round(ci_upper,3)))"
   ]
  },
  {
   "cell_type": "markdown",
   "id": "127cef0a-f575-4058-86e2-66b5c72e41ff",
   "metadata": {},
   "source": [
    "#### Listing 12.16 - Confidence interval for Chi-square"
   ]
  },
  {
   "cell_type": "code",
   "execution_count": null,
   "id": "29f367d8",
   "metadata": {},
   "outputs": [],
   "source": [
    "#Listing 12.16 - Confidence interval for Chi-square\n",
    "import numpy as np\n",
    "from scipy.stats import chi2\n",
    "              \n",
    "sample_size = 30           \n",
    "sigma2 = 12.5 **2 \n",
    "print('Sample variance is ', sigma2)\n",
    "alpha = 0.1 \n",
    "df = sample_size - 1                 \n",
    "\n",
    "upper = (sample_size-1) * sigma2 / chi2.ppf(alpha/2, df)\n",
    "lower = (sample_size-1) * sigma2 / chi2.ppf(1-alpha/2, df)\n",
    "print('CI of variance using chi-square distribution:\\n ({:.3f}, {:.3f})'.format(lower, upper))"
   ]
  },
  {
   "cell_type": "markdown",
   "id": "1dcd673f-f2ce-4bde-82ba-1410d4731c36",
   "metadata": {},
   "source": [
    "#### Listing 12.17"
   ]
  },
  {
   "cell_type": "code",
   "execution_count": null,
   "id": "cf924108",
   "metadata": {},
   "outputs": [],
   "source": [
    "#Listing 12.17\n",
    "from scipy.stats import chi2\n",
    "\n",
    "df = 6  \n",
    "p = 0.95 \n",
    "\n",
    "critical_value = chi2.ppf(p, df)\n",
    "print('Critical value at p=0.95 is {}.'.format(critical_value))\n",
    "prob = chi2.cdf(critical_value, df)\n",
    "print('CDF at the critical value is {}.'.format(prob))"
   ]
  },
  {
   "cell_type": "markdown",
   "id": "134b9dba-fa27-4f8f-8942-d848ef8a9308",
   "metadata": {},
   "source": [
    "#### Listing 12.18 - Student's t test"
   ]
  },
  {
   "cell_type": "code",
   "execution_count": null,
   "id": "94aa325d",
   "metadata": {},
   "outputs": [],
   "source": [
    "#Listing 12.18 - Student's t test\n",
    "import numpy as np  \n",
    "from scipy.stats import t, ttest_1samp \n",
    "\n",
    "mu = 4\n",
    "sample = np.array([4.2, 4.2, 4.4, 4.3, 4.3, 4.0, 4.2, 4.1, 4.3, 3.9, 4.3, 4.2, 3.8, 4.3, 4.5])\n",
    "sample_size = len(sample)\n",
    "df, sl = sample_size - 1, 0.05\n",
    "print('The sample mean={:.2f}, the sample std={:.2f}.'.format(np.mean(sample),np.std(sample)))\n",
    "t_stat_1 = (np.mean(sample) - mu)/(np.std(sample,ddof=1)/np.sqrt(sample_size))\n",
    "print('t-statistic = ', t_stat_1) \n",
    "critical_t_stat = t.ppf(1-sl/2, df)\n",
    "print('critical-t-statistic = ', critical_t_stat)\n",
    "if t_stat_1 > 0:\n",
    "    probability = 2 * (1 - t.cdf(t_stat_1, df))\n",
    "else:\n",
    "    probability = 2 * t.cdf(t_stat_1, df)\n",
    "print('probability = ', probability)\n",
    "if t_stat_1 < critical_t_stat and t_stat_1 > -critical_t_stat:\n",
    "    print('Do not reject the null hypothesis')\n",
    "else:\n",
    "    print('Reject the null hypothesis')\n",
    "\n",
    "t_stat2, p_val = ttest_1samp(a=sample, popmean = mu)\n",
    "print('t-statistic = ', t_stat2)  \n",
    "print('p-value = ', p_val) "
   ]
  },
  {
   "cell_type": "markdown",
   "id": "73814a09-df76-4332-988f-6a30965a902f",
   "metadata": {},
   "source": [
    "#### Listing 12.19 - Difference between means of two samples"
   ]
  },
  {
   "cell_type": "code",
   "execution_count": null,
   "id": "0fe3845f",
   "metadata": {},
   "outputs": [],
   "source": [
    "#Listing 12.19 - Difference between means of two samples\n",
    "import numpy as np  \n",
    "from scipy.stats import t, ttest_ind_from_stats \n",
    "\n",
    "sample_size_1, sample_size_2 = 16, 15 \n",
    "mu_1, mu_2 = 65, 60\n",
    "std_1, std_2 = 7, 13\n",
    "df, sl = sample_size_1 + sample_size_2 - 2, 0.05\n",
    "sigma = np.sqrt(((sample_size_1-1)*std_1**2 + (sample_size_2-1)*std_2**2)/df)\n",
    "t_stat_1 = (mu_1 - mu_2)/(sigma * np.sqrt(1/sample_size_1 + 1/sample_size_2))\n",
    "print('t-statistic = ', t_stat_1) \n",
    "critical_t_stat = t.ppf(1-sl/2, df)\n",
    "print('critical-t-statistic = ', critical_t_stat)\n",
    "if t_stat_1 > 0:\n",
    "    probability = 2 * (1 - t.cdf(t_stat_1, df))\n",
    "else:\n",
    "    probability = 2 * t.cdf(t_stat_1, df)\n",
    "print('probability = ', probability)\n",
    "if probability > sl:\n",
    "    print('Do not reject the null hypothesis')\n",
    "else:\n",
    "    print('Reject the null hypothesis')\n",
    "\n",
    "t_stat_2, p_val = ttest_ind_from_stats(mean1=mu_1, std1=std_1, nobs1=sample_size_1,\n",
    "                     mean2=mu_2, std2=std_2, nobs2=sample_size_2) \n",
    "print('t-statistic = ', t_stat_2)  \n",
    "print('p-value = ', p_val)"
   ]
  },
  {
   "cell_type": "markdown",
   "id": "6567597f-40c7-4dda-965b-d2cae1635eee",
   "metadata": {},
   "source": [
    "#### Listing 12.20 - Chi-square test - one way"
   ]
  },
  {
   "cell_type": "code",
   "execution_count": null,
   "id": "f57477fb",
   "metadata": {},
   "outputs": [],
   "source": [
    "#Listing 12.20 - Chi-square test - one way\n",
    "import numpy as np\n",
    "from scipy.stats import chi2, chisquare\n",
    "\n",
    "f_obs = np.array([35, 45, 32, 48, 38, 42]) \n",
    "f_exp = np.sum(f_obs)/len(f_obs)\n",
    "print('The expected frequency is:', f_exp)\n",
    "chi2_stat = np.sum(((f_obs - f_exp) ** 2) / f_exp)\n",
    "print('The Chi-square statistic = ', chi2_stat)\n",
    "df = len(f_obs)-1\n",
    "probability = 1 - chi2.cdf(chi2_stat, df)\n",
    "print('probability = ', probability)\n",
    "sl = 0.05\n",
    "if probability > sl:\n",
    "    print('Do not reject the null hypothesis')\n",
    "else:\n",
    "    print('Reject the null hypothesis')\n",
    "\n",
    "results = chisquare(f_obs)\n",
    "print('The Chi-square statistic = ', results.statistic)\n",
    "print('probability = ', results.pvalue)"
   ]
  },
  {
   "cell_type": "markdown",
   "id": "0381edfc-2789-49fd-9b2c-8f6b03e14ca7",
   "metadata": {},
   "source": [
    "#### Listing 12.21 - Chi-square test for two-way table"
   ]
  },
  {
   "cell_type": "code",
   "execution_count": null,
   "id": "3eca87c7",
   "metadata": {},
   "outputs": [],
   "source": [
    "#Listing 12.21 - Chi-square test for two-way table\n",
    "import numpy as np\n",
    "from scipy.stats import chi2_contingency\n",
    "\n",
    "obs = np.array([[5, 30, 5], [3, 15, 2]])\n",
    "sl = 0.05\n",
    "res = chi2_contingency(obs)\n",
    "print('The expected frequencies are:\\n',res.expected_freq)\n",
    "print('The chi-square test statistic = ',res.statistic)\n",
    "print('The degrees of freedom = ',res.dof)\n",
    "print('The p-value = ',res.pvalue)\n",
    "if res.pvalue > sl:\n",
    "    print('Do not reject the null hypothesis')\n",
    "else:\n",
    "    print('Reject the null hypothesis')"
   ]
  },
  {
   "cell_type": "code",
   "execution_count": null,
   "id": "7a133e81",
   "metadata": {},
   "outputs": [],
   "source": []
  }
 ],
 "metadata": {
  "kernelspec": {
   "display_name": "Python 3 (ipykernel)",
   "language": "python",
   "name": "python3"
  },
  "language_info": {
   "codemirror_mode": {
    "name": "ipython",
    "version": 3
   },
   "file_extension": ".py",
   "mimetype": "text/x-python",
   "name": "python",
   "nbconvert_exporter": "python",
   "pygments_lexer": "ipython3",
   "version": "3.11.5"
  }
 },
 "nbformat": 4,
 "nbformat_minor": 5
}
