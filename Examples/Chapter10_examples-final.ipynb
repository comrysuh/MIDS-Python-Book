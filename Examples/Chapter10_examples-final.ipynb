{
 "cells": [
  {
   "cell_type": "markdown",
   "id": "ea6fba02-75d4-485c-98ed-e680617a9134",
   "metadata": {},
   "source": [
    "#### Listing 10.1"
   ]
  },
  {
   "cell_type": "code",
   "execution_count": null,
   "id": "70bd4d05",
   "metadata": {},
   "outputs": [],
   "source": [
    "#Listing 10.1\n",
    "import numpy as np\n",
    "import scipy.special \n",
    "\n",
    "num1 = 3 \n",
    "Factorials1 = np.math.factorial(num1)\n",
    "print('The factorial of 3 is {}.'.format(Factorials1))\n",
    "Factorials2 = scipy.special.factorial(num1)\n",
    "print('The factorial of 3 is {}.'.format(Factorials2))\n",
    "Factorials3 = scipy.special.factorial(num1, exact = True)\n",
    "print('The factorial of 3 is {}.'.format(Factorials3))\n",
    "\n",
    "num2 = np.arange(5)\n",
    "print('Values in num2 are:\\n', num2)\n",
    "Factorials3 = scipy.special.factorial(num2, exact=True) \n",
    "print('Their factorials of num2 are {}, respectively.'.format(Factorials3))"
   ]
  },
  {
   "cell_type": "markdown",
   "id": "3119f769-edac-4d7d-b0f3-5d7503b62288",
   "metadata": {},
   "source": [
    "#### Listing 10.2"
   ]
  },
  {
   "cell_type": "code",
   "execution_count": null,
   "id": "15feac8b",
   "metadata": {},
   "outputs": [],
   "source": [
    "#Listing 10.2\n",
    "from scipy.special import perm, comb, factorial\n",
    "\n",
    "n = 5\n",
    "r = 2\n",
    "p1 = perm(n, r, exact=True)\n",
    "print('The number of two digits if we take any two numbers\\n from five without repetition is {}.'.format(p1))\n",
    "p2 = n**r\n",
    "print('The number of two digits if we take any two numbers\\n from five with repetition is {}.'.format(p2))\n",
    "\n",
    "c1 = comb(n, r, exact=True, repetition=False)\n",
    "print('The number of combinations if we take any two numbers\\n from five without repetition is {}.'.format(c1))\n",
    "c2 = factorial(n)/(factorial(n-r) * factorial(r))\n",
    "print('The number of combinations if we take any two numbers\\n from five without repetition using a formula for combinations is {}.'.format(int(c2)))\n",
    "\n",
    "c3 = comb(n, r, exact=True, repetition=True)\n",
    "print('The number of combinations if we take any two numbers\\n from five with repetition is {}.'.format(c3))\n",
    "c4 = factorial(n+r-1)/(factorial(n-1) * factorial(r))\n",
    "print('The number of combinations if we take any two numbers\\n from five with repetition using a formula for combinations is {}.'.format(int(c4)))"
   ]
  },
  {
   "cell_type": "markdown",
   "id": "b044d081-219a-4a22-9f96-d91670dbd5a2",
   "metadata": {},
   "source": [
    "#### Listing 10.3"
   ]
  },
  {
   "cell_type": "code",
   "execution_count": null,
   "id": "388e0b42",
   "metadata": {},
   "outputs": [],
   "source": [
    "#Listing 10.3\n",
    "import numpy as np\n",
    "from sympy import FiniteSet\n",
    "S = FiniteSet(1, 2, 3, 4, 5, 6)\n",
    "a = FiniteSet(2, 4, 6)\n",
    "b = FiniteSet(3, 5)\n",
    "c = FiniteSet(2, 3, 5)\n",
    "\n",
    "aUb = a.union(b)\n",
    "p_aUb = len(aUb)/len(S)\n",
    "aIc = a.intersect(c)\n",
    "p_aIc = len(aIc)/len(S)\n",
    "\n",
    "print('The probability of seeing any of an even number of dots, \\n 3 dots, or 5 dots is: {}.'.format(np.round(p_aUb,2)))\n",
    "print('The probability of seeing a number of dots that is both prime \\n and even is: {}.'.format(np.round(p_aIc,2)))\n"
   ]
  },
  {
   "cell_type": "markdown",
   "id": "aa811c58-d500-49c2-b714-76de6c66c0dd",
   "metadata": {},
   "source": [
    "#### Listing 10.4"
   ]
  },
  {
   "cell_type": "code",
   "execution_count": null,
   "id": "4161c015",
   "metadata": {},
   "outputs": [],
   "source": [
    "#Listing 10.4\n",
    "import numpy as np\n",
    "from scipy.special import perm\n",
    "\n",
    "S_size = 6**3\n",
    "print('The size of the sample space is: {}.'.format(S_size))\n",
    "perm_n_k = perm(6,3,exact = True)\n",
    "print('The number of permutations of picking 3 out 6 items \\n without repetition is: {}.'.format(perm_n_k))\n",
    "P = perm_n_k/S_size\n",
    "print('The probability of getting three different numbers is: {}.'.format(np.round(P,2)))\n"
   ]
  },
  {
   "cell_type": "markdown",
   "id": "5a676f48-34c6-4647-8419-90d09d5b5945",
   "metadata": {},
   "source": [
    "#### Listing 10.5"
   ]
  },
  {
   "cell_type": "code",
   "execution_count": null,
   "id": "c7c39e4c",
   "metadata": {},
   "outputs": [],
   "source": [
    "#Listing 10.5\n",
    "from sympy.stats import Coin, density\n",
    "\n",
    "c1, c2, c3 = Coin('C1'), Coin('C2'), Coin('C3', p=1/3)\n",
    "prob_mass = density(c1+c2+c3).dict\n",
    "rounded_prob_mass = {key: round(value, 5) for key, value in prob_mass.items()} \n",
    "print('The density function is given as follows:\\n',rounded_prob_mass)\n",
    "print('The total probability is',sum(rounded_prob_mass.values()))"
   ]
  },
  {
   "cell_type": "markdown",
   "id": "d32a71d3-ca61-4502-aa3e-b51dfcddbef9",
   "metadata": {},
   "source": [
    "#### Listing 10.6"
   ]
  },
  {
   "cell_type": "code",
   "execution_count": null,
   "id": "ed85e658",
   "metadata": {},
   "outputs": [],
   "source": [
    "#Listing 10.6\n",
    "from sympy.stats import FiniteRV, P\n",
    "from sympy import Rational\n",
    "\n",
    "pmf = {0: Rational(1, 8), 1: Rational(3, 8), 2: Rational(3, 8), 3: Rational(1, 8)}\n",
    "X = FiniteRV('X', pmf)\n",
    "print('The probability of getting a value less than 3 is: ', P(X<3))"
   ]
  },
  {
   "cell_type": "code",
   "execution_count": null,
   "id": "89cca873-4cac-44a2-98f6-3bb3afa579e0",
   "metadata": {},
   "outputs": [],
   "source": [
    "#### Listing 10.7"
   ]
  },
  {
   "cell_type": "code",
   "execution_count": null,
   "id": "eb87be70",
   "metadata": {},
   "outputs": [],
   "source": [
    "#Listing 10.7\n",
    "from sympy import symbols, integrate, Piecewise\n",
    "\n",
    "x, t = symbols('x t')\n",
    "\n",
    "F_x = Piecewise(\n",
    "    (0, x <= 0),\n",
    "    (integrate(8*t**7, (t, 0, x)), (x > 0) & (x < 1)),\n",
    "    (1, x >= 1)\n",
    ")\n",
    "F_x"
   ]
  },
  {
   "cell_type": "markdown",
   "id": "73b56e38-6c35-4d22-b54d-861e08a6b286",
   "metadata": {},
   "source": [
    "#### Listing 10.8"
   ]
  },
  {
   "cell_type": "code",
   "execution_count": null,
   "id": "8e61a674",
   "metadata": {},
   "outputs": [],
   "source": [
    "#Listing 10.8\n",
    "from sympy import symbols, pi, cos, integrate, Piecewise\n",
    "\n",
    "x, t = symbols('x t')\n",
    "\n",
    "F_x = Piecewise(\n",
    "    (0, x <= -pi/2),\n",
    "    (integrate(cos(t)/2, (t, -pi/2, x)), (x > -pi/2) & (x < pi/2)),\n",
    "    (1, x >= pi/2)\n",
    ")\n",
    "\n",
    "F_x"
   ]
  },
  {
   "cell_type": "markdown",
   "id": "1fbade23-97ec-4be5-b6b4-897a9fc602c4",
   "metadata": {},
   "source": [
    "#### Listing 10.9"
   ]
  },
  {
   "cell_type": "code",
   "execution_count": null,
   "id": "dd9156a5",
   "metadata": {},
   "outputs": [],
   "source": [
    "#Listing 10.9\n",
    "from sympy.stats import FiniteRV, E, Die\n",
    "\n",
    "X = FiniteRV('X', {0: 35/84, 1: 42/84, 2: 7/84})\n",
    "expected_value1 = E(X)\n",
    "print('The expected value computed from SymPy is', expected_value1)\n",
    "expected_value2 = 0*35/84 + 1 * 42/84 + 2*7/84\n",
    "print('The calculated expected-value is', expected_value2)\n",
    "\n",
    "D = Die('D6', 6)\n",
    "expected_valueD1 = E(D)\n",
    "print('The expected value of a fair six-sided die computed from SymPy is',expected_valueD1)\n",
    "expected_valueD2 = 1*(1/6) + 2*(1/6) + 3*(1/6) + 4*(1/6) + 5*(1/6) + 6*(1/6) \n",
    "print('The calculated expected-value of a fair six-sided die is', expected_valueD2)"
   ]
  },
  {
   "cell_type": "code",
   "execution_count": null,
   "id": "5c6f6f8f-8dca-4acc-b3ae-7a4758db974e",
   "metadata": {},
   "outputs": [],
   "source": [
    "#Listing 10.9 - extra\n",
    "import sympy as sp\n",
    "expected_value1 = E(X)\n",
    "print('The expected value computed from SymPy is', sp.N(expected_value1,2))"
   ]
  },
  {
   "cell_type": "markdown",
   "id": "4c7b6786-53cf-4a4a-ac78-615e4a2b763f",
   "metadata": {},
   "source": [
    "#### Listing 10.10"
   ]
  },
  {
   "cell_type": "code",
   "execution_count": null,
   "id": "00bb3198",
   "metadata": {},
   "outputs": [],
   "source": [
    "#Listing 10.10\n",
    "from sympy.stats import ContinuousRV, E\n",
    "from sympy import symbols, Interval,integrate\n",
    "\n",
    "x = symbols('x')\n",
    "f_x = 1  \n",
    "X = ContinuousRV(x, f_x, Interval(0, 1))\n",
    "\n",
    "expected_value1 = E(X)\n",
    "print('The expected value computed from SymPy is ', expected_value1)\n",
    "\n",
    "expected_value2 = integrate(x*f_x, (x, 0, 1))\n",
    "print('The calculated expected value is ', expected_value2)"
   ]
  },
  {
   "cell_type": "markdown",
   "id": "b1b6b92d-5c4c-4b5a-9c4e-787f445d3f7e",
   "metadata": {},
   "source": [
    "#### Listing 10.11"
   ]
  },
  {
   "cell_type": "code",
   "execution_count": null,
   "id": "8be42e52",
   "metadata": {},
   "outputs": [],
   "source": [
    "#Listing 10.11\n",
    "from sympy import symbols\n",
    "from sympy.stats import FiniteRV, E\n",
    "\n",
    "X1 = FiniteRV('X1', {1: 1/3, 2: 2/3})\n",
    "X2 = FiniteRV('X2', {1: 1/2, 2: 1/2})\n",
    "X3 = FiniteRV('X3', {1: 1/3, 2: 1/2, 3: 1/6})\n",
    "X4 = FiniteRV('X4', {2: 1/3, 3: 1/3, 4: 1/3})\n",
    "a = symbols('a')\n",
    "\n",
    "print('E(X1)={:.2f}'.format(E(X1)))\n",
    "print('E(X2)={:.2f}'.format(E(X2)))\n",
    "print('E(X3)={:.2f}'.format(E(X3)))\n",
    "print('E(X4)={:.2f}'.format(E(X4)))\n",
    "print('E(a)=', E(a))\n",
    "print('E(aX1)={}, which is equal to a*E(X1)={}'.format(E(a*X1), a*E(X1)))\n",
    "print('E(a+X1)={}, \\n which is equal to a+E(X1)={}'.format(E(a+X1), a+E(X1)))\n",
    "print('E(X1+X2+X3+X4)={:.2f}, which is equal to E(X1)+E(X2)+E(X3)+E(X4)={:.2f}'.format(E(X1+X2+X3+X4), E(X1)+E(X2)+E(X3)+E(X4)))\n",
    "print('E(X3*X4)={:.2f}, which is equal to E(X3)E(X4)={:.2f}'.format(E(X3*X4), E(X3)*E(X4)))\n"
   ]
  },
  {
   "cell_type": "markdown",
   "id": "e48858b4-2162-4076-a204-d93dc7bf4f6e",
   "metadata": {},
   "source": [
    "#### Listing 10.12"
   ]
  },
  {
   "cell_type": "code",
   "execution_count": null,
   "id": "d7bc1f12",
   "metadata": {},
   "outputs": [],
   "source": [
    "#Listing 10.12\n",
    "from sympy import symbols, integrate, Interval\n",
    "from sympy.stats import FiniteRV, ContinuousRV, E, variance\n",
    "\n",
    "X = FiniteRV('X', {1: 1/3, 2: 2/3})\n",
    "varX1 = variance(X)\n",
    "print('The variance of X computed from SymPy is ', varX1)\n",
    "\n",
    "expected_valueX = E(X)\n",
    "varX2 = (1-expected_valueX)**2*1/3+(2-expected_valueX)**2*2/3\n",
    "print('The calculated variance of X is ', varX2)\n",
    "\n",
    "y = symbols('y')\n",
    "f_y = 2  \n",
    "Y = ContinuousRV(y, f_y, Interval(0, 0.5))\n",
    "\n",
    "varY1 = variance(Y)\n",
    "print('The variance of Y computed from SymPy is ', varY1)\n",
    "expected_valueY = integrate(y*f_y, (y, 0, 0.5))\n",
    "varY2 = integrate((y-expected_valueY)**2*f_y, (y, 0, 0.5))\n",
    "print('The calculated variance of Y value is ', varY2)\n"
   ]
  },
  {
   "cell_type": "markdown",
   "id": "e2d8965e-a4b7-4b8f-9dd0-2759a14b5aa3",
   "metadata": {},
   "source": [
    "#### Listing 10.13"
   ]
  },
  {
   "cell_type": "code",
   "execution_count": null,
   "id": "967f9c84",
   "metadata": {},
   "outputs": [],
   "source": [
    "#Listing 10.13\n",
    "from sympy import symbols\n",
    "from sympy.stats import FiniteRV, variance\n",
    "\n",
    "a, b = symbols('a b')\n",
    "\n",
    "X1 = FiniteRV('X1', {1: 1/3, 2: 2/3})\n",
    "X2 = FiniteRV('X2', {1: 1/2, 2: 1/2})\n",
    "\n",
    "print('Variance(X1)={:.2f}'.format(variance(X1)))\n",
    "print('Variance(X2)={:.2f}'.format(variance(X2)))\n",
    "print('Variance(a)=', variance(a))\n",
    "print('Variance(a*X1 + b)={}, \\n which is equal to a**2*Variance(X1)={}'.format(variance(a*X1 + b),a**2*variance(X1)))\n",
    "print('Variance(X1+X2)={:.2f}, which is equal to Variance(X1)+Variance(X2)={:.2f}'.format(variance(X1+X2), variance(X1)+variance(X2)))"
   ]
  },
  {
   "cell_type": "markdown",
   "id": "1944c0fe-cbb1-4ed3-849d-7ddf69ead49e",
   "metadata": {},
   "source": [
    "#### Listing 10.14"
   ]
  },
  {
   "cell_type": "code",
   "execution_count": null,
   "id": "a5651383",
   "metadata": {},
   "outputs": [],
   "source": [
    "#Listing 10.14\n",
    "from sympy.stats import DiscreteUniform, E, variance\n",
    "from sympy import symbols, simplify\n",
    "\n",
    "a, b = symbols('a b')\n",
    "X = DiscreteUniform('x', [a, b])\n",
    "\n",
    "mean_X = E(X)\n",
    "variance_X = variance(X)\n",
    "sim_variance_X = simplify(variance(X))\n",
    "print('The mean of X is', mean_X)\n",
    "print('The variance of X is', variance_X)\n",
    "print('The simplified variance of X is', sim_variance_X)\n"
   ]
  },
  {
   "cell_type": "markdown",
   "id": "1e641ad8-11f4-4515-9504-2f131024d537",
   "metadata": {},
   "source": [
    "#### Listing 10.15 - Discrete Uniform Distribution in SciPy"
   ]
  },
  {
   "cell_type": "code",
   "execution_count": null,
   "id": "8d394498",
   "metadata": {},
   "outputs": [],
   "source": [
    "#Listing 10.15\n",
    "from scipy.stats import randint\n",
    "import matplotlib.pyplot as plt\n",
    "\n",
    "low = 1 \n",
    "high = 7  \n",
    "X = randint(low, high)\n",
    "\n",
    "pmf_value = X.pmf(3)  \n",
    "print('The probability mass function of the discrete \\n random variable X at the value of 3 is: ', pmf_value)\n",
    "cdf_value = X.cdf(3)  \n",
    "print('The cumulative distribution function of the discrete \\n random variable X at the value of 3 is: ', cdf_value)\n",
    "\n",
    "sample = X.rvs(size=20, random_state=421)  \n",
    "fig, ax = plt.subplots(1,1)\n",
    "ax.hist(sample, density=False, histtype='stepfilled')\n",
    "ax.set_xlabel('X')\n",
    "ax.set_ylabel('Frequency')\n",
    "ax.grid(True)\n",
    "fig.savefig('Discrete Uniform.eps', dpi=600)"
   ]
  },
  {
   "cell_type": "markdown",
   "id": "8ffe69f6-46d3-4203-92fd-427557927465",
   "metadata": {},
   "source": [
    "#### Listing 10.16 - Bernoulli Distribution"
   ]
  },
  {
   "cell_type": "code",
   "execution_count": null,
   "id": "0ac451b2-9617-491c-953d-fcdf60d51091",
   "metadata": {},
   "outputs": [],
   "source": [
    "#Listing 10.16\n",
    "from sympy import symbols, simplify\n",
    "from sympy.stats import Bernoulli, E, variance, P\n",
    "\n",
    "p = symbols('p')\n",
    "X = Bernoulli('X', p)\n",
    "\n",
    "print('E(X) = ', E(X)) \n",
    "print('Var(X) = ', simplify(variance(X)))  \n",
    "print('The probability: P(X>0) is ', P(X>0))  \n",
    "print('The probability: P(X<1) is ', P(X<1)) \n"
   ]
  },
  {
   "cell_type": "markdown",
   "id": "30d4458a-44df-40c7-ae18-142360341f95",
   "metadata": {},
   "source": [
    "#### Listing 10.17 - Bernoulli Distribution"
   ]
  },
  {
   "cell_type": "code",
   "execution_count": null,
   "id": "f7a868db-16b3-42e5-bf8d-b898e3974439",
   "metadata": {},
   "outputs": [],
   "source": [
    "#Listing 10.17\n",
    "from scipy.stats import bernoulli\n",
    "import numpy as np\n",
    "import matplotlib.pyplot as plt\n",
    "\n",
    "p = 0.3\n",
    "X = bernoulli(p)\n",
    "\n",
    "print('The probability of X taking the value of 1 is:', X.pmf(1))  \n",
    "print('The probability of X taking the value of 0 is:', X.pmf(0))  \n",
    " \n",
    "sample = X.rvs(size=20, random_state=421)\n",
    "print('The empirical mean of the sampled data is', np.mean(sample))\n",
    "print('The empirical variance of the sampled data is', np.var(sample))\n",
    "fig, ax = plt.subplots(1,1)\n",
    "ax.hist(sample, density=False, histtype='stepfilled')\n",
    "ax.set_xlabel('X')\n",
    "ax.set_ylabel('Frequency')\n",
    "ax.grid(True)\n",
    "fig.savefig('Bernoulli.eps', dpi=600)"
   ]
  },
  {
   "cell_type": "markdown",
   "id": "76d6fb9f-b18b-4c9a-a423-b15b17e7fa40",
   "metadata": {},
   "source": [
    "#### Listing 10.18 - Binomial Distribution"
   ]
  },
  {
   "cell_type": "code",
   "execution_count": null,
   "id": "5a458c56",
   "metadata": {},
   "outputs": [],
   "source": [
    "#Listing 10.18\n",
    "from sympy.stats import Binomial, E, density\n",
    "from sympy import symbols, simplify\n",
    "\n",
    "n, p = symbols('n p')\n",
    "X = Binomial('x', n, p)\n",
    "\n",
    "EX = simplify(E(X))\n",
    "EX"
   ]
  },
  {
   "cell_type": "code",
   "execution_count": null,
   "id": "d52a2273",
   "metadata": {},
   "outputs": [],
   "source": [
    "### Listing 10.18 continued\n",
    "EX_value = EX.subs({n: 3, p: 0.5}) \n",
    "EX_value"
   ]
  },
  {
   "cell_type": "code",
   "execution_count": null,
   "id": "ec12ee5c",
   "metadata": {},
   "outputs": [],
   "source": [
    "### Listing 10.18 - continued further\n",
    "pmf_expr = density(X)\n",
    "pmf_expr(2)  "
   ]
  },
  {
   "cell_type": "code",
   "execution_count": null,
   "id": "8daf3dc8-2f57-4a99-b57c-fbdf793831b2",
   "metadata": {},
   "outputs": [],
   "source": [
    "#Listing 10.18 - more\n",
    "from sympy.stats import variance\n",
    "\n",
    "variance_X = variance(X)\n",
    "sim_variance_X = simplify(variance(X))\n",
    "sim_variance_X"
   ]
  },
  {
   "cell_type": "markdown",
   "id": "be9e538a-7d9c-4c90-abd3-14d50b084438",
   "metadata": {},
   "source": [
    "#### Listing 10.19 - Binomial Distribution in SciPy"
   ]
  },
  {
   "cell_type": "code",
   "execution_count": null,
   "id": "21bab271",
   "metadata": {},
   "outputs": [],
   "source": [
    "#Listing 10.19\n",
    "from scipy.stats import binom\n",
    "import matplotlib.pyplot as plt\n",
    "import numpy as np\n",
    "\n",
    "n = 6 \n",
    "p = 0.5  \n",
    "X = binom(n, p)\n",
    "pmf_value = X.pmf(2)  \n",
    "print('The value of the probability mass function at X=2 is', np.round(pmf_value,2))\n",
    "cdf_value = X.cdf(2) \n",
    "print('The value of the cumulative distribution function at X=2 is', np.round(cdf_value,2))\n",
    "\n",
    "sample = X.rvs(size=20, random_state=421)  \n",
    "fig, ax = plt.subplots(1,1)\n",
    "ax.hist(sample, density=False, histtype='stepfilled')\n",
    "ax.set_xlabel('X')\n",
    "ax.set_ylabel('Frequency')\n",
    "ax.grid(True)\n",
    "fig.savefig('Binomial.eps', dpi=600)"
   ]
  },
  {
   "cell_type": "markdown",
   "id": "cc97d499-c93f-45d5-b3e2-5f10d51f9439",
   "metadata": {},
   "source": [
    "#### Listing 10.20 - Poisson Distribution"
   ]
  },
  {
   "cell_type": "code",
   "execution_count": null,
   "id": "67e8211b",
   "metadata": {},
   "outputs": [],
   "source": [
    "#Listing 10.20\n",
    "from sympy import symbols\n",
    "from sympy.stats import Poisson, E, variance, density\n",
    "\n",
    "lamda = symbols('lamda')\n",
    "X = Poisson('x', lamda)\n",
    "\n",
    "print('The expectation of X is', E(X))  \n",
    "print('The variance of X is', variance(X))  \n",
    "\n",
    "pmf_X = density(X)\n",
    "pmf_X(2) "
   ]
  },
  {
   "cell_type": "markdown",
   "id": "62c251b8-3c37-4137-ac07-c945b009a921",
   "metadata": {},
   "source": [
    "#### Listing 10.21 - Poisson Distribution in SciPy"
   ]
  },
  {
   "cell_type": "code",
   "execution_count": null,
   "id": "6860a19d",
   "metadata": {},
   "outputs": [],
   "source": [
    "#Listing 10.21\n",
    "from scipy.stats import poisson\n",
    "import matplotlib.pyplot as plt\n",
    "import numpy as np\n",
    "\n",
    "lamda = 3  \n",
    "X = poisson(lamda)\n",
    "pmf_value = X.pmf(2) \n",
    "print('The value of the probability mass function at X=2 is', np.round(pmf_value,2))\n",
    "cdf_value = X.cdf(2) \n",
    "print('The value of the cumulative distribution function at X=2 is', np.round(cdf_value,2))\n",
    "\n",
    "sample = X.rvs(size=20, random_state=421)  \n",
    "print('The empirical mean of the sampled data is', np.mean(sample))\n",
    "print('The empirical variance of the sampled data is', np.var(sample))\n",
    "fig, ax = plt.subplots(1,1)\n",
    "ax.hist(sample, density=False, histtype='stepfilled')\n",
    "ax.set_xlabel('X')\n",
    "ax.set_ylabel('Frequency')\n",
    "ax.grid(True)\n",
    "fig.savefig('Poisson.eps', dpi=600)"
   ]
  },
  {
   "cell_type": "markdown",
   "id": "b126fe61-8034-4649-ad46-a55039a0b9e2",
   "metadata": {},
   "source": [
    "#### Listing 10.22 - Continuous Uniform Distribution"
   ]
  },
  {
   "cell_type": "code",
   "execution_count": null,
   "id": "f85006ee",
   "metadata": {},
   "outputs": [],
   "source": [
    "#Listing 10.22\n",
    "from sympy import symbols, simplify\n",
    "from sympy.stats import Uniform, E, variance, density, cdf\n",
    "\n",
    "a, b = symbols('a b')\n",
    "X = Uniform('x', a, b)\n",
    "\n",
    "print('E(X) is ', E(X))  \n",
    "print('Var(X) is ', simplify(variance(X)))  \n",
    "\n",
    "density(X)  "
   ]
  },
  {
   "cell_type": "code",
   "execution_count": null,
   "id": "17eef72d",
   "metadata": {},
   "outputs": [],
   "source": [
    "### Listing 10.22 - Continued\n",
    "\n",
    "cdf(X)"
   ]
  },
  {
   "cell_type": "markdown",
   "id": "714fae25-dbd7-4f1b-ad90-ca3f3000fa19",
   "metadata": {},
   "source": [
    "#### Listing 10.23 - Continuous Uniform Distribution"
   ]
  },
  {
   "cell_type": "code",
   "execution_count": null,
   "id": "bd7a1f2a",
   "metadata": {
    "scrolled": true
   },
   "outputs": [],
   "source": [
    "#Listing 10.23\n",
    "from scipy.stats import uniform\n",
    "import numpy as np\n",
    "import matplotlib.pyplot as plt\n",
    "\n",
    "a = 0  \n",
    "b = 10  \n",
    "X = uniform(loc=a, scale=b-a)\n",
    "pdf_value = X.pdf(5)  \n",
    "print('The value of the probability density function at X = 5 is', np.round(pdf_value,2))\n",
    "cdf_value = X.cdf(5)  \n",
    "print('The cumulative distribution function value at X = 5 is:', np.round(cdf_value,2))\n",
    "\n",
    "sample = X.rvs(size=1000, random_state= 421)  \n",
    "fig, ax = plt.subplots(1,1)\n",
    "ax.hist(sample, density=False, histtype='stepfilled')\n",
    "ax.set_xlabel('X')\n",
    "ax.set_ylabel('Frequency')\n",
    "ax.grid(True)\n",
    "fig.savefig('Uniform.eps', dpi=600)"
   ]
  },
  {
   "cell_type": "markdown",
   "id": "e1708c20-fbf4-4c25-9689-c6dc36f9e5dd",
   "metadata": {},
   "source": [
    "#### Listing 10.24 - Normal Distribution"
   ]
  },
  {
   "cell_type": "code",
   "execution_count": null,
   "id": "ee5ccb8c",
   "metadata": {},
   "outputs": [],
   "source": [
    "#Listing 10.24\n",
    "from sympy import Symbol, simplify\n",
    "from sympy.stats import Normal, E, variance, density\n",
    "\n",
    "x1 = Symbol('x1')\n",
    "mu = Symbol('mu')\n",
    "sigma = Symbol('sigma', positive=True)\n",
    "X = Normal('x', mu, sigma)\n",
    "\n",
    "print('E(X) is', E(X))  \n",
    "print('Var(X) is', simplify(variance(X)))  \n",
    "print('The probability density function of the random variable X is \\n', density(X))\n",
    "density(X)(x1)"
   ]
  },
  {
   "cell_type": "markdown",
   "id": "90f8478b-e038-490b-898c-badfa83bb207",
   "metadata": {},
   "source": [
    "#### Listing 10.25 - Normal Distribution"
   ]
  },
  {
   "cell_type": "code",
   "execution_count": null,
   "id": "6d8e3b48",
   "metadata": {},
   "outputs": [],
   "source": [
    "#Listing 10.25\n",
    "from scipy.stats import norm\n",
    "import numpy as np\n",
    "import matplotlib.pyplot as plt\n",
    "\n",
    "means = [0, 0, 0, -1]\n",
    "stds = [1, 2, 0.5, 0.3]\n",
    "num = 100000\n",
    "\n",
    "for mean, std in zip(means, stds): \n",
    "    G = norm(mean, std)\n",
    "    x = G.rvs(size=num, random_state=421)\n",
    "    x_sorted = np.sort(x)\n",
    "    pdf_x = G.pdf(x_sorted)\n",
    "    plt.plot(x_sorted, pdf_x, label=f'Mean={mean}, Std={std}')\n",
    "\n",
    "plt.xlabel('X')\n",
    "plt.ylabel('Probability Density')\n",
    "plt.legend()\n",
    "plt.grid(True)\n",
    "plt.savefig('4_normal_dist.eps', dpi=600)"
   ]
  },
  {
   "cell_type": "markdown",
   "id": "2a3177b5-e2a8-43c8-8df4-2005f8b6d1cd",
   "metadata": {},
   "source": [
    "#### Listing 10.26 - Normal Distribution"
   ]
  },
  {
   "cell_type": "code",
   "execution_count": null,
   "id": "3d8e999a",
   "metadata": {},
   "outputs": [],
   "source": [
    "#Listing 10.26\n",
    "from scipy.stats import norm\n",
    "import numpy as np\n",
    "import matplotlib.pyplot as plt\n",
    "\n",
    "rv = norm() \n",
    "\n",
    "x1 = rv.rvs(size=1000, random_state=11)\n",
    "x1_sorted = np.sort(x1)\n",
    "\n",
    "fig, ax = plt.subplots(1, 1)\n",
    "ax.plot(x1_sorted, rv.pdf(x1_sorted), 'k-', lw=2, label='frozen pdf')\n",
    "handles, labels = ax.get_legend_handles_labels()\n",
    "ax.legend(handles, labels)\n",
    "\n",
    "x2 = norm.rvs(loc=0, scale=2, size=1000, random_state=421)\n",
    "ax.hist(x2, density=True, histtype='stepfilled')\n",
    "ax.set_xlabel('x')\n",
    "ax.set_ylabel('PDF')\n",
    "ax.set_xlim([-7, 7])\n",
    "\n",
    "x1_num_1_std = np.sum((x1 >= -1) & (x1 <= 1))\n",
    "x2_num_1_std = np.sum((x2 >= -2) & (x2 <= 2))\n",
    "print('The count of values within one standard deviation of x1 is \\n', x1_num_1_std)\n",
    "print('The count of values within one standard deviation of x2 is \\n', x2_num_1_std)\n",
    "fig.savefig('Normal_1std.eps', dpi=600)"
   ]
  },
  {
   "cell_type": "markdown",
   "id": "829466c0-266f-4ba2-ad87-c6c0fbbfeba9",
   "metadata": {},
   "source": [
    "#### Listing 10.27 - Normal Distribution"
   ]
  },
  {
   "cell_type": "code",
   "execution_count": null,
   "id": "d7202a5d",
   "metadata": {},
   "outputs": [],
   "source": [
    "#Listing 10.27\n",
    "import scipy.stats as stats\n",
    "\n",
    "mu = 10\n",
    "sigma = 2\n",
    "\n",
    "x1 = 8\n",
    "x2 = 12\n",
    "\n",
    "phi_x1 = stats.norm.cdf((x1 - mu) / sigma)\n",
    "phi_x2 = stats.norm.cdf((x2 - mu) / sigma)\n",
    "probability = phi_x2 - phi_x1\n",
    "print(f\"P({x1} < X < {x2}) = {probability:.4f}\")\n"
   ]
  }
 ],
 "metadata": {
  "kernelspec": {
   "display_name": "Python 3 (ipykernel)",
   "language": "python",
   "name": "python3"
  },
  "language_info": {
   "codemirror_mode": {
    "name": "ipython",
    "version": 3
   },
   "file_extension": ".py",
   "mimetype": "text/x-python",
   "name": "python",
   "nbconvert_exporter": "python",
   "pygments_lexer": "ipython3",
   "version": "3.11.7"
  }
 },
 "nbformat": 4,
 "nbformat_minor": 5
}
